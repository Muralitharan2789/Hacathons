{
 "cells": [
  {
   "cell_type": "code",
   "execution_count": 1,
   "metadata": {},
   "outputs": [],
   "source": [
    "import numpy as np\n",
    "import pandas as pd\n",
    "import matplotlib.pyplot as plt\n",
    "import seaborn as sns\n",
    "import lightgbm as lgb\n",
    "import sklearn\n",
    "from sklearn.preprocessing import LabelEncoder, OneHotEncoder\n",
    "from sklearn.model_selection import StratifiedKFold\n",
    "from sklearn.model_selection import train_test_split\n",
    "%matplotlib inline"
   ]
  },
  {
   "cell_type": "code",
   "execution_count": 2,
   "metadata": {},
   "outputs": [],
   "source": [
    "import warnings\n",
    "warnings.simplefilter(action='ignore', category=FutureWarning)"
   ]
  },
  {
   "cell_type": "code",
   "execution_count": 3,
   "metadata": {},
   "outputs": [],
   "source": [
    "train=pd.read_csv('train_Wc8LBpr.csv')\n",
    "test=pd.read_csv('test_VsU9xXK.csv')\n",
    "sample=pd.read_csv('sample_submission_NoPBkjr.csv')"
   ]
  },
  {
   "cell_type": "code",
   "execution_count": 4,
   "metadata": {},
   "outputs": [
    {
     "name": "stdout",
     "output_type": "stream",
     "text": [
      "train dataset is of shape:  (131662, 14)\n",
      "test dataset is of shape:  (87395, 13)\n",
      "sample dataset is of shape:  (87395, 2)\n"
     ]
    }
   ],
   "source": [
    "print(\"train dataset is of shape: \", train.shape)\n",
    "print(\"test dataset is of shape: \", test.shape)\n",
    "print(\"sample dataset is of shape: \", sample.shape)"
   ]
  },
  {
   "cell_type": "code",
   "execution_count": 5,
   "metadata": {},
   "outputs": [
    {
     "data": {
      "text/html": [
       "<div>\n",
       "<style scoped>\n",
       "    .dataframe tbody tr th:only-of-type {\n",
       "        vertical-align: middle;\n",
       "    }\n",
       "\n",
       "    .dataframe tbody tr th {\n",
       "        vertical-align: top;\n",
       "    }\n",
       "\n",
       "    .dataframe thead th {\n",
       "        text-align: right;\n",
       "    }\n",
       "</style>\n",
       "<table border=\"1\" class=\"dataframe\">\n",
       "  <thead>\n",
       "    <tr style=\"text-align: right;\">\n",
       "      <th></th>\n",
       "      <th>Trip_ID</th>\n",
       "      <th>Trip_Distance</th>\n",
       "      <th>Type_of_Cab</th>\n",
       "      <th>Customer_Since_Months</th>\n",
       "      <th>Life_Style_Index</th>\n",
       "      <th>Confidence_Life_Style_Index</th>\n",
       "      <th>Destination_Type</th>\n",
       "      <th>Customer_Rating</th>\n",
       "      <th>Cancellation_Last_1Month</th>\n",
       "      <th>Var1</th>\n",
       "      <th>Var2</th>\n",
       "      <th>Var3</th>\n",
       "      <th>Gender</th>\n",
       "      <th>Surge_Pricing_Type</th>\n",
       "    </tr>\n",
       "  </thead>\n",
       "  <tbody>\n",
       "    <tr>\n",
       "      <th>0</th>\n",
       "      <td>T0005689460</td>\n",
       "      <td>6.77</td>\n",
       "      <td>B</td>\n",
       "      <td>1.0</td>\n",
       "      <td>2.42769</td>\n",
       "      <td>A</td>\n",
       "      <td>A</td>\n",
       "      <td>3.90500</td>\n",
       "      <td>0</td>\n",
       "      <td>40.0</td>\n",
       "      <td>46</td>\n",
       "      <td>60</td>\n",
       "      <td>Female</td>\n",
       "      <td>2</td>\n",
       "    </tr>\n",
       "    <tr>\n",
       "      <th>1</th>\n",
       "      <td>T0005689461</td>\n",
       "      <td>29.47</td>\n",
       "      <td>B</td>\n",
       "      <td>10.0</td>\n",
       "      <td>2.78245</td>\n",
       "      <td>B</td>\n",
       "      <td>A</td>\n",
       "      <td>3.45000</td>\n",
       "      <td>0</td>\n",
       "      <td>38.0</td>\n",
       "      <td>56</td>\n",
       "      <td>78</td>\n",
       "      <td>Male</td>\n",
       "      <td>2</td>\n",
       "    </tr>\n",
       "    <tr>\n",
       "      <th>2</th>\n",
       "      <td>T0005689464</td>\n",
       "      <td>41.58</td>\n",
       "      <td>NaN</td>\n",
       "      <td>10.0</td>\n",
       "      <td>NaN</td>\n",
       "      <td>NaN</td>\n",
       "      <td>E</td>\n",
       "      <td>3.50125</td>\n",
       "      <td>2</td>\n",
       "      <td>NaN</td>\n",
       "      <td>56</td>\n",
       "      <td>77</td>\n",
       "      <td>Male</td>\n",
       "      <td>2</td>\n",
       "    </tr>\n",
       "    <tr>\n",
       "      <th>3</th>\n",
       "      <td>T0005689465</td>\n",
       "      <td>61.56</td>\n",
       "      <td>C</td>\n",
       "      <td>10.0</td>\n",
       "      <td>NaN</td>\n",
       "      <td>NaN</td>\n",
       "      <td>A</td>\n",
       "      <td>3.45375</td>\n",
       "      <td>0</td>\n",
       "      <td>NaN</td>\n",
       "      <td>52</td>\n",
       "      <td>74</td>\n",
       "      <td>Male</td>\n",
       "      <td>3</td>\n",
       "    </tr>\n",
       "    <tr>\n",
       "      <th>4</th>\n",
       "      <td>T0005689467</td>\n",
       "      <td>54.95</td>\n",
       "      <td>C</td>\n",
       "      <td>10.0</td>\n",
       "      <td>3.03453</td>\n",
       "      <td>B</td>\n",
       "      <td>A</td>\n",
       "      <td>3.40250</td>\n",
       "      <td>4</td>\n",
       "      <td>51.0</td>\n",
       "      <td>49</td>\n",
       "      <td>102</td>\n",
       "      <td>Male</td>\n",
       "      <td>2</td>\n",
       "    </tr>\n",
       "  </tbody>\n",
       "</table>\n",
       "</div>"
      ],
      "text/plain": [
       "       Trip_ID  Trip_Distance Type_of_Cab  Customer_Since_Months  \\\n",
       "0  T0005689460           6.77           B                    1.0   \n",
       "1  T0005689461          29.47           B                   10.0   \n",
       "2  T0005689464          41.58         NaN                   10.0   \n",
       "3  T0005689465          61.56           C                   10.0   \n",
       "4  T0005689467          54.95           C                   10.0   \n",
       "\n",
       "   Life_Style_Index Confidence_Life_Style_Index Destination_Type  \\\n",
       "0           2.42769                           A                A   \n",
       "1           2.78245                           B                A   \n",
       "2               NaN                         NaN                E   \n",
       "3               NaN                         NaN                A   \n",
       "4           3.03453                           B                A   \n",
       "\n",
       "   Customer_Rating  Cancellation_Last_1Month  Var1  Var2  Var3  Gender  \\\n",
       "0          3.90500                         0  40.0    46    60  Female   \n",
       "1          3.45000                         0  38.0    56    78    Male   \n",
       "2          3.50125                         2   NaN    56    77    Male   \n",
       "3          3.45375                         0   NaN    52    74    Male   \n",
       "4          3.40250                         4  51.0    49   102    Male   \n",
       "\n",
       "   Surge_Pricing_Type  \n",
       "0                   2  \n",
       "1                   2  \n",
       "2                   2  \n",
       "3                   3  \n",
       "4                   2  "
      ]
     },
     "execution_count": 5,
     "metadata": {},
     "output_type": "execute_result"
    }
   ],
   "source": [
    "train.head()"
   ]
  },
  {
   "cell_type": "code",
   "execution_count": 6,
   "metadata": {},
   "outputs": [
    {
     "data": {
      "text/plain": [
       "Trip_ID                        131662\n",
       "Type_of_Cab                         6\n",
       "Confidence_Life_Style_Index         4\n",
       "Destination_Type                   14\n",
       "Gender                              2\n",
       "dtype: int64"
      ]
     },
     "execution_count": 6,
     "metadata": {},
     "output_type": "execute_result"
    }
   ],
   "source": [
    "train.select_dtypes(include='object').apply(lambda x: (len(x.unique()))) "
   ]
  },
  {
   "cell_type": "code",
   "execution_count": 7,
   "metadata": {},
   "outputs": [
    {
     "data": {
      "text/plain": [
       "Trip_ID                        87395\n",
       "Type_of_Cab                        6\n",
       "Confidence_Life_Style_Index        4\n",
       "Destination_Type                  14\n",
       "Gender                             2\n",
       "dtype: int64"
      ]
     },
     "execution_count": 7,
     "metadata": {},
     "output_type": "execute_result"
    }
   ],
   "source": [
    "test.select_dtypes(include='object').apply(lambda x: (len(x.unique()))) "
   ]
  },
  {
   "cell_type": "markdown",
   "metadata": {},
   "source": [
    "##### It;s evidence that there is no difference in the data of categories in trian and test dataset"
   ]
  },
  {
   "cell_type": "code",
   "execution_count": 8,
   "metadata": {},
   "outputs": [
    {
     "data": {
      "text/html": [
       "<div>\n",
       "<style scoped>\n",
       "    .dataframe tbody tr th:only-of-type {\n",
       "        vertical-align: middle;\n",
       "    }\n",
       "\n",
       "    .dataframe tbody tr th {\n",
       "        vertical-align: top;\n",
       "    }\n",
       "\n",
       "    .dataframe thead th {\n",
       "        text-align: right;\n",
       "    }\n",
       "</style>\n",
       "<table border=\"1\" class=\"dataframe\">\n",
       "  <thead>\n",
       "    <tr style=\"text-align: right;\">\n",
       "      <th></th>\n",
       "      <th>Train_Null_Values</th>\n",
       "      <th>Test_Null_Values</th>\n",
       "      <th>Data_Type</th>\n",
       "    </tr>\n",
       "  </thead>\n",
       "  <tbody>\n",
       "    <tr>\n",
       "      <th>Trip_ID</th>\n",
       "      <td>0</td>\n",
       "      <td>0.0</td>\n",
       "      <td>object</td>\n",
       "    </tr>\n",
       "    <tr>\n",
       "      <th>Trip_Distance</th>\n",
       "      <td>0</td>\n",
       "      <td>0.0</td>\n",
       "      <td>float64</td>\n",
       "    </tr>\n",
       "    <tr>\n",
       "      <th>Type_of_Cab</th>\n",
       "      <td>20210</td>\n",
       "      <td>13158.0</td>\n",
       "      <td>object</td>\n",
       "    </tr>\n",
       "    <tr>\n",
       "      <th>Customer_Since_Months</th>\n",
       "      <td>5920</td>\n",
       "      <td>3966.0</td>\n",
       "      <td>float64</td>\n",
       "    </tr>\n",
       "    <tr>\n",
       "      <th>Life_Style_Index</th>\n",
       "      <td>20193</td>\n",
       "      <td>13327.0</td>\n",
       "      <td>float64</td>\n",
       "    </tr>\n",
       "    <tr>\n",
       "      <th>Confidence_Life_Style_Index</th>\n",
       "      <td>20193</td>\n",
       "      <td>13327.0</td>\n",
       "      <td>object</td>\n",
       "    </tr>\n",
       "    <tr>\n",
       "      <th>Destination_Type</th>\n",
       "      <td>0</td>\n",
       "      <td>0.0</td>\n",
       "      <td>object</td>\n",
       "    </tr>\n",
       "    <tr>\n",
       "      <th>Customer_Rating</th>\n",
       "      <td>0</td>\n",
       "      <td>0.0</td>\n",
       "      <td>float64</td>\n",
       "    </tr>\n",
       "    <tr>\n",
       "      <th>Cancellation_Last_1Month</th>\n",
       "      <td>0</td>\n",
       "      <td>0.0</td>\n",
       "      <td>int64</td>\n",
       "    </tr>\n",
       "    <tr>\n",
       "      <th>Var1</th>\n",
       "      <td>71030</td>\n",
       "      <td>46789.0</td>\n",
       "      <td>float64</td>\n",
       "    </tr>\n",
       "    <tr>\n",
       "      <th>Var2</th>\n",
       "      <td>0</td>\n",
       "      <td>0.0</td>\n",
       "      <td>int64</td>\n",
       "    </tr>\n",
       "    <tr>\n",
       "      <th>Var3</th>\n",
       "      <td>0</td>\n",
       "      <td>0.0</td>\n",
       "      <td>int64</td>\n",
       "    </tr>\n",
       "    <tr>\n",
       "      <th>Gender</th>\n",
       "      <td>0</td>\n",
       "      <td>0.0</td>\n",
       "      <td>object</td>\n",
       "    </tr>\n",
       "    <tr>\n",
       "      <th>Surge_Pricing_Type</th>\n",
       "      <td>0</td>\n",
       "      <td>NaN</td>\n",
       "      <td>int64</td>\n",
       "    </tr>\n",
       "  </tbody>\n",
       "</table>\n",
       "</div>"
      ],
      "text/plain": [
       "                             Train_Null_Values  Test_Null_Values Data_Type\n",
       "Trip_ID                                      0               0.0    object\n",
       "Trip_Distance                                0               0.0   float64\n",
       "Type_of_Cab                              20210           13158.0    object\n",
       "Customer_Since_Months                     5920            3966.0   float64\n",
       "Life_Style_Index                         20193           13327.0   float64\n",
       "Confidence_Life_Style_Index              20193           13327.0    object\n",
       "Destination_Type                             0               0.0    object\n",
       "Customer_Rating                              0               0.0   float64\n",
       "Cancellation_Last_1Month                     0               0.0     int64\n",
       "Var1                                     71030           46789.0   float64\n",
       "Var2                                         0               0.0     int64\n",
       "Var3                                         0               0.0     int64\n",
       "Gender                                       0               0.0    object\n",
       "Surge_Pricing_Type                           0               NaN     int64"
      ]
     },
     "execution_count": 8,
     "metadata": {},
     "output_type": "execute_result"
    }
   ],
   "source": [
    "d1=train.isnull().sum().to_frame().rename(columns={0: \"Train_Null_Values\"})\n",
    "d2=test.isnull().sum().to_frame().rename(columns={0: \"Test_Null_Values\"})\n",
    "d3=train.dtypes.to_frame().rename(columns={0: \"Data_Type\"})\n",
    "pd.concat([d1, d2,d3], axis=1)"
   ]
  },
  {
   "cell_type": "markdown",
   "metadata": {},
   "source": [
    "#### EDA"
   ]
  },
  {
   "cell_type": "markdown",
   "metadata": {},
   "source": [
    "##### Target Exploration"
   ]
  },
  {
   "cell_type": "code",
   "execution_count": 9,
   "metadata": {},
   "outputs": [
    {
     "data": {
      "text/plain": [
       "2    56728\n",
       "3    47720\n",
       "1    27214\n",
       "Name: Surge_Pricing_Type, dtype: int64"
      ]
     },
     "execution_count": 9,
     "metadata": {},
     "output_type": "execute_result"
    }
   ],
   "source": [
    "train['Surge_Pricing_Type'].value_counts()"
   ]
  },
  {
   "cell_type": "code",
   "execution_count": 10,
   "metadata": {},
   "outputs": [
    {
     "data": {
      "text/plain": [
       "<matplotlib.axes._subplots.AxesSubplot at 0x25470c780b8>"
      ]
     },
     "execution_count": 10,
     "metadata": {},
     "output_type": "execute_result"
    },
    {
     "data": {
      "image/png": "[encoded data removed]",
      "text/plain": [
       "<Figure size 432x288 with 1 Axes>"
      ]
     },
     "metadata": {
      "needs_background": "light"
     },
     "output_type": "display_data"
    }
   ],
   "source": [
    "sns.countplot(train[\"Surge_Pricing_Type\"])"
   ]
  },
  {
   "cell_type": "markdown",
   "metadata": {},
   "source": [
    "##### Univariate Analysis"
   ]
  },
  {
   "cell_type": "code",
   "execution_count": 11,
   "metadata": {},
   "outputs": [
    {
     "name": "stdout",
     "output_type": "stream",
     "text": [
      "combine dataset is of shape:  (219057, 14)\n"
     ]
    }
   ],
   "source": [
    "combine = train.append(test,sort=False)\n",
    "print(\"combine dataset is of shape: \", combine.shape)"
   ]
  },
  {
   "cell_type": "code",
   "execution_count": 12,
   "metadata": {},
   "outputs": [
    {
     "data": {
      "text/plain": [
       "Index(['Trip_Distance', 'Customer_Since_Months', 'Life_Style_Index',\n",
       "       'Customer_Rating', 'Cancellation_Last_1Month', 'Var1', 'Var2', 'Var3',\n",
       "       'Surge_Pricing_Type'],\n",
       "      dtype='object')"
      ]
     },
     "execution_count": 12,
     "metadata": {},
     "output_type": "execute_result"
    }
   ],
   "source": [
    "cat_col = combine.dtypes.loc[combine.dtypes!='object'].index\n",
    "cat_col"
   ]
  },
  {
   "cell_type": "code",
   "execution_count": 13,
   "metadata": {},
   "outputs": [
    {
     "data": {
      "text/plain": [
       "<matplotlib.axes._subplots.AxesSubplot at 0x25471605f28>"
      ]
     },
     "execution_count": 13,
     "metadata": {},
     "output_type": "execute_result"
    },
    {
     "data": {
      "image/png": "[encoded data removed]",
      "text/plain": [
       "<Figure size 1584x720 with 4 Axes>"
      ]
     },
     "metadata": {
      "needs_background": "light"
     },
     "output_type": "display_data"
    }
   ],
   "source": [
    "plt.figure(figsize=(22, 10))\n",
    "plt.subplot(221)\n",
    "sns.countplot(combine['Type_of_Cab'],order = combine['Type_of_Cab'].value_counts(dropna=False).index)\n",
    "plt.subplot(222)\n",
    "sns.countplot(combine['Confidence_Life_Style_Index'],order = combine['Confidence_Life_Style_Index'].value_counts(dropna=False).index)\n",
    "plt.subplot(223)\n",
    "sns.countplot(combine['Destination_Type'],order = combine['Destination_Type'].value_counts(dropna=False).index)\n",
    "plt.subplot(224)\n",
    "sns.countplot(combine['Gender'],order = combine['Gender'].value_counts(dropna=False).index)"
   ]
  },
  {
   "cell_type": "code",
   "execution_count": 14,
   "metadata": {},
   "outputs": [
    {
     "data": {
      "text/plain": [
       "<matplotlib.axes._subplots.AxesSubplot at 0x25471cddd68>"
      ]
     },
     "execution_count": 14,
     "metadata": {},
     "output_type": "execute_result"
    },
    {
     "data": {
      "image/png": "[encoded data removed]",
      "text/plain": [
       "<Figure size 1584x432 with 2 Axes>"
      ]
     },
     "metadata": {
      "needs_background": "light"
     },
     "output_type": "display_data"
    }
   ],
   "source": [
    "plt.figure(figsize=(22, 6))\n",
    "plt.subplot(121)\n",
    "sns.countplot(combine['Customer_Since_Months'],order = combine['Customer_Since_Months'].value_counts(dropna=False).index)\n",
    "plt.subplot(122)\n",
    "sns.countplot(combine['Cancellation_Last_1Month'],order = combine['Cancellation_Last_1Month'].value_counts(dropna=False).index)"
   ]
  },
  {
   "cell_type": "code",
   "execution_count": 15,
   "metadata": {},
   "outputs": [
    {
     "data": {
      "text/plain": [
       "<matplotlib.axes._subplots.AxesSubplot at 0x254739bbbe0>"
      ]
     },
     "execution_count": 15,
     "metadata": {},
     "output_type": "execute_result"
    },
    {
     "data": {
      "image/png": "[encoded data removed]",
      "text/plain": [
       "<Figure size 1584x432 with 2 Axes>"
      ]
     },
     "metadata": {
      "needs_background": "light"
     },
     "output_type": "display_data"
    }
   ],
   "source": [
    "plt.figure(figsize=(22, 6))\n",
    "plt.subplot(121)\n",
    "sns.distplot(combine['Customer_Rating'].dropna(),color='blue')\n",
    "plt.subplot(122)\n",
    "sns.distplot(combine['Life_Style_Index'].dropna(),color='darkgreen')"
   ]
  },
  {
   "cell_type": "code",
   "execution_count": 16,
   "metadata": {},
   "outputs": [
    {
     "data": {
      "text/plain": [
       "<matplotlib.axes._subplots.AxesSubplot at 0x25477939b00>"
      ]
     },
     "execution_count": 16,
     "metadata": {},
     "output_type": "execute_result"
    },
    {
     "data": {
      "image/png": "[encoded data removed]",
      "text/plain": [
       "<Figure size 1584x432 with 3 Axes>"
      ]
     },
     "metadata": {
      "needs_background": "light"
     },
     "output_type": "display_data"
    }
   ],
   "source": [
    "plt.figure(figsize=(22, 6))\n",
    "plt.subplot(131)\n",
    "sns.distplot(combine['Var1'].dropna())\n",
    "plt.subplot(132)\n",
    "sns.distplot(combine['Var2'])\n",
    "plt.subplot(133)\n",
    "sns.distplot(combine['Var3'])"
   ]
  },
  {
   "cell_type": "code",
   "execution_count": 17,
   "metadata": {},
   "outputs": [
    {
     "data": {
      "text/plain": [
       "<matplotlib.axes._subplots.AxesSubplot at 0x25477a38e10>"
      ]
     },
     "execution_count": 17,
     "metadata": {},
     "output_type": "execute_result"
    },
    {
     "data": {
      "image/png": "[encoded data removed]",
      "text/plain": [
       "<Figure size 1584x432 with 3 Axes>"
      ]
     },
     "metadata": {
      "needs_background": "light"
     },
     "output_type": "display_data"
    }
   ],
   "source": [
    "plt.figure(figsize=(22, 6))\n",
    "plt.subplot(131)\n",
    "sns.distplot(np.log(combine['Var1'].dropna()))\n",
    "plt.subplot(132)\n",
    "sns.distplot(np.log(combine['Var2']))\n",
    "plt.subplot(133)\n",
    "sns.distplot(np.log(combine['Var3']))"
   ]
  },
  {
   "cell_type": "code",
   "execution_count": 18,
   "metadata": {},
   "outputs": [],
   "source": [
    "combine['Var1'].fillna(int(combine['Var1'].mean()), inplace=True)\n",
    "combine['Var1']=np.log(combine['Var1'])\n",
    "combine['Var2']=np.log(combine['Var2'])\n",
    "combine['Var3']=np.log(combine['Var3'])"
   ]
  },
  {
   "cell_type": "code",
   "execution_count": 19,
   "metadata": {},
   "outputs": [],
   "source": [
    "combine = pd.concat([combine, pd.get_dummies(combine[\"Type_of_Cab\"], prefix=\"Cab_Type_\")], axis=1)"
   ]
  },
  {
   "cell_type": "code",
   "execution_count": 20,
   "metadata": {},
   "outputs": [
    {
     "data": {
      "text/plain": [
       "B    51585\n",
       "C    46732\n",
       "A    35878\n",
       "D    31885\n",
       "E    19609\n",
       "Name: Type_of_Cab, dtype: int64"
      ]
     },
     "execution_count": 20,
     "metadata": {},
     "output_type": "execute_result"
    }
   ],
   "source": [
    "combine.Type_of_Cab.value_counts()"
   ]
  },
  {
   "cell_type": "code",
   "execution_count": 21,
   "metadata": {},
   "outputs": [],
   "source": [
    "combine.drop('Cab_Type__E',1,inplace=True)"
   ]
  },
  {
   "cell_type": "code",
   "execution_count": 22,
   "metadata": {},
   "outputs": [],
   "source": [
    "combine = pd.concat([combine, pd.get_dummies(combine[\"Confidence_Life_Style_Index\"], prefix=\"CLSI_\")], axis=1)"
   ]
  },
  {
   "cell_type": "code",
   "execution_count": 23,
   "metadata": {},
   "outputs": [
    {
     "data": {
      "text/plain": [
       "B    67265\n",
       "C    59736\n",
       "A    58536\n",
       "Name: Confidence_Life_Style_Index, dtype: int64"
      ]
     },
     "execution_count": 23,
     "metadata": {},
     "output_type": "execute_result"
    }
   ],
   "source": [
    "combine.Confidence_Life_Style_Index.value_counts()"
   ]
  },
  {
   "cell_type": "code",
   "execution_count": 24,
   "metadata": {},
   "outputs": [],
   "source": [
    "combine.drop('CLSI__A',1,inplace=True)"
   ]
  },
  {
   "cell_type": "code",
   "execution_count": 25,
   "metadata": {},
   "outputs": [],
   "source": [
    "combine = pd.concat([combine, pd.get_dummies(combine[\"Destination_Type\"], prefix=\"DT_\")], axis=1)\n",
    "combine.drop('DT__N',1,inplace=True)"
   ]
  },
  {
   "cell_type": "code",
   "execution_count": 26,
   "metadata": {},
   "outputs": [
    {
     "data": {
      "text/plain": [
       "A    129010\n",
       "B     49193\n",
       "C     12397\n",
       "D     11085\n",
       "E      4549\n",
       "F      3222\n",
       "G      2513\n",
       "H      2124\n",
       "I      1334\n",
       "J      1166\n",
       "K      1102\n",
       "L      1052\n",
       "M       160\n",
       "N       150\n",
       "Name: Destination_Type, dtype: int64"
      ]
     },
     "execution_count": 26,
     "metadata": {},
     "output_type": "execute_result"
    }
   ],
   "source": [
    "combine.Destination_Type.value_counts()"
   ]
  },
  {
   "cell_type": "code",
   "execution_count": 27,
   "metadata": {},
   "outputs": [],
   "source": [
    "combine = pd.concat([combine, pd.get_dummies(combine[\"Gender\"], prefix=\"Gender_\")], axis=1)\n",
    "combine.drop('Gender__Female',1,inplace=True)"
   ]
  },
  {
   "cell_type": "code",
   "execution_count": 28,
   "metadata": {},
   "outputs": [
    {
     "data": {
      "text/plain": [
       "Male      156128\n",
       "Female     62929\n",
       "Name: Gender, dtype: int64"
      ]
     },
     "execution_count": 28,
     "metadata": {},
     "output_type": "execute_result"
    }
   ],
   "source": [
    "combine.Gender.value_counts()"
   ]
  },
  {
   "cell_type": "code",
   "execution_count": 29,
   "metadata": {},
   "outputs": [],
   "source": [
    "combine=combine.drop([\"Type_of_Cab\", \"Confidence_Life_Style_Index\", \"Destination_Type\", \"Gender\"],axis=1)"
   ]
  },
  {
   "cell_type": "code",
   "execution_count": 30,
   "metadata": {},
   "outputs": [],
   "source": [
    "train_cleaned = combine[:train.shape[0]]\n",
    "test_cleaned = combine[train.shape[0]:]"
   ]
  },
  {
   "cell_type": "code",
   "execution_count": 31,
   "metadata": {},
   "outputs": [],
   "source": [
    "target_map = {1:0, 2:1, 3:2}\n",
    "target_map_inverse = {0:1, 1:2, 2:3}"
   ]
  },
  {
   "cell_type": "code",
   "execution_count": 32,
   "metadata": {},
   "outputs": [
    {
     "name": "stderr",
     "output_type": "stream",
     "text": [
      "C:\\Users\\SJMB\\Anaconda3\\lib\\site-packages\\ipykernel_launcher.py:1: SettingWithCopyWarning: \n",
      "A value is trying to be set on a copy of a slice from a DataFrame.\n",
      "Try using .loc[row_indexer,col_indexer] = value instead\n",
      "\n",
      "See the caveats in the documentation: https://pandas.pydata.org/pandas-docs/stable/user_guide/indexing.html#returning-a-view-versus-a-copy\n",
      "  \"\"\"Entry point for launching an IPython kernel.\n"
     ]
    }
   ],
   "source": [
    "train_cleaned[\"Surge_Pricing_Type\"] = train_cleaned[\"Surge_Pricing_Type\"].map(target_map)"
   ]
  },
  {
   "cell_type": "code",
   "execution_count": 33,
   "metadata": {},
   "outputs": [],
   "source": [
    "X=train_cleaned.drop(['Surge_Pricing_Type','Trip_ID'],axis=1)\n",
    "y=train_cleaned['Surge_Pricing_Type']\n",
    "X_test=test_cleaned.drop(['Surge_Pricing_Type','Trip_ID'],axis=1)"
   ]
  },
  {
   "cell_type": "code",
   "execution_count": 34,
   "metadata": {},
   "outputs": [
    {
     "data": {
      "text/plain": [
       "((131662, 28), (131662,), (87395, 28))"
      ]
     },
     "execution_count": 34,
     "metadata": {},
     "output_type": "execute_result"
    }
   ],
   "source": [
    "X.shape, y.shape, X_test.shape"
   ]
  },
  {
   "cell_type": "code",
   "execution_count": 35,
   "metadata": {},
   "outputs": [],
   "source": [
    "from sklearn.model_selection import train_test_split\n",
    "x_train, x_val, y_train, y_val = train_test_split(X, y, test_size=0.2)"
   ]
  },
  {
   "cell_type": "code",
   "execution_count": 36,
   "metadata": {},
   "outputs": [
    {
     "name": "stdout",
     "output_type": "stream",
     "text": [
      "Training until validation scores don't improve for 100 rounds\n",
      "[200]\ttraining's multi_logloss: 0.695301\tvalid_1's multi_logloss: 0.709515\n",
      "[400]\ttraining's multi_logloss: 0.674483\tvalid_1's multi_logloss: 0.700874\n",
      "[600]\ttraining's multi_logloss: 0.66134\tvalid_1's multi_logloss: 0.699357\n",
      "Early stopping, best iteration is:\n",
      "[627]\ttraining's multi_logloss: 0.659771\tvalid_1's multi_logloss: 0.699249\n"
     ]
    }
   ],
   "source": [
    "from lightgbm import LGBMClassifier\n",
    "model = LGBMClassifier(boosting_type='gbdt',\n",
    "                       max_depth=5,\n",
    "                       learning_rate=0.05,\n",
    "                       n_estimators=5000,\n",
    "                       min_child_weight=0.01,\n",
    "                       colsample_bytree=0.5,\n",
    "                       random_state=1994,\n",
    "                       objective='multiclass')\n",
    "\n",
    "model.fit(x_train,y_train,\n",
    "          eval_set=[(x_train,y_train),(x_val, y_val.values)],\n",
    "          early_stopping_rounds=100,\n",
    "          verbose=200)\n",
    "\n",
    "pred_y = model.predict(x_val)"
   ]
  },
  {
   "cell_type": "code",
   "execution_count": 37,
   "metadata": {},
   "outputs": [
    {
     "name": "stdout",
     "output_type": "stream",
     "text": [
      "0.7019329358599476\n"
     ]
    },
    {
     "data": {
      "text/plain": [
       "array([[3153, 1652,  671],\n",
       "       [ 564, 8676, 2045],\n",
       "       [ 456, 2461, 6655]], dtype=int64)"
      ]
     },
     "execution_count": 37,
     "metadata": {},
     "output_type": "execute_result"
    }
   ],
   "source": [
    "from sklearn.metrics import accuracy_score, confusion_matrix\n",
    "print(accuracy_score(y_val, pred_y))\n",
    "confusion_matrix(y_val,pred_y)"
   ]
  },
  {
   "cell_type": "code",
   "execution_count": 38,
   "metadata": {},
   "outputs": [
    {
     "name": "stdout",
     "output_type": "stream",
     "text": [
      "Training until validation scores don't improve for 200 rounds\n",
      "[200]\ttraining's multi_logloss: 0.696391\tvalid_1's multi_logloss: 0.704303\n",
      "[400]\ttraining's multi_logloss: 0.67563\tvalid_1's multi_logloss: 0.695711\n",
      "[600]\ttraining's multi_logloss: 0.663008\tvalid_1's multi_logloss: 0.694258\n",
      "[800]\ttraining's multi_logloss: 0.652248\tvalid_1's multi_logloss: 0.694136\n",
      "Early stopping, best iteration is:\n",
      "[761]\ttraining's multi_logloss: 0.654283\tvalid_1's multi_logloss: 0.693999\n",
      "1  err_lgm:  0.7041734705502601\n",
      "Training until validation scores don't improve for 200 rounds\n",
      "[200]\ttraining's multi_logloss: 0.694946\tvalid_1's multi_logloss: 0.710025\n",
      "[400]\ttraining's multi_logloss: 0.674034\tvalid_1's multi_logloss: 0.701793\n",
      "[600]\ttraining's multi_logloss: 0.661127\tvalid_1's multi_logloss: 0.700594\n",
      "[800]\ttraining's multi_logloss: 0.650073\tvalid_1's multi_logloss: 0.700689\n",
      "Early stopping, best iteration is:\n",
      "[715]\ttraining's multi_logloss: 0.654638\tvalid_1's multi_logloss: 0.700533\n",
      "2  err_lgm:  0.6995405005126647\n",
      "Training until validation scores don't improve for 200 rounds\n",
      "[200]\ttraining's multi_logloss: 0.694992\tvalid_1's multi_logloss: 0.709838\n",
      "[400]\ttraining's multi_logloss: 0.674181\tvalid_1's multi_logloss: 0.701087\n",
      "[600]\ttraining's multi_logloss: 0.660821\tvalid_1's multi_logloss: 0.6995\n",
      "[800]\ttraining's multi_logloss: 0.649901\tvalid_1's multi_logloss: 0.69955\n",
      "Early stopping, best iteration is:\n",
      "[660]\ttraining's multi_logloss: 0.657411\tvalid_1's multi_logloss: 0.699419\n",
      "3  err_lgm:  0.69865562813307\n",
      "Training until validation scores don't improve for 200 rounds\n",
      "[200]\ttraining's multi_logloss: 0.694495\tvalid_1's multi_logloss: 0.711111\n",
      "[400]\ttraining's multi_logloss: 0.673457\tvalid_1's multi_logloss: 0.702942\n",
      "[600]\ttraining's multi_logloss: 0.660251\tvalid_1's multi_logloss: 0.701365\n",
      "[800]\ttraining's multi_logloss: 0.648898\tvalid_1's multi_logloss: 0.701204\n",
      "Early stopping, best iteration is:\n",
      "[694]\ttraining's multi_logloss: 0.654888\tvalid_1's multi_logloss: 0.70113\n",
      "4  err_lgm:  0.7007443414856448\n",
      "Training until validation scores don't improve for 200 rounds\n",
      "[200]\ttraining's multi_logloss: 0.69351\tvalid_1's multi_logloss: 0.715233\n",
      "[400]\ttraining's multi_logloss: 0.672262\tvalid_1's multi_logloss: 0.707272\n",
      "[600]\ttraining's multi_logloss: 0.659502\tvalid_1's multi_logloss: 0.705877\n",
      "[800]\ttraining's multi_logloss: 0.648133\tvalid_1's multi_logloss: 0.706024\n",
      "Early stopping, best iteration is:\n",
      "[611]\ttraining's multi_logloss: 0.65885\tvalid_1's multi_logloss: 0.705834\n",
      "5  err_lgm:  0.6999848093574358\n"
     ]
    }
   ],
   "source": [
    "err = []\n",
    "y_pred_tot_lgm = []\n",
    "from sklearn.model_selection import StratifiedKFold\n",
    "fold = StratifiedKFold(n_splits=5, shuffle=True, random_state=2020)\n",
    "i = 1\n",
    "for train_index, test_index in fold.split(X, y):\n",
    "    x_train, x_val = X.iloc[train_index], X.iloc[test_index]\n",
    "    \n",
    "    y_train, y_val = y[train_index], y[test_index]\n",
    "    \n",
    "    m = LGBMClassifier(boosting_type='gbdt',\n",
    "                       max_depth=5,\n",
    "                       learning_rate=0.05,\n",
    "                       n_estimators=5000,\n",
    "                       min_child_weight=0.01,\n",
    "                       colsample_bytree=0.5,\n",
    "                       random_state=1994,\n",
    "                       objective='multiclass')\n",
    "    \n",
    "    m.fit(x_train, y_train, eval_set=[(x_train,y_train),(x_val, y_val)],       early_stopping_rounds=200,        verbose=200)\n",
    "    \n",
    "    pred_y = m.predict(x_val)\n",
    "    \n",
    "    print(i, \" err_lgm: \", accuracy_score(y_val, pred_y))\n",
    "    \n",
    "    err.append(accuracy_score(y_val, pred_y))\n",
    "    \n",
    "    pred_test = m.predict(X_test)\n",
    "    \n",
    "    i = i + 1\n",
    "    \n",
    "    y_pred_tot_lgm.append(pred_test)"
   ]
  },
  {
   "cell_type": "code",
   "execution_count": 39,
   "metadata": {},
   "outputs": [
    {
     "data": {
      "text/plain": [
       "0.7006197500078152"
      ]
     },
     "execution_count": 39,
     "metadata": {},
     "output_type": "execute_result"
    }
   ],
   "source": [
    "np.mean(err, 0)"
   ]
  },
  {
   "cell_type": "code",
   "execution_count": 40,
   "metadata": {},
   "outputs": [
    {
     "data": {
      "text/plain": [
       "(87395, 2)"
      ]
     },
     "execution_count": 40,
     "metadata": {},
     "output_type": "execute_result"
    }
   ],
   "source": [
    "sample['Surge_Pricing_Type'] = y_pred_tot_lgm[3]\n",
    "sample['Surge_Pricing_Type']=sample['Surge_Pricing_Type'].map(target_map_inverse)\n",
    "sample.to_csv('LGBM.csv', index=False)\n",
    "sample.shape"
   ]
  },
  {
   "cell_type": "code",
   "execution_count": null,
   "metadata": {},
   "outputs": [],
   "source": []
  }
 ],
 "metadata": {
  "kernelspec": {
   "display_name": "Python 3",
   "language": "python",
   "name": "python3"
  },
  "language_info": {
   "codemirror_mode": {
    "name": "ipython",
    "version": 3
   },
   "file_extension": ".py",
   "mimetype": "text/x-python",
   "name": "python",
   "nbconvert_exporter": "python",
   "pygments_lexer": "ipython3",
   "version": "3.7.1"
  }
 },
 "nbformat": 4,
 "nbformat_minor": 2
}
