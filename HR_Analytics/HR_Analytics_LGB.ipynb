{
 "cells": [
  {
   "cell_type": "markdown",
   "metadata": {},
   "source": [
    "#### Importing Libraries"
   ]
  },
  {
   "cell_type": "code",
   "execution_count": 1,
   "metadata": {},
   "outputs": [],
   "source": [
    "import os\n",
    "import pandas as pd\n",
    "import numpy as np\n",
    "import scipy as sp\n",
    "import seaborn as sns\n",
    "import math as m\n",
    "from scipy import stats\n",
    "import matplotlib.pyplot as plt"
   ]
  },
  {
   "cell_type": "markdown",
   "metadata": {},
   "source": [
    "#### Loading the Datasets"
   ]
  },
  {
   "cell_type": "code",
   "execution_count": 2,
   "metadata": {},
   "outputs": [],
   "source": [
    "train = pd.read_csv('train_jqd04QH.csv')\n",
    "test = pd.read_csv('test_KaymcHn.csv')\n",
    "sample=pd.read_csv('sample_submission_sxfcbdx.csv')"
   ]
  },
  {
   "cell_type": "markdown",
   "metadata": {},
   "source": [
    "#### Understanding the data"
   ]
  },
  {
   "cell_type": "code",
   "execution_count": 3,
   "metadata": {},
   "outputs": [
    {
     "data": {
      "text/plain": [
       "((18359, 14), (15021, 13))"
      ]
     },
     "execution_count": 3,
     "metadata": {},
     "output_type": "execute_result"
    }
   ],
   "source": [
    "train.shape,test.shape"
   ]
  },
  {
   "cell_type": "code",
   "execution_count": 4,
   "metadata": {},
   "outputs": [
    {
     "data": {
      "text/html": [
       "<div>\n",
       "<style scoped>\n",
       "    .dataframe tbody tr th:only-of-type {\n",
       "        vertical-align: middle;\n",
       "    }\n",
       "\n",
       "    .dataframe tbody tr th {\n",
       "        vertical-align: top;\n",
       "    }\n",
       "\n",
       "    .dataframe thead th {\n",
       "        text-align: right;\n",
       "    }\n",
       "</style>\n",
       "<table border=\"1\" class=\"dataframe\">\n",
       "  <thead>\n",
       "    <tr style=\"text-align: right;\">\n",
       "      <th></th>\n",
       "      <th>enrollee_id</th>\n",
       "      <th>city</th>\n",
       "      <th>city_development_index</th>\n",
       "      <th>gender</th>\n",
       "      <th>relevent_experience</th>\n",
       "      <th>enrolled_university</th>\n",
       "      <th>education_level</th>\n",
       "      <th>major_discipline</th>\n",
       "      <th>experience</th>\n",
       "      <th>company_size</th>\n",
       "      <th>company_type</th>\n",
       "      <th>last_new_job</th>\n",
       "      <th>training_hours</th>\n",
       "      <th>target</th>\n",
       "    </tr>\n",
       "  </thead>\n",
       "  <tbody>\n",
       "    <tr>\n",
       "      <th>0</th>\n",
       "      <td>23798</td>\n",
       "      <td>city_149</td>\n",
       "      <td>0.689</td>\n",
       "      <td>Male</td>\n",
       "      <td>Has relevent experience</td>\n",
       "      <td>no_enrollment</td>\n",
       "      <td>Graduate</td>\n",
       "      <td>STEM</td>\n",
       "      <td>3</td>\n",
       "      <td>100-500</td>\n",
       "      <td>Pvt Ltd</td>\n",
       "      <td>1</td>\n",
       "      <td>106</td>\n",
       "      <td>0</td>\n",
       "    </tr>\n",
       "    <tr>\n",
       "      <th>1</th>\n",
       "      <td>29166</td>\n",
       "      <td>city_83</td>\n",
       "      <td>0.923</td>\n",
       "      <td>Male</td>\n",
       "      <td>Has relevent experience</td>\n",
       "      <td>no_enrollment</td>\n",
       "      <td>Graduate</td>\n",
       "      <td>STEM</td>\n",
       "      <td>14</td>\n",
       "      <td>&lt;10</td>\n",
       "      <td>Funded Startup</td>\n",
       "      <td>1</td>\n",
       "      <td>69</td>\n",
       "      <td>0</td>\n",
       "    </tr>\n",
       "  </tbody>\n",
       "</table>\n",
       "</div>"
      ],
      "text/plain": [
       "   enrollee_id      city  city_development_index gender  \\\n",
       "0        23798  city_149                   0.689   Male   \n",
       "1        29166   city_83                   0.923   Male   \n",
       "\n",
       "       relevent_experience enrolled_university education_level  \\\n",
       "0  Has relevent experience       no_enrollment        Graduate   \n",
       "1  Has relevent experience       no_enrollment        Graduate   \n",
       "\n",
       "  major_discipline experience company_size    company_type last_new_job  \\\n",
       "0             STEM          3      100-500         Pvt Ltd            1   \n",
       "1             STEM         14          <10  Funded Startup            1   \n",
       "\n",
       "   training_hours  target  \n",
       "0             106       0  \n",
       "1              69       0  "
      ]
     },
     "execution_count": 4,
     "metadata": {},
     "output_type": "execute_result"
    }
   ],
   "source": [
    "train.head(2)"
   ]
  },
  {
   "cell_type": "markdown",
   "metadata": {},
   "source": [
    "###### train.apply(lambda x: (len(x.unique()), [x.unique()])) # To find the unique values and length of unique values"
   ]
  },
  {
   "cell_type": "code",
   "execution_count": 5,
   "metadata": {},
   "outputs": [
    {
     "data": {
      "text/plain": [
       "enrollee_id               18359\n",
       "city                        123\n",
       "city_development_index       93\n",
       "gender                        4\n",
       "relevent_experience           2\n",
       "enrolled_university           4\n",
       "education_level               6\n",
       "major_discipline              7\n",
       "experience                   23\n",
       "company_size                  9\n",
       "company_type                  7\n",
       "last_new_job                  7\n",
       "training_hours              241\n",
       "target                        2\n",
       "dtype: int64"
      ]
     },
     "execution_count": 5,
     "metadata": {},
     "output_type": "execute_result"
    }
   ],
   "source": [
    "train.apply(lambda x: (len(x.unique()))) "
   ]
  },
  {
   "cell_type": "code",
   "execution_count": 6,
   "metadata": {},
   "outputs": [
    {
     "data": {
      "text/plain": [
       "enrollee_id               15021\n",
       "city                        123\n",
       "city_development_index       93\n",
       "gender                        4\n",
       "relevent_experience           2\n",
       "enrolled_university           4\n",
       "education_level               6\n",
       "major_discipline              7\n",
       "experience                   23\n",
       "company_size                  9\n",
       "company_type                  7\n",
       "last_new_job                  7\n",
       "training_hours              241\n",
       "dtype: int64"
      ]
     },
     "execution_count": 6,
     "metadata": {},
     "output_type": "execute_result"
    }
   ],
   "source": [
    "test.apply(lambda x: (len(x.unique())))"
   ]
  },
  {
   "cell_type": "code",
   "execution_count": 7,
   "metadata": {},
   "outputs": [
    {
     "data": {
      "text/plain": [
       "enrollee_id                  0\n",
       "city                         0\n",
       "city_development_index       0\n",
       "gender                    3388\n",
       "relevent_experience          0\n",
       "enrolled_university        279\n",
       "education_level            395\n",
       "major_discipline          2393\n",
       "experience                  44\n",
       "company_size              4051\n",
       "company_type              4330\n",
       "last_new_job               304\n",
       "training_hours               0\n",
       "dtype: int64"
      ]
     },
     "execution_count": 7,
     "metadata": {},
     "output_type": "execute_result"
    }
   ],
   "source": [
    "test.isnull().sum()"
   ]
  },
  {
   "cell_type": "code",
   "execution_count": 8,
   "metadata": {},
   "outputs": [
    {
     "data": {
      "text/plain": [
       "enrollee_id                  0\n",
       "city                         0\n",
       "city_development_index       0\n",
       "gender                    4098\n",
       "relevent_experience          0\n",
       "enrolled_university        342\n",
       "education_level            457\n",
       "major_discipline          2838\n",
       "experience                  59\n",
       "company_size              4779\n",
       "company_type              5039\n",
       "last_new_job               367\n",
       "training_hours               0\n",
       "target                       0\n",
       "dtype: int64"
      ]
     },
     "execution_count": 8,
     "metadata": {},
     "output_type": "execute_result"
    }
   ],
   "source": [
    "train.isnull().sum()"
   ]
  },
  {
   "cell_type": "markdown",
   "metadata": {},
   "source": [
    "#### EDA\n",
    "**Target Exploration**"
   ]
  },
  {
   "cell_type": "code",
   "execution_count": 9,
   "metadata": {},
   "outputs": [
    {
     "data": {
      "text/plain": [
       "0    0.867912\n",
       "1    0.132088\n",
       "Name: target, dtype: float64"
      ]
     },
     "execution_count": 9,
     "metadata": {},
     "output_type": "execute_result"
    }
   ],
   "source": [
    "train['target'].value_counts(normalize=True)"
   ]
  },
  {
   "cell_type": "code",
   "execution_count": 10,
   "metadata": {},
   "outputs": [
    {
     "data": {
      "text/plain": [
       "<matplotlib.axes._subplots.AxesSubplot at 0x2760c375048>"
      ]
     },
     "execution_count": 10,
     "metadata": {},
     "output_type": "execute_result"
    },
    {
     "data": {
      "image/png": "[encoded data removed]",
      "text/plain": [
       "<Figure size 432x288 with 1 Axes>"
      ]
     },
     "metadata": {
      "needs_background": "light"
     },
     "output_type": "display_data"
    }
   ],
   "source": [
    "sns.countplot(train['target'])"
   ]
  },
  {
   "cell_type": "markdown",
   "metadata": {},
   "source": [
    "#### Univariate Analysis"
   ]
  },
  {
   "cell_type": "code",
   "execution_count": 11,
   "metadata": {},
   "outputs": [
    {
     "data": {
      "text/plain": [
       "<matplotlib.axes._subplots.AxesSubplot at 0x2760c109b70>"
      ]
     },
     "execution_count": 11,
     "metadata": {},
     "output_type": "execute_result"
    },
    {
     "data": {
      "image/png": "[encoded data removed]",
      "text/plain": [
       "<Figure size 1728x432 with 2 Axes>"
      ]
     },
     "metadata": {
      "needs_background": "light"
     },
     "output_type": "display_data"
    }
   ],
   "source": [
    "plt.figure(figsize=(24, 6))\n",
    "plt.subplot(121)\n",
    "sns.countplot(train['company_size'],order = train['company_size'].value_counts(dropna=False).index)\n",
    "plt.subplot(122)\n",
    "sns.countplot(train['company_type'],order = train['company_type'].value_counts(dropna=False).index)"
   ]
  },
  {
   "cell_type": "markdown",
   "metadata": {},
   "source": [
    "##### The Missing Value is greater than any of sum of other values, it is consider as seperate variable"
   ]
  },
  {
   "cell_type": "code",
   "execution_count": 12,
   "metadata": {},
   "outputs": [],
   "source": [
    "train['company_size'].fillna('unknown', inplace=True)\n",
    "test['company_size'].fillna('unknown', inplace=True)"
   ]
  },
  {
   "cell_type": "code",
   "execution_count": 13,
   "metadata": {},
   "outputs": [
    {
     "data": {
      "text/plain": [
       "Male      12884\n",
       "NaN        4098\n",
       "Female     1188\n",
       "Other       189\n",
       "Name: gender, dtype: int64"
      ]
     },
     "metadata": {},
     "output_type": "display_data"
    },
    {
     "data": {
      "text/plain": [
       "<matplotlib.axes._subplots.AxesSubplot at 0x2760c1edcc0>"
      ]
     },
     "execution_count": 13,
     "metadata": {},
     "output_type": "execute_result"
    },
    {
     "data": {
      "image/png": "[encoded data removed]",
      "text/plain": [
       "<Figure size 1584x432 with 2 Axes>"
      ]
     },
     "metadata": {
      "needs_background": "light"
     },
     "output_type": "display_data"
    }
   ],
   "source": [
    "plt.figure(figsize=(22, 6))\n",
    "plt.subplot(121)\n",
    "sns.countplot(train['gender'],order = train['gender'].value_counts(dropna=False).index)\n",
    "display(train['gender'].value_counts(dropna=False))\n",
    "plt.subplot(122)\n",
    "sns.countplot(train['relevent_experience'],order = train['relevent_experience'].value_counts(dropna=False).index)"
   ]
  },
  {
   "cell_type": "markdown",
   "metadata": {},
   "source": [
    "##### As the data contains Almost 90% of males, Nan Values can be replaces as Males, else we can use Not revelaed "
   ]
  },
  {
   "cell_type": "code",
   "execution_count": 14,
   "metadata": {},
   "outputs": [],
   "source": [
    "train['gender'].fillna('Male', inplace=True)\n",
    "test['gender'].fillna('Male', inplace=True)"
   ]
  },
  {
   "cell_type": "markdown",
   "metadata": {},
   "source": [
    "##### Adding Not Revealed is not showing any improvements, So I have gone for Mode of Gender(Male)\n",
    "\n",
    "*train['gender'].fillna('Not_Revelaed', inplace=True)*\n",
    "\n",
    "*test['gender'].fillna('Not_Revelaed', inplace=True)*"
   ]
  },
  {
   "cell_type": "code",
   "execution_count": 15,
   "metadata": {},
   "outputs": [],
   "source": [
    "train[\"gender\"] = train[\"gender\"].map({'Male':2,  'Female':1, 'Other':0})\n",
    "test[\"gender\"] = test[\"gender\"].map({'Male':2,  'Female':1, 'Other':0})"
   ]
  },
  {
   "cell_type": "code",
   "execution_count": 16,
   "metadata": {},
   "outputs": [
    {
     "data": {
      "text/plain": [
       "<matplotlib.axes._subplots.AxesSubplot at 0x2760c2d66a0>"
      ]
     },
     "execution_count": 16,
     "metadata": {},
     "output_type": "execute_result"
    },
    {
     "data": {
      "image/png": "[encoded data removed]",
      "text/plain": [
       "<Figure size 1584x432 with 2 Axes>"
      ]
     },
     "metadata": {
      "needs_background": "light"
     },
     "output_type": "display_data"
    }
   ],
   "source": [
    "plt.figure(figsize=(22, 6))\n",
    "plt.subplot(121)\n",
    "sns.countplot(train['last_new_job'],order = train['last_new_job'].value_counts(dropna=False).index)\n",
    "plt.subplot(122)\n",
    "sns.countplot(train['experience'],order = train['experience'].value_counts(dropna=False).index)"
   ]
  },
  {
   "cell_type": "markdown",
   "metadata": {},
   "source": [
    "###### As the data contains last_new_job as 1 Year have higher count, Nan Values can be replaces as 1 & Also Replacing '>4' and 'never' as numerical values"
   ]
  },
  {
   "cell_type": "code",
   "execution_count": 17,
   "metadata": {},
   "outputs": [],
   "source": [
    "train['last_new_job'].fillna('1', inplace=True)\n",
    "test['last_new_job'].fillna('1', inplace=True)"
   ]
  },
  {
   "cell_type": "code",
   "execution_count": 18,
   "metadata": {},
   "outputs": [],
   "source": [
    "train['last_new_job'].replace('>4','6', inplace=True)\n",
    "train['last_new_job'].replace('never','0' ,inplace=True)\n",
    "train['last_new_job']=train['last_new_job'].astype(int)\n",
    "test['last_new_job'].replace('>4','6', inplace=True)\n",
    "test['last_new_job'].replace('never','0' ,inplace=True)\n",
    "test['last_new_job']=test['last_new_job'].astype(int)"
   ]
  },
  {
   "cell_type": "markdown",
   "metadata": {},
   "source": [
    "###### Similar to 'last_new_job', relacing Nan with Mode, and changing to integers"
   ]
  },
  {
   "cell_type": "code",
   "execution_count": 19,
   "metadata": {},
   "outputs": [],
   "source": [
    "train['experience'].fillna('>20', inplace=True)\n",
    "test['experience'].fillna('>20', inplace=True)"
   ]
  },
  {
   "cell_type": "code",
   "execution_count": 20,
   "metadata": {},
   "outputs": [],
   "source": [
    "train['experience'].replace('>20','25', inplace=True)\n",
    "train['experience'].replace('<1','0' ,inplace=True)\n",
    "train['experience']=train['last_new_job'].astype(int)\n",
    "test['experience'].replace('>20','25', inplace=True)\n",
    "test['experience'].replace('<1','0' ,inplace=True)\n",
    "test['experience']=test['last_new_job'].astype(int)"
   ]
  },
  {
   "cell_type": "code",
   "execution_count": 21,
   "metadata": {},
   "outputs": [
    {
     "data": {
      "text/plain": [
       "<matplotlib.axes._subplots.AxesSubplot at 0x2760c346ef0>"
      ]
     },
     "execution_count": 21,
     "metadata": {},
     "output_type": "execute_result"
    },
    {
     "data": {
      "image/png": "[encoded data removed]",
      "text/plain": [
       "<Figure size 1584x432 with 3 Axes>"
      ]
     },
     "metadata": {
      "needs_background": "light"
     },
     "output_type": "display_data"
    }
   ],
   "source": [
    "plt.figure(figsize=(22, 6))\n",
    "plt.subplot(131)\n",
    "sns.countplot(train['education_level'],order = train['education_level'].value_counts().index)\n",
    "plt.subplot(132)\n",
    "sns.countplot(train['enrolled_university'],order = train['enrolled_university'].value_counts().index)\n",
    "plt.subplot(133)\n",
    "sns.countplot(train['major_discipline'],order = train['major_discipline'].value_counts().index)"
   ]
  },
  {
   "cell_type": "code",
   "execution_count": 22,
   "metadata": {},
   "outputs": [
    {
     "data": {
      "text/plain": [
       "<matplotlib.axes._subplots.AxesSubplot at 0x2760c0db208>"
      ]
     },
     "execution_count": 22,
     "metadata": {},
     "output_type": "execute_result"
    },
    {
     "data": {
      "image/png": "[encoded data removed]",
      "text/plain": [
       "<Figure size 1584x432 with 1 Axes>"
      ]
     },
     "metadata": {
      "needs_background": "light"
     },
     "output_type": "display_data"
    }
   ],
   "source": [
    "plt.figure(figsize=(22, 6))\n",
    "city_tier_counts = (train.groupby(['target'])['education_level'].value_counts(dropna=False,normalize=True).rename('percentage').mul(100).reset_index().sort_values('target'))\n",
    "sns.barplot(x=\"education_level\", y=\"percentage\", hue=\"target\", data=city_tier_counts)"
   ]
  },
  {
   "cell_type": "code",
   "execution_count": 23,
   "metadata": {},
   "outputs": [],
   "source": [
    "train['education_level'].fillna(train['education_level'].mode()[0], inplace=True)\n",
    "test['education_level'].fillna(test['education_level'].mode()[0], inplace=True)\n",
    "\n",
    "train[\"education_level\"] = train[\"education_level\"].map({'Graduate':0, 'Masters':1, 'High School':2, 'Phd':3, 'Primary School':4})\n",
    "test[\"education_level\"] = test[\"education_level\"].map({'Graduate':0, 'Masters':1, 'High School':2, 'Phd':3, 'Primary School':4})"
   ]
  },
  {
   "cell_type": "code",
   "execution_count": 24,
   "metadata": {},
   "outputs": [
    {
     "name": "stderr",
     "output_type": "stream",
     "text": [
      "C:\\Users\\SJMB\\Anaconda3\\lib\\site-packages\\scipy\\stats\\stats.py:1713: FutureWarning: Using a non-tuple sequence for multidimensional indexing is deprecated; use `arr[tuple(seq)]` instead of `arr[seq]`. In the future this will be interpreted as an array index, `arr[np.array(seq)]`, which will result either in an error or a different result.\n",
      "  return np.add.reduce(sorted[indexer] * weights, axis=axis) / sumval\n"
     ]
    },
    {
     "data": {
      "text/plain": [
       "<matplotlib.axes._subplots.AxesSubplot at 0x2760e65da20>"
      ]
     },
     "execution_count": 24,
     "metadata": {},
     "output_type": "execute_result"
    },
    {
     "data": {
      "image/png": "[encoded data removed]",
      "text/plain": [
       "<Figure size 1584x432 with 2 Axes>"
      ]
     },
     "metadata": {
      "needs_background": "light"
     },
     "output_type": "display_data"
    }
   ],
   "source": [
    "plt.figure(figsize=(22, 6))\n",
    "plt.subplot(121)\n",
    "sns.distplot(train['training_hours'],kde = True,bins=50)\n",
    "plt.subplot(122)\n",
    "sns.distplot(test['training_hours'],kde = True,bins=50)"
   ]
  },
  {
   "cell_type": "code",
   "execution_count": 25,
   "metadata": {},
   "outputs": [
    {
     "data": {
      "text/plain": [
       "<matplotlib.axes._subplots.AxesSubplot at 0x2760e451a20>"
      ]
     },
     "execution_count": 25,
     "metadata": {},
     "output_type": "execute_result"
    },
    {
     "data": {
      "image/png": "[encoded data removed]",
      "text/plain": [
       "<Figure size 1584x432 with 2 Axes>"
      ]
     },
     "metadata": {
      "needs_background": "light"
     },
     "output_type": "display_data"
    }
   ],
   "source": [
    "plt.figure(figsize=(22, 6))\n",
    "plt.subplot(121)\n",
    "train['training_hours']=np.log(train['training_hours'])\n",
    "sns.distplot(train['training_hours'],kde = True,bins=50)\n",
    "plt.subplot(122)\n",
    "test['training_hours']=np.log(test['training_hours'])\n",
    "sns.distplot(test['training_hours'],kde = True,bins=50)"
   ]
  },
  {
   "cell_type": "code",
   "execution_count": 26,
   "metadata": {},
   "outputs": [
    {
     "data": {
      "text/plain": [
       "<matplotlib.axes._subplots.AxesSubplot at 0x2760f115128>"
      ]
     },
     "execution_count": 26,
     "metadata": {},
     "output_type": "execute_result"
    },
    {
     "data": {
      "image/png": "[encoded data removed]",
      "text/plain": [
       "<Figure size 1584x432 with 1 Axes>"
      ]
     },
     "metadata": {
      "needs_background": "light"
     },
     "output_type": "display_data"
    }
   ],
   "source": [
    "plt.figure(figsize=(22, 6))\n",
    "city_tier_counts = (train.groupby(['target'])['company_size'].value_counts(normalize=True).rename('percentage').mul(100).reset_index().sort_values('target'))\n",
    "sns.barplot(x=\"company_size\", y=\"percentage\", hue=\"target\", data=city_tier_counts)"
   ]
  },
  {
   "cell_type": "markdown",
   "metadata": {},
   "source": [
    "###### From it is infered that, who are not revealed the number employees, having high attriation rate"
   ]
  },
  {
   "cell_type": "code",
   "execution_count": 27,
   "metadata": {},
   "outputs": [
    {
     "data": {
      "text/plain": [
       "<matplotlib.axes._subplots.AxesSubplot at 0x2760f169748>"
      ]
     },
     "execution_count": 27,
     "metadata": {},
     "output_type": "execute_result"
    },
    {
     "data": {
      "image/png": "[encoded data removed]",
      "text/plain": [
       "<Figure size 1584x432 with 1 Axes>"
      ]
     },
     "metadata": {
      "needs_background": "light"
     },
     "output_type": "display_data"
    }
   ],
   "source": [
    "plt.figure(figsize=(22, 6))\n",
    "city_tier_counts = (train.groupby(['target'])['enrolled_university'].value_counts(dropna=False,normalize=True).rename('percentage').mul(100).reset_index().sort_values('target'))\n",
    "sns.barplot(x=\"enrolled_university\", y=\"percentage\", hue=\"target\", data=city_tier_counts)"
   ]
  },
  {
   "cell_type": "code",
   "execution_count": 28,
   "metadata": {},
   "outputs": [],
   "source": [
    "train['enrolled_university'].fillna(train['enrolled_university'].mode()[0], inplace=True)\n",
    "test['enrolled_university'].fillna(test['enrolled_university'].mode()[0], inplace=True)"
   ]
  },
  {
   "cell_type": "code",
   "execution_count": 29,
   "metadata": {},
   "outputs": [],
   "source": [
    "train[\"enrolled_university\"] = train[\"enrolled_university\"].map({'no_enrollment':1, 'Full time course':4, 'Part time course':2})\n",
    "test[\"enrolled_university\"] = test[\"enrolled_university\"].map({'no_enrollment':1, 'Full time course':4, 'Part time course':2})"
   ]
  },
  {
   "cell_type": "markdown",
   "metadata": {},
   "source": [
    "###### Concating the test and train dataframe"
   ]
  },
  {
   "cell_type": "code",
   "execution_count": 30,
   "metadata": {},
   "outputs": [],
   "source": [
    "df=pd.concat([train,test],0)"
   ]
  },
  {
   "cell_type": "markdown",
   "metadata": {},
   "source": [
    "###### I have tried to extract the Number from the city variable to use a separate variable, But it's not good while building the model"
   ]
  },
  {
   "cell_type": "markdown",
   "metadata": {},
   "source": [
    "*train[\"city_num\"] = train[\"city\"].str.extract(\"(\\d+)\")\n",
    "\n",
    "*train[\"city_num\"] = train[\"city_num\"].astype(int)\n",
    "\n",
    "*test[\"city_num\"] = test[\"city\"].str.extract(\"(\\d+)\")\n",
    "\n",
    "*test[\"city_num\"] = test[\"city_num\"].astype(int)"
   ]
  },
  {
   "cell_type": "markdown",
   "metadata": {},
   "source": [
    "###### Tried to create the city_development_index as bins , but it does it improved the auc score of the model much\n",
    "\n",
    "*bin_ranges = [.4,0.5,0.7,0.85,0.9,0.91,0.92,0.94,0.95]*\n",
    "\n",
    "*bin_names = [1, 2, 3,4,5,6,7,8]*\n",
    "\n",
    "*train['CDIL_Label'] = pd.cut(np.array(train['city_development_index']), bins=bin_ranges,  labels=bin_names)*\n",
    "\n",
    "*train['CDIL_Label']=train['CDIL_Label'].astype(int)*\n",
    "\n",
    "*test['CDIL_Label'] = pd.cut(np.array(test['city_development_index']), bins=bin_ranges,  labels=bin_names)*\n",
    "\n",
    "*test['CDIL_Label']=test['CDIL_Label'].astype(int)*"
   ]
  },
  {
   "cell_type": "markdown",
   "metadata": {},
   "source": [
    "#### Missing Value Treatement"
   ]
  },
  {
   "cell_type": "code",
   "execution_count": 31,
   "metadata": {},
   "outputs": [],
   "source": [
    "Missing_Variables=df.columns[df.isnull().any()]"
   ]
  },
  {
   "cell_type": "code",
   "execution_count": 32,
   "metadata": {},
   "outputs": [
    {
     "data": {
      "text/plain": [
       "['major_discipline', 'company_type']"
      ]
     },
     "execution_count": 32,
     "metadata": {},
     "output_type": "execute_result"
    }
   ],
   "source": [
    "Missing_Variables=Missing_Variables.tolist()\n",
    "Missing_Variables.remove('target')\n",
    "Missing_Variables"
   ]
  },
  {
   "cell_type": "markdown",
   "metadata": {},
   "source": [
    "###### These Missing Variable can be replace mode, because of the Percentange of category is more than 90% than rmaining data"
   ]
  },
  {
   "cell_type": "code",
   "execution_count": 33,
   "metadata": {},
   "outputs": [],
   "source": [
    "for object in Missing_Variables:\n",
    "    df[object].fillna(df[object].mode()[0], inplace=True)"
   ]
  },
  {
   "cell_type": "code",
   "execution_count": 34,
   "metadata": {},
   "outputs": [
    {
     "data": {
      "text/plain": [
       "enrollee_id                   0\n",
       "city                          0\n",
       "city_development_index        0\n",
       "gender                        0\n",
       "relevent_experience           0\n",
       "enrolled_university           0\n",
       "education_level               0\n",
       "major_discipline              0\n",
       "experience                    0\n",
       "company_size                  0\n",
       "company_type                  0\n",
       "last_new_job                  0\n",
       "training_hours                0\n",
       "target                    15021\n",
       "dtype: int64"
      ]
     },
     "execution_count": 34,
     "metadata": {},
     "output_type": "execute_result"
    }
   ],
   "source": [
    "df.isnull().sum()"
   ]
  },
  {
   "cell_type": "code",
   "execution_count": 35,
   "metadata": {},
   "outputs": [
    {
     "data": {
      "text/html": [
       "<div>\n",
       "<style scoped>\n",
       "    .dataframe tbody tr th:only-of-type {\n",
       "        vertical-align: middle;\n",
       "    }\n",
       "\n",
       "    .dataframe tbody tr th {\n",
       "        vertical-align: top;\n",
       "    }\n",
       "\n",
       "    .dataframe thead th {\n",
       "        text-align: right;\n",
       "    }\n",
       "</style>\n",
       "<table border=\"1\" class=\"dataframe\">\n",
       "  <thead>\n",
       "    <tr style=\"text-align: right;\">\n",
       "      <th></th>\n",
       "      <th>enrollee_id</th>\n",
       "      <th>city</th>\n",
       "      <th>city_development_index</th>\n",
       "      <th>gender</th>\n",
       "      <th>relevent_experience</th>\n",
       "      <th>enrolled_university</th>\n",
       "      <th>education_level</th>\n",
       "      <th>major_discipline</th>\n",
       "      <th>experience</th>\n",
       "      <th>company_size</th>\n",
       "      <th>company_type</th>\n",
       "      <th>last_new_job</th>\n",
       "      <th>training_hours</th>\n",
       "      <th>target</th>\n",
       "    </tr>\n",
       "  </thead>\n",
       "  <tbody>\n",
       "    <tr>\n",
       "      <th>0</th>\n",
       "      <td>23798</td>\n",
       "      <td>city_149</td>\n",
       "      <td>0.689</td>\n",
       "      <td>2</td>\n",
       "      <td>Has relevent experience</td>\n",
       "      <td>1</td>\n",
       "      <td>0</td>\n",
       "      <td>STEM</td>\n",
       "      <td>1</td>\n",
       "      <td>100-500</td>\n",
       "      <td>Pvt Ltd</td>\n",
       "      <td>1</td>\n",
       "      <td>4.663439</td>\n",
       "      <td>0.0</td>\n",
       "    </tr>\n",
       "    <tr>\n",
       "      <th>1</th>\n",
       "      <td>29166</td>\n",
       "      <td>city_83</td>\n",
       "      <td>0.923</td>\n",
       "      <td>2</td>\n",
       "      <td>Has relevent experience</td>\n",
       "      <td>1</td>\n",
       "      <td>0</td>\n",
       "      <td>STEM</td>\n",
       "      <td>1</td>\n",
       "      <td>&lt;10</td>\n",
       "      <td>Funded Startup</td>\n",
       "      <td>1</td>\n",
       "      <td>4.234107</td>\n",
       "      <td>0.0</td>\n",
       "    </tr>\n",
       "    <tr>\n",
       "      <th>2</th>\n",
       "      <td>46</td>\n",
       "      <td>city_16</td>\n",
       "      <td>0.910</td>\n",
       "      <td>2</td>\n",
       "      <td>Has relevent experience</td>\n",
       "      <td>1</td>\n",
       "      <td>0</td>\n",
       "      <td>STEM</td>\n",
       "      <td>2</td>\n",
       "      <td>50-99</td>\n",
       "      <td>Public Sector</td>\n",
       "      <td>2</td>\n",
       "      <td>1.386294</td>\n",
       "      <td>0.0</td>\n",
       "    </tr>\n",
       "    <tr>\n",
       "      <th>3</th>\n",
       "      <td>18527</td>\n",
       "      <td>city_64</td>\n",
       "      <td>0.666</td>\n",
       "      <td>2</td>\n",
       "      <td>Has relevent experience</td>\n",
       "      <td>1</td>\n",
       "      <td>0</td>\n",
       "      <td>STEM</td>\n",
       "      <td>1</td>\n",
       "      <td>50-99</td>\n",
       "      <td>Pvt Ltd</td>\n",
       "      <td>1</td>\n",
       "      <td>3.258097</td>\n",
       "      <td>0.0</td>\n",
       "    </tr>\n",
       "    <tr>\n",
       "      <th>4</th>\n",
       "      <td>21751</td>\n",
       "      <td>city_100</td>\n",
       "      <td>0.887</td>\n",
       "      <td>2</td>\n",
       "      <td>No relevent experience</td>\n",
       "      <td>1</td>\n",
       "      <td>1</td>\n",
       "      <td>STEM</td>\n",
       "      <td>2</td>\n",
       "      <td>unknown</td>\n",
       "      <td>Pvt Ltd</td>\n",
       "      <td>2</td>\n",
       "      <td>4.477337</td>\n",
       "      <td>1.0</td>\n",
       "    </tr>\n",
       "  </tbody>\n",
       "</table>\n",
       "</div>"
      ],
      "text/plain": [
       "   enrollee_id      city  city_development_index  gender  \\\n",
       "0        23798  city_149                   0.689       2   \n",
       "1        29166   city_83                   0.923       2   \n",
       "2           46   city_16                   0.910       2   \n",
       "3        18527   city_64                   0.666       2   \n",
       "4        21751  city_100                   0.887       2   \n",
       "\n",
       "       relevent_experience  enrolled_university  education_level  \\\n",
       "0  Has relevent experience                    1                0   \n",
       "1  Has relevent experience                    1                0   \n",
       "2  Has relevent experience                    1                0   \n",
       "3  Has relevent experience                    1                0   \n",
       "4   No relevent experience                    1                1   \n",
       "\n",
       "  major_discipline  experience company_size    company_type  last_new_job  \\\n",
       "0             STEM           1      100-500         Pvt Ltd             1   \n",
       "1             STEM           1          <10  Funded Startup             1   \n",
       "2             STEM           2        50-99   Public Sector             2   \n",
       "3             STEM           1        50-99         Pvt Ltd             1   \n",
       "4             STEM           2      unknown         Pvt Ltd             2   \n",
       "\n",
       "   training_hours  target  \n",
       "0        4.663439     0.0  \n",
       "1        4.234107     0.0  \n",
       "2        1.386294     0.0  \n",
       "3        3.258097     0.0  \n",
       "4        4.477337     1.0  "
      ]
     },
     "execution_count": 35,
     "metadata": {},
     "output_type": "execute_result"
    }
   ],
   "source": [
    "df.head()"
   ]
  },
  {
   "cell_type": "markdown",
   "metadata": {},
   "source": [
    "#### Label Encoding"
   ]
  },
  {
   "cell_type": "code",
   "execution_count": 36,
   "metadata": {},
   "outputs": [
    {
     "data": {
      "text/plain": [
       "['city',\n",
       " 'relevent_experience',\n",
       " 'major_discipline',\n",
       " 'company_size',\n",
       " 'company_type']"
      ]
     },
     "execution_count": 36,
     "metadata": {},
     "output_type": "execute_result"
    }
   ],
   "source": [
    "cat_col = df.dtypes.loc[df.dtypes=='object'].index\n",
    "categorical_variables=cat_col.tolist()\n",
    "categorical_variables"
   ]
  },
  {
   "cell_type": "code",
   "execution_count": 37,
   "metadata": {},
   "outputs": [
    {
     "name": "stdout",
     "output_type": "stream",
     "text": [
      "city\n"
     ]
    }
   ],
   "source": [
    "categorical_variables=['city'] # Only City have more unique Values, it better to Labelencoding instead of OHE\n",
    "from sklearn import metrics, preprocessing, model_selection\n",
    "for col in categorical_variables:\n",
    "    print(col)\n",
    "    lbl = preprocessing.LabelEncoder()\n",
    "    lbl.fit(list(df[col].values.astype('str')))\n",
    "    df[col] = lbl.transform(list(df[col].values.astype('str')))"
   ]
  },
  {
   "cell_type": "code",
   "execution_count": 38,
   "metadata": {},
   "outputs": [
    {
     "data": {
      "text/plain": [
       "['enrollee_id',\n",
       " 'city',\n",
       " 'city_development_index',\n",
       " 'gender',\n",
       " 'enrolled_university',\n",
       " 'education_level',\n",
       " 'experience',\n",
       " 'last_new_job',\n",
       " 'training_hours',\n",
       " 'target']"
      ]
     },
     "execution_count": 38,
     "metadata": {},
     "output_type": "execute_result"
    }
   ],
   "source": [
    "num_col = df.dtypes.loc[df.dtypes!='object'].index\n",
    "num_col=num_col.tolist()\n",
    "num_col"
   ]
  },
  {
   "cell_type": "code",
   "execution_count": 39,
   "metadata": {},
   "outputs": [
    {
     "name": "stdout",
     "output_type": "stream",
     "text": [
      "['city', 'city_development_index', 'gender', 'enrolled_university', 'education_level', 'experience', 'last_new_job', 'training_hours', 'target']\n"
     ]
    }
   ],
   "source": [
    "num_col.remove('enrollee_id') # Unique_id\n",
    "print(num_col)\n",
    "target_col = ['target']"
   ]
  },
  {
   "cell_type": "markdown",
   "metadata": {},
   "source": [
    "###### Features that have to be used for One Hot Encoding"
   ]
  },
  {
   "cell_type": "code",
   "execution_count": 40,
   "metadata": {},
   "outputs": [],
   "source": [
    "OHE=[ 'gender', 'relevent_experience', 'enrolled_university', 'education_level', 'major_discipline', 'company_size', 'company_type']"
   ]
  },
  {
   "cell_type": "markdown",
   "metadata": {},
   "source": [
    "##### I am removing the Values with less count to avoid dummy variable trap while doing OHE"
   ]
  },
  {
   "cell_type": "code",
   "execution_count": 41,
   "metadata": {},
   "outputs": [],
   "source": [
    "df = pd.concat([df, pd.get_dummies(df[\"gender\"], prefix=\"gender_\")], axis=1)"
   ]
  },
  {
   "cell_type": "code",
   "execution_count": 42,
   "metadata": {},
   "outputs": [
    {
     "data": {
      "text/plain": [
       "2    30948\n",
       "1     2085\n",
       "0      347\n",
       "Name: gender, dtype: int64"
      ]
     },
     "execution_count": 42,
     "metadata": {},
     "output_type": "execute_result"
    }
   ],
   "source": [
    "df.gender.value_counts()"
   ]
  },
  {
   "cell_type": "code",
   "execution_count": 43,
   "metadata": {},
   "outputs": [],
   "source": [
    "df.drop('gender__0',1,inplace=True)"
   ]
  },
  {
   "cell_type": "code",
   "execution_count": 44,
   "metadata": {},
   "outputs": [],
   "source": [
    "df = pd.concat([df, pd.get_dummies(df[\"relevent_experience\"], prefix=\"re_\")], axis=1)"
   ]
  },
  {
   "cell_type": "code",
   "execution_count": 45,
   "metadata": {},
   "outputs": [],
   "source": [
    "df.drop('re__No relevent experience',1,inplace=True)"
   ]
  },
  {
   "cell_type": "code",
   "execution_count": 46,
   "metadata": {},
   "outputs": [],
   "source": [
    "df = pd.concat([df, pd.get_dummies(df[\"enrolled_university\"], prefix=\"eu_\")], axis=1)"
   ]
  },
  {
   "cell_type": "code",
   "execution_count": 47,
   "metadata": {},
   "outputs": [
    {
     "data": {
      "text/plain": [
       "1    25508\n",
       "4     5752\n",
       "2     2120\n",
       "Name: enrolled_university, dtype: int64"
      ]
     },
     "execution_count": 47,
     "metadata": {},
     "output_type": "execute_result"
    }
   ],
   "source": [
    "df.enrolled_university.value_counts()"
   ]
  },
  {
   "cell_type": "code",
   "execution_count": 48,
   "metadata": {},
   "outputs": [],
   "source": [
    "df.drop('eu__2',1,inplace=True)"
   ]
  },
  {
   "cell_type": "code",
   "execution_count": 49,
   "metadata": {},
   "outputs": [],
   "source": [
    "df = pd.concat([df, pd.get_dummies(df[\"education_level\"], prefix=\"el_\")], axis=1)"
   ]
  },
  {
   "cell_type": "code",
   "execution_count": 50,
   "metadata": {},
   "outputs": [
    {
     "data": {
      "text/plain": [
       "0    20364\n",
       "1     7797\n",
       "2     3708\n",
       "3      881\n",
       "4      630\n",
       "Name: education_level, dtype: int64"
      ]
     },
     "execution_count": 50,
     "metadata": {},
     "output_type": "execute_result"
    }
   ],
   "source": [
    "df.education_level.value_counts()"
   ]
  },
  {
   "cell_type": "code",
   "execution_count": 51,
   "metadata": {},
   "outputs": [],
   "source": [
    "df.drop('el__4',1,inplace=True)"
   ]
  },
  {
   "cell_type": "code",
   "execution_count": 52,
   "metadata": {},
   "outputs": [],
   "source": [
    "df = pd.concat([df, pd.get_dummies(df[\"major_discipline\"], prefix=\"md_\")], axis=1)"
   ]
  },
  {
   "cell_type": "code",
   "execution_count": 53,
   "metadata": {},
   "outputs": [
    {
     "data": {
      "text/plain": [
       "STEM               30086\n",
       "Humanities          1212\n",
       "Other                678\n",
       "Business Degree      585\n",
       "Arts                 432\n",
       "No Major             387\n",
       "Name: major_discipline, dtype: int64"
      ]
     },
     "execution_count": 53,
     "metadata": {},
     "output_type": "execute_result"
    }
   ],
   "source": [
    "df.major_discipline.value_counts()"
   ]
  },
  {
   "cell_type": "code",
   "execution_count": 54,
   "metadata": {},
   "outputs": [],
   "source": [
    "df.drop('md__No Major',1,inplace=True)"
   ]
  },
  {
   "cell_type": "code",
   "execution_count": 55,
   "metadata": {},
   "outputs": [],
   "source": [
    "df = pd.concat([df, pd.get_dummies(df[\"company_size\"], prefix=\"CS_\")], axis=1)"
   ]
  },
  {
   "cell_type": "code",
   "execution_count": 56,
   "metadata": {},
   "outputs": [
    {
     "data": {
      "text/plain": [
       "unknown      8830\n",
       "50-99        5697\n",
       "100-500      4845\n",
       "10000+       3666\n",
       "10/49        2664\n",
       "1000-4999    2513\n",
       "<10          2464\n",
       "500-999      1639\n",
       "5000-9999    1062\n",
       "Name: company_size, dtype: int64"
      ]
     },
     "execution_count": 56,
     "metadata": {},
     "output_type": "execute_result"
    }
   ],
   "source": [
    "df.company_size.value_counts()"
   ]
  },
  {
   "cell_type": "code",
   "execution_count": 57,
   "metadata": {},
   "outputs": [],
   "source": [
    "df.drop('CS__5000-9999',1,inplace=True)"
   ]
  },
  {
   "cell_type": "code",
   "execution_count": 58,
   "metadata": {},
   "outputs": [],
   "source": [
    "df = pd.concat([df, pd.get_dummies(df[\"company_type\"], prefix=\"CT_\")], axis=1)"
   ]
  },
  {
   "cell_type": "code",
   "execution_count": 59,
   "metadata": {},
   "outputs": [
    {
     "data": {
      "text/plain": [
       "Pvt Ltd                27483\n",
       "Funded Startup          1880\n",
       "Public Sector           1792\n",
       "Early Stage Startup     1029\n",
       "NGO                      973\n",
       "Other                    223\n",
       "Name: company_type, dtype: int64"
      ]
     },
     "execution_count": 59,
     "metadata": {},
     "output_type": "execute_result"
    }
   ],
   "source": [
    "df.company_type.value_counts()"
   ]
  },
  {
   "cell_type": "code",
   "execution_count": 60,
   "metadata": {},
   "outputs": [],
   "source": [
    "df.drop('CT__Other',1,inplace=True)"
   ]
  },
  {
   "cell_type": "code",
   "execution_count": 61,
   "metadata": {},
   "outputs": [],
   "source": [
    "train_features = df.drop(['enrollee_id', 'target', 'gender', 'relevent_experience', 'enrolled_university', 'education_level', 'major_discipline', 'company_size', 'company_type'], axis = 1)[:18359]\n",
    "target = df['target'][:18359]\n",
    "test_features = df.drop(['enrollee_id','target', 'gender', 'relevent_experience', 'enrolled_university', 'education_level', 'major_discipline', 'company_size', 'company_type'], axis = 1)[18359:]"
   ]
  },
  {
   "cell_type": "code",
   "execution_count": 62,
   "metadata": {},
   "outputs": [
    {
     "data": {
      "text/plain": [
       "((18359, 32), (18359,), (15021, 32))"
      ]
     },
     "execution_count": 62,
     "metadata": {},
     "output_type": "execute_result"
    }
   ],
   "source": [
    "train_features.shape,target.shape,test_features.shape"
   ]
  },
  {
   "cell_type": "markdown",
   "metadata": {},
   "source": [
    "#### Model Building"
   ]
  },
  {
   "cell_type": "code",
   "execution_count": 63,
   "metadata": {},
   "outputs": [],
   "source": [
    "from sklearn import metrics, preprocessing, model_selection\n",
    "from sklearn.model_selection import train_test_split\n",
    "import lightgbm as lgb\n",
    "#X_train, X_test, y_train, y_test = train_test_split(train_features, target, test_size=0.3, random_state = 25)"
   ]
  },
  {
   "cell_type": "code",
   "execution_count": 64,
   "metadata": {},
   "outputs": [],
   "source": [
    "train_X=train_features\n",
    "train_y=target\n",
    "test_X=test_features"
   ]
  },
  {
   "cell_type": "code",
   "execution_count": 65,
   "metadata": {},
   "outputs": [],
   "source": [
    "def runLGB(train_X, train_y, test_X, test_y=None, test_X2=None, dep=8, seed=0, data_leaf=200):\n",
    "    params = {}\n",
    "    params[\"objective\"] = \"binary\"\n",
    "    params['metric'] = 'auc'\n",
    "    params[\"max_depth\"] = dep\n",
    "    params[\"num_leaves\"] = 31\n",
    "    params[\"min_data_in_leaf\"] = data_leaf\n",
    "    params[\"learning_rate\"] = 0.01\n",
    "    params[\"bagging_fraction\"] = 0.9\n",
    "    params[\"feature_fraction\"] = 0.5\n",
    "    params[\"feature_fraction_seed\"] = seed\n",
    "    params[\"bagging_freq\"] = 1\n",
    "    params[\"bagging_seed\"] = seed\n",
    "    params[\"lambda_l2\"] =5\n",
    "    params[\"lambda_l1\"] = 5\n",
    "    params[\"verbosity\"] = -1\n",
    "    num_rounds = 25000\n",
    "\n",
    "    plst = list(params.items())\n",
    "    lgtrain = lgb.Dataset(train_X, label=train_y)\n",
    "\n",
    "    if test_y is not None:\n",
    "        lgtest = lgb.Dataset(test_X, label=test_y)\n",
    "        model = lgb.train(params, lgtrain, num_rounds, valid_sets=[lgtest], early_stopping_rounds=200, verbose_eval=500)\n",
    "    else:\n",
    "        lgtest = lgb.DMatrix(test_X)\n",
    "        model = lgb.train(params, lgtrain, num_rounds)\n",
    "\n",
    "    pred_test_y = model.predict(test_X, num_iteration=model.best_iteration)\n",
    "    pred_test_y2 = model.predict(test_X2, num_iteration=model.best_iteration)\n",
    "\n",
    "    loss = 0\n",
    "    if test_y is not None:\n",
    "        loss = metrics.roc_auc_score(test_y, pred_test_y)\n",
    "        print(loss)\n",
    "        return model, loss, pred_test_y, pred_test_y2\n",
    "    else:\n",
    "        return model, loss, pred_test_y, pred_test_y2"
   ]
  },
  {
   "cell_type": "code",
   "execution_count": 66,
   "metadata": {},
   "outputs": [
    {
     "name": "stdout",
     "output_type": "stream",
     "text": [
      "Building model..\n",
      "Training until validation scores don't improve for 200 rounds\n",
      "Early stopping, best iteration is:\n",
      "[185]\tvalid_0's auc: 0.657636\n",
      "0.6576364564439908\n",
      "Training until validation scores don't improve for 200 rounds\n",
      "Early stopping, best iteration is:\n",
      "[137]\tvalid_0's auc: 0.658252\n",
      "0.6582523390104843\n",
      "Training until validation scores don't improve for 200 rounds\n",
      "Early stopping, best iteration is:\n",
      "[11]\tvalid_0's auc: 0.658414\n",
      "0.658413887824973\n",
      "Training until validation scores don't improve for 200 rounds\n",
      "Early stopping, best iteration is:\n",
      "[292]\tvalid_0's auc: 0.662836\n",
      "0.6628360856031704\n",
      "Training until validation scores don't improve for 200 rounds\n",
      "Early stopping, best iteration is:\n",
      "[291]\tvalid_0's auc: 0.662466\n",
      "0.6624659432023188\n",
      "Training until validation scores don't improve for 200 rounds\n",
      "Early stopping, best iteration is:\n",
      "[182]\tvalid_0's auc: 0.664062\n",
      "0.6640618068494366\n",
      "Training until validation scores don't improve for 200 rounds\n",
      "[500]\tvalid_0's auc: 0.658981\n",
      "Early stopping, best iteration is:\n",
      "[509]\tvalid_0's auc: 0.659037\n",
      "0.6590374852135009\n",
      "Training until validation scores don't improve for 200 rounds\n",
      "[500]\tvalid_0's auc: 0.658069\n",
      "Early stopping, best iteration is:\n",
      "[430]\tvalid_0's auc: 0.658508\n",
      "0.6585078178579483\n",
      "Training until validation scores don't improve for 200 rounds\n",
      "[500]\tvalid_0's auc: 0.659005\n",
      "Early stopping, best iteration is:\n",
      "[407]\tvalid_0's auc: 0.659408\n",
      "0.6594084709954479\n",
      "0.6602307190971023\n"
     ]
    }
   ],
   "source": [
    "print(\"Building model..\")\n",
    "cv_scores = []\n",
    "pred_test_full = 0\n",
    "pred_train = np.zeros(train_X.shape[0])\n",
    "n_splits = 3\n",
    "#kf = model_selection.KFold(n_splits=n_splits, shuffle=True, random_state=7988)\n",
    "gkf = model_selection.GroupKFold(n_splits=n_splits)\n",
    "model_name = \"lgb\"\n",
    "for dev_index, val_index in gkf.split(train_X, df['target'][:18359].values, df['enrollee_id'][:18359].values):\n",
    "    dev_X, val_X = train_X.iloc[dev_index,:], train_X.iloc[val_index,:]\n",
    "    dev_y, val_y = train_y[dev_index], train_y[val_index]\n",
    "    pred_val = 0\n",
    "    pred_test = 0\n",
    "    n_models = 0.\n",
    "\n",
    "    model, loss, pred_v, pred_t = runLGB(dev_X, dev_y, val_X, val_y, test_X, dep=8, seed=2019)\n",
    "    pred_val += pred_v\n",
    "    pred_test += pred_t\n",
    "    n_models += 1\n",
    "    \n",
    "    model, loss, pred_v, pred_t = runLGB(dev_X, dev_y, val_X, val_y, test_X, dep=7, data_leaf=100, seed=9873)\n",
    "    pred_val += pred_v\n",
    "    pred_test += pred_t\n",
    "    n_models += 1\n",
    "    \n",
    "    model, loss, pred_v, pred_t = runLGB(dev_X, dev_y, val_X, val_y, test_X, dep=9, data_leaf=150, seed=4568)\n",
    "    pred_val += pred_v\n",
    "    pred_test += pred_t\n",
    "    n_models += 1\n",
    "    \n",
    "    pred_val /= n_models\n",
    "    pred_test /= n_models\n",
    "    \n",
    "    loss = metrics.roc_auc_score(val_y, pred_val)\n",
    "        \n",
    "    pred_train[val_index] = pred_val\n",
    "    pred_test_full += pred_test / n_splits\n",
    "    cv_scores.append(loss)\n",
    "#     break\n",
    "print(np.mean(cv_scores))"
   ]
  },
  {
   "cell_type": "code",
   "execution_count": 67,
   "metadata": {},
   "outputs": [
    {
     "data": {
      "image/png": "[encoded data removed]",
      "text/plain": [
       "<Figure size 720x720 with 1 Axes>"
      ]
     },
     "metadata": {
      "needs_background": "light"
     },
     "output_type": "display_data"
    }
   ],
   "source": [
    "fig, ax = plt.subplots(figsize=(10,10))\n",
    "lgb.plot_importance(model, max_num_features=100, height=0.8, ax=ax)\n",
    "ax.grid(False)\n",
    "plt.title(\"LightGBM - Feature Importance\", fontsize=15)\n",
    "plt.show()"
   ]
  },
  {
   "cell_type": "code",
   "execution_count": 68,
   "metadata": {},
   "outputs": [],
   "source": [
    "sample[\"target\"] = pred_test_full\n",
    "sample.to_csv(\"Solution.csv\", index=False)"
   ]
  },
  {
   "cell_type": "markdown",
   "metadata": {},
   "source": [
    "##### *After the Results I have found that I have done almost similar in Feature Engineering, Treating missing Values, But Have to show improvement in Grid Search, CrossValidation and Model Building*"
   ]
  }
 ],
 "metadata": {
  "kernelspec": {
   "display_name": "Python 3",
   "language": "python",
   "name": "python3"
  },
  "language_info": {
   "codemirror_mode": {
    "name": "ipython",
    "version": 3
   },
   "file_extension": ".py",
   "mimetype": "text/x-python",
   "name": "python",
   "nbconvert_exporter": "python",
   "pygments_lexer": "ipython3",
   "version": "3.7.1"
  }
 },
 "nbformat": 4,
 "nbformat_minor": 2
}
