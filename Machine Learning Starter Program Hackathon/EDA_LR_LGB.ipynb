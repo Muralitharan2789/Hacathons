{
  "nbformat": 4,
  "nbformat_minor": 0,
  "metadata": {
    "kernelspec": {
      "display_name": "Python 3",
      "language": "python",
      "name": "python3"
    },
    "language_info": {
      "codemirror_mode": {
        "name": "ipython",
        "version": 3
      },
      "file_extension": ".py",
      "mimetype": "text/x-python",
      "name": "python",
      "nbconvert_exporter": "python",
      "pygments_lexer": "ipython3",
      "version": "3.7.1"
    },
    "colab": {
      "name": "Code.ipynb",
      "provenance": []
    }
  },
  "cells": [
    {
      "cell_type": "markdown",
      "metadata": {
        "id": "kcFaSV2pKB88",
        "colab_type": "text"
      },
      "source": [
        "https://datahack.analyticsvidhya.com/contest/machine-learning-starter-program-hackathon/"
      ]
    },
    {
      "cell_type": "markdown",
      "metadata": {
        "id": "78R-oEJPKB8-",
        "colab_type": "text"
      },
      "source": [
        "#### Importing Libraries"
      ]
    },
    {
      "cell_type": "code",
      "metadata": {
        "id": "zKesyOpgKB9A",
        "colab_type": "code",
        "colab": {}
      },
      "source": [
        "import numpy as np\n",
        "import pandas as pd\n",
        "from sklearn.preprocessing import LabelEncoder\n",
        "from sklearn.linear_model import LogisticRegression\n",
        "from sklearn.utils import resample\n",
        "from xgboost import XGBClassifier\n",
        "import lightgbm as lgb\n",
        "from sklearn.model_selection import StratifiedKFold\n",
        "from sklearn.model_selection import RandomizedSearchCV, GridSearchCV\n",
        "from datetime import datetime"
      ],
      "execution_count": 0,
      "outputs": []
    },
    {
      "cell_type": "code",
      "metadata": {
        "id": "A5yEKMETKB9I",
        "colab_type": "code",
        "colab": {
          "base_uri": "https://localhost:8080/",
          "height": 70
        },
        "outputId": "883c990c-5a11-4bd2-edc4-11e46ccfcf60"
      },
      "source": [
        "import seaborn as sns\n",
        "sns.set()\n",
        "sns.set(style=\"darkgrid\")\n",
        "import matplotlib.pyplot as plt\n",
        "%matplotlib inline\n",
        "import warnings\n",
        "warnings.filterwarnings(\"ignore\")\n",
        "plt.rcParams['figure.figsize']=(12,8)"
      ],
      "execution_count": 2,
      "outputs": [
        {
          "output_type": "stream",
          "text": [
            "/usr/local/lib/python3.6/dist-packages/statsmodels/tools/_testing.py:19: FutureWarning: pandas.util.testing is deprecated. Use the functions in the public API at pandas.testing instead.\n",
            "  import pandas.util.testing as tm\n"
          ],
          "name": "stderr"
        }
      ]
    },
    {
      "cell_type": "markdown",
      "metadata": {
        "id": "rgOmsbPSKB9Q",
        "colab_type": "text"
      },
      "source": [
        "#### Importing Datasets"
      ]
    },
    {
      "cell_type": "code",
      "metadata": {
        "id": "Ndlfb1WEKB9R",
        "colab_type": "code",
        "colab": {}
      },
      "source": [
        "train=pd.read_csv('train_HK6lq50.csv')\n",
        "test=pd.read_csv('test_wF0Ps6O.csv')\n",
        "sample=pd.read_csv('sample_submission_vaSxamm.csv')"
      ],
      "execution_count": 0,
      "outputs": []
    },
    {
      "cell_type": "markdown",
      "metadata": {
        "id": "fKlis5M0KB9X",
        "colab_type": "text"
      },
      "source": [
        "#### Knowing about data's"
      ]
    },
    {
      "cell_type": "code",
      "metadata": {
        "id": "-9c_6dqkKB9Z",
        "colab_type": "code",
        "colab": {
          "base_uri": "https://localhost:8080/",
          "height": 34
        },
        "outputId": "bc10bf83-661c-4502-92dc-3d212d89fbc6"
      },
      "source": [
        "train.shape,test.shape"
      ],
      "execution_count": 4,
      "outputs": [
        {
          "output_type": "execute_result",
          "data": {
            "text/plain": [
              "((73147, 16), (31349, 15))"
            ]
          },
          "metadata": {
            "tags": []
          },
          "execution_count": 4
        }
      ]
    },
    {
      "cell_type": "code",
      "metadata": {
        "id": "ZsrLd-bVKB9f",
        "colab_type": "code",
        "colab": {
          "base_uri": "https://localhost:8080/",
          "height": 173
        },
        "outputId": "9952fa97-3864-4b1e-ba60-8d4e6b0705ed"
      },
      "source": [
        "train.head(3)"
      ],
      "execution_count": 5,
      "outputs": [
        {
          "output_type": "execute_result",
          "data": {
            "text/html": [
              "<div>\n",
              "<style scoped>\n",
              "    .dataframe tbody tr th:only-of-type {\n",
              "        vertical-align: middle;\n",
              "    }\n",
              "\n",
              "    .dataframe tbody tr th {\n",
              "        vertical-align: top;\n",
              "    }\n",
              "\n",
              "    .dataframe thead th {\n",
              "        text-align: right;\n",
              "    }\n",
              "</style>\n",
              "<table border=\"1\" class=\"dataframe\">\n",
              "  <thead>\n",
              "    <tr style=\"text-align: right;\">\n",
              "      <th></th>\n",
              "      <th>id</th>\n",
              "      <th>program_id</th>\n",
              "      <th>program_type</th>\n",
              "      <th>program_duration</th>\n",
              "      <th>test_id</th>\n",
              "      <th>test_type</th>\n",
              "      <th>difficulty_level</th>\n",
              "      <th>trainee_id</th>\n",
              "      <th>gender</th>\n",
              "      <th>education</th>\n",
              "      <th>city_tier</th>\n",
              "      <th>age</th>\n",
              "      <th>total_programs_enrolled</th>\n",
              "      <th>is_handicapped</th>\n",
              "      <th>trainee_engagement_rating</th>\n",
              "      <th>is_pass</th>\n",
              "    </tr>\n",
              "  </thead>\n",
              "  <tbody>\n",
              "    <tr>\n",
              "      <th>0</th>\n",
              "      <td>9389_150</td>\n",
              "      <td>Y_1</td>\n",
              "      <td>Y</td>\n",
              "      <td>136</td>\n",
              "      <td>150</td>\n",
              "      <td>offline</td>\n",
              "      <td>intermediate</td>\n",
              "      <td>9389</td>\n",
              "      <td>M</td>\n",
              "      <td>Matriculation</td>\n",
              "      <td>3</td>\n",
              "      <td>24.0</td>\n",
              "      <td>5</td>\n",
              "      <td>N</td>\n",
              "      <td>1.0</td>\n",
              "      <td>0</td>\n",
              "    </tr>\n",
              "    <tr>\n",
              "      <th>1</th>\n",
              "      <td>16523_44</td>\n",
              "      <td>T_1</td>\n",
              "      <td>T</td>\n",
              "      <td>131</td>\n",
              "      <td>44</td>\n",
              "      <td>offline</td>\n",
              "      <td>easy</td>\n",
              "      <td>16523</td>\n",
              "      <td>F</td>\n",
              "      <td>High School Diploma</td>\n",
              "      <td>4</td>\n",
              "      <td>26.0</td>\n",
              "      <td>2</td>\n",
              "      <td>N</td>\n",
              "      <td>3.0</td>\n",
              "      <td>1</td>\n",
              "    </tr>\n",
              "    <tr>\n",
              "      <th>2</th>\n",
              "      <td>13987_178</td>\n",
              "      <td>Z_2</td>\n",
              "      <td>Z</td>\n",
              "      <td>120</td>\n",
              "      <td>178</td>\n",
              "      <td>online</td>\n",
              "      <td>easy</td>\n",
              "      <td>13987</td>\n",
              "      <td>M</td>\n",
              "      <td>Matriculation</td>\n",
              "      <td>1</td>\n",
              "      <td>40.0</td>\n",
              "      <td>1</td>\n",
              "      <td>N</td>\n",
              "      <td>2.0</td>\n",
              "      <td>1</td>\n",
              "    </tr>\n",
              "  </tbody>\n",
              "</table>\n",
              "</div>"
            ],
            "text/plain": [
              "          id program_id  ... trainee_engagement_rating  is_pass\n",
              "0   9389_150        Y_1  ...                       1.0        0\n",
              "1   16523_44        T_1  ...                       3.0        1\n",
              "2  13987_178        Z_2  ...                       2.0        1\n",
              "\n",
              "[3 rows x 16 columns]"
            ]
          },
          "metadata": {
            "tags": []
          },
          "execution_count": 5
        }
      ]
    },
    {
      "cell_type": "code",
      "metadata": {
        "id": "OIKJBuQ2KB9l",
        "colab_type": "code",
        "colab": {
          "base_uri": "https://localhost:8080/",
          "height": 302
        },
        "outputId": "f6b0067e-d4f3-40bf-8aa5-5f233062873e"
      },
      "source": [
        "train.dtypes"
      ],
      "execution_count": 6,
      "outputs": [
        {
          "output_type": "execute_result",
          "data": {
            "text/plain": [
              "id                            object\n",
              "program_id                    object\n",
              "program_type                  object\n",
              "program_duration               int64\n",
              "test_id                        int64\n",
              "test_type                     object\n",
              "difficulty_level              object\n",
              "trainee_id                     int64\n",
              "gender                        object\n",
              "education                     object\n",
              "city_tier                      int64\n",
              "age                          float64\n",
              "total_programs_enrolled        int64\n",
              "is_handicapped                object\n",
              "trainee_engagement_rating    float64\n",
              "is_pass                        int64\n",
              "dtype: object"
            ]
          },
          "metadata": {
            "tags": []
          },
          "execution_count": 6
        }
      ]
    },
    {
      "cell_type": "code",
      "metadata": {
        "id": "RUKownknKB9s",
        "colab_type": "code",
        "colab": {
          "base_uri": "https://localhost:8080/",
          "height": 302
        },
        "outputId": "c2372e77-e23c-44af-97ba-e60ae328b296"
      },
      "source": [
        "train.isnull().sum()"
      ],
      "execution_count": 7,
      "outputs": [
        {
          "output_type": "execute_result",
          "data": {
            "text/plain": [
              "id                               0\n",
              "program_id                       0\n",
              "program_type                     0\n",
              "program_duration                 0\n",
              "test_id                          0\n",
              "test_type                        0\n",
              "difficulty_level                 0\n",
              "trainee_id                       0\n",
              "gender                           0\n",
              "education                        0\n",
              "city_tier                        0\n",
              "age                          27729\n",
              "total_programs_enrolled          0\n",
              "is_handicapped                   0\n",
              "trainee_engagement_rating       77\n",
              "is_pass                          0\n",
              "dtype: int64"
            ]
          },
          "metadata": {
            "tags": []
          },
          "execution_count": 7
        }
      ]
    },
    {
      "cell_type": "code",
      "metadata": {
        "id": "Nenubey2KB9y",
        "colab_type": "code",
        "colab": {
          "base_uri": "https://localhost:8080/",
          "height": 284
        },
        "outputId": "dc27dfc3-9959-4fe5-d9f6-5d379c4c7964"
      },
      "source": [
        "train.describe()"
      ],
      "execution_count": 8,
      "outputs": [
        {
          "output_type": "execute_result",
          "data": {
            "text/html": [
              "<div>\n",
              "<style scoped>\n",
              "    .dataframe tbody tr th:only-of-type {\n",
              "        vertical-align: middle;\n",
              "    }\n",
              "\n",
              "    .dataframe tbody tr th {\n",
              "        vertical-align: top;\n",
              "    }\n",
              "\n",
              "    .dataframe thead th {\n",
              "        text-align: right;\n",
              "    }\n",
              "</style>\n",
              "<table border=\"1\" class=\"dataframe\">\n",
              "  <thead>\n",
              "    <tr style=\"text-align: right;\">\n",
              "      <th></th>\n",
              "      <th>program_duration</th>\n",
              "      <th>test_id</th>\n",
              "      <th>trainee_id</th>\n",
              "      <th>city_tier</th>\n",
              "      <th>age</th>\n",
              "      <th>total_programs_enrolled</th>\n",
              "      <th>trainee_engagement_rating</th>\n",
              "      <th>is_pass</th>\n",
              "    </tr>\n",
              "  </thead>\n",
              "  <tbody>\n",
              "    <tr>\n",
              "      <th>count</th>\n",
              "      <td>73147.000000</td>\n",
              "      <td>73147.000000</td>\n",
              "      <td>73147.000000</td>\n",
              "      <td>73147.000000</td>\n",
              "      <td>45418.000000</td>\n",
              "      <td>73147.000000</td>\n",
              "      <td>73070.000000</td>\n",
              "      <td>73147.000000</td>\n",
              "    </tr>\n",
              "    <tr>\n",
              "      <th>mean</th>\n",
              "      <td>128.208676</td>\n",
              "      <td>91.079306</td>\n",
              "      <td>9843.079620</td>\n",
              "      <td>2.246845</td>\n",
              "      <td>36.494033</td>\n",
              "      <td>2.583934</td>\n",
              "      <td>2.395634</td>\n",
              "      <td>0.695408</td>\n",
              "    </tr>\n",
              "    <tr>\n",
              "      <th>std</th>\n",
              "      <td>6.889679</td>\n",
              "      <td>51.239048</td>\n",
              "      <td>5703.556093</td>\n",
              "      <td>1.011587</td>\n",
              "      <td>9.041119</td>\n",
              "      <td>1.240816</td>\n",
              "      <td>1.325288</td>\n",
              "      <td>0.460238</td>\n",
              "    </tr>\n",
              "    <tr>\n",
              "      <th>min</th>\n",
              "      <td>117.000000</td>\n",
              "      <td>0.000000</td>\n",
              "      <td>1.000000</td>\n",
              "      <td>1.000000</td>\n",
              "      <td>17.000000</td>\n",
              "      <td>1.000000</td>\n",
              "      <td>1.000000</td>\n",
              "      <td>0.000000</td>\n",
              "    </tr>\n",
              "    <tr>\n",
              "      <th>25%</th>\n",
              "      <td>121.000000</td>\n",
              "      <td>45.000000</td>\n",
              "      <td>5040.000000</td>\n",
              "      <td>1.000000</td>\n",
              "      <td>28.000000</td>\n",
              "      <td>2.000000</td>\n",
              "      <td>1.000000</td>\n",
              "      <td>0.000000</td>\n",
              "    </tr>\n",
              "    <tr>\n",
              "      <th>50%</th>\n",
              "      <td>131.000000</td>\n",
              "      <td>90.000000</td>\n",
              "      <td>9641.000000</td>\n",
              "      <td>2.000000</td>\n",
              "      <td>39.000000</td>\n",
              "      <td>2.000000</td>\n",
              "      <td>2.000000</td>\n",
              "      <td>1.000000</td>\n",
              "    </tr>\n",
              "    <tr>\n",
              "      <th>75%</th>\n",
              "      <td>134.000000</td>\n",
              "      <td>135.000000</td>\n",
              "      <td>14552.000000</td>\n",
              "      <td>3.000000</td>\n",
              "      <td>45.000000</td>\n",
              "      <td>3.000000</td>\n",
              "      <td>4.000000</td>\n",
              "      <td>1.000000</td>\n",
              "    </tr>\n",
              "    <tr>\n",
              "      <th>max</th>\n",
              "      <td>136.000000</td>\n",
              "      <td>187.000000</td>\n",
              "      <td>20098.000000</td>\n",
              "      <td>4.000000</td>\n",
              "      <td>63.000000</td>\n",
              "      <td>14.000000</td>\n",
              "      <td>5.000000</td>\n",
              "      <td>1.000000</td>\n",
              "    </tr>\n",
              "  </tbody>\n",
              "</table>\n",
              "</div>"
            ],
            "text/plain": [
              "       program_duration       test_id  ...  trainee_engagement_rating       is_pass\n",
              "count      73147.000000  73147.000000  ...               73070.000000  73147.000000\n",
              "mean         128.208676     91.079306  ...                   2.395634      0.695408\n",
              "std            6.889679     51.239048  ...                   1.325288      0.460238\n",
              "min          117.000000      0.000000  ...                   1.000000      0.000000\n",
              "25%          121.000000     45.000000  ...                   1.000000      0.000000\n",
              "50%          131.000000     90.000000  ...                   2.000000      1.000000\n",
              "75%          134.000000    135.000000  ...                   4.000000      1.000000\n",
              "max          136.000000    187.000000  ...                   5.000000      1.000000\n",
              "\n",
              "[8 rows x 8 columns]"
            ]
          },
          "metadata": {
            "tags": []
          },
          "execution_count": 8
        }
      ]
    },
    {
      "cell_type": "code",
      "metadata": {
        "id": "aBClGIXtKB95",
        "colab_type": "code",
        "colab": {
          "base_uri": "https://localhost:8080/",
          "height": 403
        },
        "outputId": "83c86e42-5a88-4a50-ba9a-99f5dada334e"
      },
      "source": [
        "train.info()"
      ],
      "execution_count": 9,
      "outputs": [
        {
          "output_type": "stream",
          "text": [
            "<class 'pandas.core.frame.DataFrame'>\n",
            "RangeIndex: 73147 entries, 0 to 73146\n",
            "Data columns (total 16 columns):\n",
            " #   Column                     Non-Null Count  Dtype  \n",
            "---  ------                     --------------  -----  \n",
            " 0   id                         73147 non-null  object \n",
            " 1   program_id                 73147 non-null  object \n",
            " 2   program_type               73147 non-null  object \n",
            " 3   program_duration           73147 non-null  int64  \n",
            " 4   test_id                    73147 non-null  int64  \n",
            " 5   test_type                  73147 non-null  object \n",
            " 6   difficulty_level           73147 non-null  object \n",
            " 7   trainee_id                 73147 non-null  int64  \n",
            " 8   gender                     73147 non-null  object \n",
            " 9   education                  73147 non-null  object \n",
            " 10  city_tier                  73147 non-null  int64  \n",
            " 11  age                        45418 non-null  float64\n",
            " 12  total_programs_enrolled    73147 non-null  int64  \n",
            " 13  is_handicapped             73147 non-null  object \n",
            " 14  trainee_engagement_rating  73070 non-null  float64\n",
            " 15  is_pass                    73147 non-null  int64  \n",
            "dtypes: float64(2), int64(6), object(8)\n",
            "memory usage: 8.9+ MB\n"
          ],
          "name": "stdout"
        }
      ]
    },
    {
      "cell_type": "markdown",
      "metadata": {
        "id": "vkKBoraCKB99",
        "colab_type": "text"
      },
      "source": [
        "#### Missing Value treatment"
      ]
    },
    {
      "cell_type": "code",
      "metadata": {
        "id": "Svg2fTd-KB9-",
        "colab_type": "code",
        "colab": {
          "base_uri": "https://localhost:8080/",
          "height": 34
        },
        "outputId": "a25f5c23-15be-476a-d5a1-74f95bc4fa0e"
      },
      "source": [
        "Missing_Variables=train.columns[train.isnull().any()]\n",
        "Missing_Variables"
      ],
      "execution_count": 10,
      "outputs": [
        {
          "output_type": "execute_result",
          "data": {
            "text/plain": [
              "Index(['age', 'trainee_engagement_rating'], dtype='object')"
            ]
          },
          "metadata": {
            "tags": []
          },
          "execution_count": 10
        }
      ]
    },
    {
      "cell_type": "code",
      "metadata": {
        "id": "agvd9jWTKB-C",
        "colab_type": "code",
        "colab": {}
      },
      "source": [
        "for object in Missing_Variables:\n",
        "    train[object].fillna(train[object].mode()[0], inplace=True)"
      ],
      "execution_count": 0,
      "outputs": []
    },
    {
      "cell_type": "markdown",
      "metadata": {
        "id": "_61H6ejcKB-J",
        "colab_type": "text"
      },
      "source": [
        "#### EDA"
      ]
    },
    {
      "cell_type": "markdown",
      "metadata": {
        "id": "Y0ugfhueKB-K",
        "colab_type": "text"
      },
      "source": [
        "##### Target Exploration"
      ]
    },
    {
      "cell_type": "code",
      "metadata": {
        "id": "Tt1HDbEFKB-P",
        "colab_type": "code",
        "colab": {
          "base_uri": "https://localhost:8080/",
          "height": 67
        },
        "outputId": "2ee665bf-c83b-428a-f1ba-902cfc3ad5ad"
      },
      "source": [
        "train['is_pass'].value_counts(normalize=True)"
      ],
      "execution_count": 12,
      "outputs": [
        {
          "output_type": "execute_result",
          "data": {
            "text/plain": [
              "1    0.695408\n",
              "0    0.304592\n",
              "Name: is_pass, dtype: float64"
            ]
          },
          "metadata": {
            "tags": []
          },
          "execution_count": 12
        }
      ]
    },
    {
      "cell_type": "code",
      "metadata": {
        "id": "U6aQlDLMKB-U",
        "colab_type": "code",
        "colab": {
          "base_uri": "https://localhost:8080/",
          "height": 519
        },
        "outputId": "74734401-7058-4f58-8830-bceddfb43893"
      },
      "source": [
        "sns.countplot(train['is_pass'])"
      ],
      "execution_count": 13,
      "outputs": [
        {
          "output_type": "execute_result",
          "data": {
            "text/plain": [
              "<matplotlib.axes._subplots.AxesSubplot at 0x7f8882baf128>"
            ]
          },
          "metadata": {
            "tags": []
          },
          "execution_count": 13
        },
        {
          "output_type": "display_data",
          "data": {
            "image/png": "[encoded data removed]",
            "text/plain": [
              "<Figure size 864x576 with 1 Axes>"
            ]
          },
          "metadata": {
            "tags": [],
            "needs_background": "light"
          }
        }
      ]
    },
    {
      "cell_type": "markdown",
      "metadata": {
        "id": "63btCHG_KB-a",
        "colab_type": "text"
      },
      "source": [
        "##### Univariate Analysis"
      ]
    },
    {
      "cell_type": "code",
      "metadata": {
        "id": "wtCz2wyVKB-c",
        "colab_type": "code",
        "colab": {
          "base_uri": "https://localhost:8080/",
          "height": 360
        },
        "outputId": "6d228212-d3ad-4fc2-91a3-8360565d0b08"
      },
      "source": [
        "plt.figure(figsize=(22, 6))\n",
        "plt.subplot(121)\n",
        "sns.countplot(train['program_id'],order = train['program_id'].value_counts().index)\n",
        "plt.subplot(122)\n",
        "sns.countplot(train['program_type'],order = train['program_type'].value_counts().index)"
      ],
      "execution_count": 14,
      "outputs": [
        {
          "output_type": "execute_result",
          "data": {
            "text/plain": [
              "<matplotlib.axes._subplots.AxesSubplot at 0x7f88816c36d8>"
            ]
          },
          "metadata": {
            "tags": []
          },
          "execution_count": 14
        },
        {
          "output_type": "display_data",
          "data": {
            "image/png": "[encoded data removed]",
            "text/plain": [
              "<Figure size 1584x432 with 2 Axes>"
            ]
          },
          "metadata": {
            "tags": [],
            "needs_background": "light"
          }
        }
      ]
    },
    {
      "cell_type": "code",
      "metadata": {
        "id": "A61_OxmmKB-f",
        "colab_type": "code",
        "colab": {
          "base_uri": "https://localhost:8080/",
          "height": 227
        },
        "outputId": "fe4b7ada-e3a4-4582-dfc0-ef3dc64ef90a"
      },
      "source": [
        "plt.figure(figsize=(22, 6))\n",
        "plt.subplot(131)\n",
        "sns.countplot(train['difficulty_level'],order = train['difficulty_level'].value_counts().index)\n",
        "plt.subplot(132)\n",
        "sns.countplot(train['gender'],order = train['gender'].value_counts().index)\n",
        "plt.subplot(133)\n",
        "sns.countplot(train['education'],order = train['education'].value_counts().index)"
      ],
      "execution_count": 15,
      "outputs": [
        {
          "output_type": "execute_result",
          "data": {
            "text/plain": [
              "<matplotlib.axes._subplots.AxesSubplot at 0x7f888157dc88>"
            ]
          },
          "metadata": {
            "tags": []
          },
          "execution_count": 15
        },
        {
          "output_type": "display_data",
          "data": {
            "image/png": "[encoded data removed]",
            "text/plain": [
              "<Figure size 1584x432 with 3 Axes>"
            ]
          },
          "metadata": {
            "tags": [],
            "needs_background": "light"
          }
        }
      ]
    },
    {
      "cell_type": "code",
      "metadata": {
        "id": "2GfATaVsKB-l",
        "colab_type": "code",
        "colab": {
          "base_uri": "https://localhost:8080/",
          "height": 227
        },
        "outputId": "d983cf6c-d080-44d8-baf6-fd0f2e5aebd2"
      },
      "source": [
        "plt.figure(figsize=(22, 6))\n",
        "plt.subplot(121)\n",
        "sns.countplot(train['city_tier'],order = train['city_tier'].value_counts().index)\n",
        "plt.subplot(122)\n",
        "sns.countplot(train['test_type'],order = train['test_type'].value_counts().index)"
      ],
      "execution_count": 16,
      "outputs": [
        {
          "output_type": "execute_result",
          "data": {
            "text/plain": [
              "<matplotlib.axes._subplots.AxesSubplot at 0x7f888147f208>"
            ]
          },
          "metadata": {
            "tags": []
          },
          "execution_count": 16
        },
        {
          "output_type": "display_data",
          "data": {
            "image/png": "[encoded data removed]",
            "text/plain": [
              "<Figure size 1584x432 with 2 Axes>"
            ]
          },
          "metadata": {
            "tags": [],
            "needs_background": "light"
          }
        }
      ]
    },
    {
      "cell_type": "markdown",
      "metadata": {
        "id": "3VuWtXMMKB-r",
        "colab_type": "text"
      },
      "source": [
        "##### Bivariate Analysis"
      ]
    },
    {
      "cell_type": "code",
      "metadata": {
        "id": "Vb5XCKrrKB-s",
        "colab_type": "code",
        "colab": {
          "base_uri": "https://localhost:8080/",
          "height": 230
        },
        "outputId": "7b5f99c6-d8ae-450b-dd74-f62dcd276e79"
      },
      "source": [
        "plt.figure(figsize=(22, 6))\n",
        "plt.subplot(121)\n",
        "city_tier_counts = (train.groupby(['is_pass'])['difficulty_level'].value_counts(normalize=True).rename('percentage').mul(100).reset_index().sort_values('is_pass'))\n",
        "sns.barplot(x=\"difficulty_level\", y=\"percentage\", hue=\"is_pass\", data=city_tier_counts)\n",
        "plt.subplot(122)\n",
        "test_type_counts = (train.groupby(['is_pass'])['gender'].value_counts(normalize=True).rename('percentage').mul(100).reset_index().sort_values('is_pass'))\n",
        "sns.barplot(x=\"gender\", y=\"percentage\", hue=\"is_pass\", data=test_type_counts)"
      ],
      "execution_count": 17,
      "outputs": [
        {
          "output_type": "execute_result",
          "data": {
            "text/plain": [
              "<matplotlib.axes._subplots.AxesSubplot at 0x7f88813a35c0>"
            ]
          },
          "metadata": {
            "tags": []
          },
          "execution_count": 17
        },
        {
          "output_type": "display_data",
          "data": {
            "image/png": "[encoded data removed]",
            "text/plain": [
              "<Figure size 1584x432 with 2 Axes>"
            ]
          },
          "metadata": {
            "tags": [],
            "needs_background": "light"
          }
        }
      ]
    },
    {
      "cell_type": "markdown",
      "metadata": {
        "id": "URilcM00KB-v",
        "colab_type": "text"
      },
      "source": [
        "##### Other Methods\n",
        "x,y = 'difficulty_level', 'is_pass'\n",
        "(train.groupby(x)[y].value_counts(normalize=True).mul(100).rename('percent').reset_index().pipe((sns.catplot,'data'), x=x,y='percent',hue=y,kind='bar'))\n",
        "\n",
        "x,y = 'gender', 'is_pass'\n",
        "(train.groupby(x)[y].value_counts(normalize=True).mul(100).rename('percent').reset_index().pipe((sns.catplot,'data'), x=x,y='percent',hue=y,kind='bar'))"
      ]
    },
    {
      "cell_type": "code",
      "metadata": {
        "id": "2vQCd0HYKB-w",
        "colab_type": "code",
        "colab": {
          "base_uri": "https://localhost:8080/",
          "height": 519
        },
        "outputId": "5035a23f-38d4-46c3-ba99-72ce64c25a36"
      },
      "source": [
        "education_counts = (train.groupby(['education'])['is_pass'].value_counts(normalize=True).rename('percentage').mul(100).reset_index().sort_values('education'))\n",
        "sns.barplot(x=\"is_pass\", y=\"percentage\", hue=\"education\", data=education_counts)"
      ],
      "execution_count": 18,
      "outputs": [
        {
          "output_type": "execute_result",
          "data": {
            "text/plain": [
              "<matplotlib.axes._subplots.AxesSubplot at 0x7f8881b1de10>"
            ]
          },
          "metadata": {
            "tags": []
          },
          "execution_count": 18
        },
        {
          "output_type": "display_data",
          "data": {
            "image/png": "[encoded data removed]",
            "text/plain": [
              "<Figure size 864x576 with 1 Axes>"
            ]
          },
          "metadata": {
            "tags": [],
            "needs_background": "light"
          }
        }
      ]
    },
    {
      "cell_type": "code",
      "metadata": {
        "id": "gtPU161oKB-z",
        "colab_type": "code",
        "colab": {
          "base_uri": "https://localhost:8080/",
          "height": 519
        },
        "outputId": "d6353807-1a94-4500-8d87-6447b5ead598"
      },
      "source": [
        "education_counts = (train.groupby(['is_pass'])['program_type'].value_counts(normalize=True).rename('percentage').mul(100).reset_index().sort_values('is_pass'))\n",
        "sns.barplot(x=\"program_type\", y=\"percentage\", hue=\"is_pass\", data=education_counts)"
      ],
      "execution_count": 19,
      "outputs": [
        {
          "output_type": "execute_result",
          "data": {
            "text/plain": [
              "<matplotlib.axes._subplots.AxesSubplot at 0x7f8881211c50>"
            ]
          },
          "metadata": {
            "tags": []
          },
          "execution_count": 19
        },
        {
          "output_type": "display_data",
          "data": {
            "image/png": "[encoded data removed]",
            "text/plain": [
              "<Figure size 864x576 with 1 Axes>"
            ]
          },
          "metadata": {
            "tags": [],
            "needs_background": "light"
          }
        }
      ]
    },
    {
      "cell_type": "code",
      "metadata": {
        "id": "vKwfi1nvKB-2",
        "colab_type": "code",
        "colab": {
          "base_uri": "https://localhost:8080/",
          "height": 230
        },
        "outputId": "86ef9c05-0282-40f8-ff79-1c5def006a2e"
      },
      "source": [
        "plt.figure(figsize=(22, 6))\n",
        "plt.subplot(121)\n",
        "city_tier_counts = (train.groupby(['city_tier'])['is_pass'].value_counts(normalize=True).rename('percentage').mul(100).reset_index().sort_values('city_tier'))\n",
        "sns.barplot(x=\"is_pass\", y=\"percentage\", hue=\"city_tier\", data=city_tier_counts)\n",
        "plt.subplot(122)\n",
        "test_type_counts = (train.groupby(['test_type'])['is_pass'].value_counts(normalize=True).rename('percentage').mul(100).reset_index().sort_values('test_type'))\n",
        "sns.barplot(x=\"is_pass\", y=\"percentage\", hue=\"test_type\", data=test_type_counts)"
      ],
      "execution_count": 20,
      "outputs": [
        {
          "output_type": "execute_result",
          "data": {
            "text/plain": [
              "<matplotlib.axes._subplots.AxesSubplot at 0x7f888166de80>"
            ]
          },
          "metadata": {
            "tags": []
          },
          "execution_count": 20
        },
        {
          "output_type": "display_data",
          "data": {
            "image/png": "[encoded data removed]",
            "text/plain": [
              "<Figure size 1584x432 with 2 Axes>"
            ]
          },
          "metadata": {
            "tags": [],
            "needs_background": "light"
          }
        }
      ]
    },
    {
      "cell_type": "code",
      "metadata": {
        "id": "MPS16vuuKB-4",
        "colab_type": "code",
        "colab": {
          "base_uri": "https://localhost:8080/",
          "height": 229
        },
        "outputId": "7a458cd4-23fa-4633-d253-21585feebc36"
      },
      "source": [
        "plt.figure(figsize=(22, 6))\n",
        "plt.subplot(121)\n",
        "city_tier_counts = (train.groupby(['is_pass'])['program_duration'].value_counts(normalize=True).rename('percentage').mul(100).reset_index().sort_values('is_pass'))\n",
        "sns.barplot(x=\"program_duration\", y=\"percentage\", hue=\"is_pass\", data=city_tier_counts)\n",
        "plt.subplot(122)\n",
        "test_type_counts = (train.groupby(['is_pass'])['total_programs_enrolled'].value_counts(normalize=True).rename('percentage').mul(100).reset_index().sort_values('is_pass'))\n",
        "sns.barplot(x=\"total_programs_enrolled\", y=\"percentage\", hue=\"is_pass\", data=test_type_counts)"
      ],
      "execution_count": 21,
      "outputs": [
        {
          "output_type": "execute_result",
          "data": {
            "text/plain": [
              "<matplotlib.axes._subplots.AxesSubplot at 0x7f88815fec50>"
            ]
          },
          "metadata": {
            "tags": []
          },
          "execution_count": 21
        },
        {
          "output_type": "display_data",
          "data": {
            "image/png": "[encoded data removed]",
            "text/plain": [
              "<Figure size 1584x432 with 2 Axes>"
            ]
          },
          "metadata": {
            "tags": [],
            "needs_background": "light"
          }
        }
      ]
    },
    {
      "cell_type": "markdown",
      "metadata": {
        "id": "G87FWII6KB-7",
        "colab_type": "text"
      },
      "source": [
        "##### Co-Relation Matrix"
      ]
    },
    {
      "cell_type": "code",
      "metadata": {
        "id": "qUQ0aJnUKB-8",
        "colab_type": "code",
        "colab": {
          "base_uri": "https://localhost:8080/",
          "height": 249
        },
        "outputId": "4b64f6e7-a19e-4f8b-c8b5-cd0d1befcd32"
      },
      "source": [
        "train.head()"
      ],
      "execution_count": 22,
      "outputs": [
        {
          "output_type": "execute_result",
          "data": {
            "text/html": [
              "<div>\n",
              "<style scoped>\n",
              "    .dataframe tbody tr th:only-of-type {\n",
              "        vertical-align: middle;\n",
              "    }\n",
              "\n",
              "    .dataframe tbody tr th {\n",
              "        vertical-align: top;\n",
              "    }\n",
              "\n",
              "    .dataframe thead th {\n",
              "        text-align: right;\n",
              "    }\n",
              "</style>\n",
              "<table border=\"1\" class=\"dataframe\">\n",
              "  <thead>\n",
              "    <tr style=\"text-align: right;\">\n",
              "      <th></th>\n",
              "      <th>id</th>\n",
              "      <th>program_id</th>\n",
              "      <th>program_type</th>\n",
              "      <th>program_duration</th>\n",
              "      <th>test_id</th>\n",
              "      <th>test_type</th>\n",
              "      <th>difficulty_level</th>\n",
              "      <th>trainee_id</th>\n",
              "      <th>gender</th>\n",
              "      <th>education</th>\n",
              "      <th>city_tier</th>\n",
              "      <th>age</th>\n",
              "      <th>total_programs_enrolled</th>\n",
              "      <th>is_handicapped</th>\n",
              "      <th>trainee_engagement_rating</th>\n",
              "      <th>is_pass</th>\n",
              "    </tr>\n",
              "  </thead>\n",
              "  <tbody>\n",
              "    <tr>\n",
              "      <th>0</th>\n",
              "      <td>9389_150</td>\n",
              "      <td>Y_1</td>\n",
              "      <td>Y</td>\n",
              "      <td>136</td>\n",
              "      <td>150</td>\n",
              "      <td>offline</td>\n",
              "      <td>intermediate</td>\n",
              "      <td>9389</td>\n",
              "      <td>M</td>\n",
              "      <td>Matriculation</td>\n",
              "      <td>3</td>\n",
              "      <td>24.0</td>\n",
              "      <td>5</td>\n",
              "      <td>N</td>\n",
              "      <td>1.0</td>\n",
              "      <td>0</td>\n",
              "    </tr>\n",
              "    <tr>\n",
              "      <th>1</th>\n",
              "      <td>16523_44</td>\n",
              "      <td>T_1</td>\n",
              "      <td>T</td>\n",
              "      <td>131</td>\n",
              "      <td>44</td>\n",
              "      <td>offline</td>\n",
              "      <td>easy</td>\n",
              "      <td>16523</td>\n",
              "      <td>F</td>\n",
              "      <td>High School Diploma</td>\n",
              "      <td>4</td>\n",
              "      <td>26.0</td>\n",
              "      <td>2</td>\n",
              "      <td>N</td>\n",
              "      <td>3.0</td>\n",
              "      <td>1</td>\n",
              "    </tr>\n",
              "    <tr>\n",
              "      <th>2</th>\n",
              "      <td>13987_178</td>\n",
              "      <td>Z_2</td>\n",
              "      <td>Z</td>\n",
              "      <td>120</td>\n",
              "      <td>178</td>\n",
              "      <td>online</td>\n",
              "      <td>easy</td>\n",
              "      <td>13987</td>\n",
              "      <td>M</td>\n",
              "      <td>Matriculation</td>\n",
              "      <td>1</td>\n",
              "      <td>40.0</td>\n",
              "      <td>1</td>\n",
              "      <td>N</td>\n",
              "      <td>2.0</td>\n",
              "      <td>1</td>\n",
              "    </tr>\n",
              "    <tr>\n",
              "      <th>3</th>\n",
              "      <td>13158_32</td>\n",
              "      <td>T_2</td>\n",
              "      <td>T</td>\n",
              "      <td>117</td>\n",
              "      <td>32</td>\n",
              "      <td>offline</td>\n",
              "      <td>easy</td>\n",
              "      <td>13158</td>\n",
              "      <td>F</td>\n",
              "      <td>Matriculation</td>\n",
              "      <td>3</td>\n",
              "      <td>45.0</td>\n",
              "      <td>4</td>\n",
              "      <td>N</td>\n",
              "      <td>1.0</td>\n",
              "      <td>1</td>\n",
              "    </tr>\n",
              "    <tr>\n",
              "      <th>4</th>\n",
              "      <td>10591_84</td>\n",
              "      <td>V_3</td>\n",
              "      <td>V</td>\n",
              "      <td>131</td>\n",
              "      <td>84</td>\n",
              "      <td>offline</td>\n",
              "      <td>intermediate</td>\n",
              "      <td>10591</td>\n",
              "      <td>F</td>\n",
              "      <td>High School Diploma</td>\n",
              "      <td>1</td>\n",
              "      <td>42.0</td>\n",
              "      <td>2</td>\n",
              "      <td>N</td>\n",
              "      <td>4.0</td>\n",
              "      <td>1</td>\n",
              "    </tr>\n",
              "  </tbody>\n",
              "</table>\n",
              "</div>"
            ],
            "text/plain": [
              "          id program_id  ... trainee_engagement_rating  is_pass\n",
              "0   9389_150        Y_1  ...                       1.0        0\n",
              "1   16523_44        T_1  ...                       3.0        1\n",
              "2  13987_178        Z_2  ...                       2.0        1\n",
              "3   13158_32        T_2  ...                       1.0        1\n",
              "4   10591_84        V_3  ...                       4.0        1\n",
              "\n",
              "[5 rows x 16 columns]"
            ]
          },
          "metadata": {
            "tags": []
          },
          "execution_count": 22
        }
      ]
    },
    {
      "cell_type": "code",
      "metadata": {
        "id": "hWeprVruKB-_",
        "colab_type": "code",
        "colab": {
          "base_uri": "https://localhost:8080/",
          "height": 304
        },
        "outputId": "bf5a0a3d-de52-4bf5-a06a-289215fbd231"
      },
      "source": [
        "train.corr()"
      ],
      "execution_count": 23,
      "outputs": [
        {
          "output_type": "execute_result",
          "data": {
            "text/html": [
              "<div>\n",
              "<style scoped>\n",
              "    .dataframe tbody tr th:only-of-type {\n",
              "        vertical-align: middle;\n",
              "    }\n",
              "\n",
              "    .dataframe tbody tr th {\n",
              "        vertical-align: top;\n",
              "    }\n",
              "\n",
              "    .dataframe thead th {\n",
              "        text-align: right;\n",
              "    }\n",
              "</style>\n",
              "<table border=\"1\" class=\"dataframe\">\n",
              "  <thead>\n",
              "    <tr style=\"text-align: right;\">\n",
              "      <th></th>\n",
              "      <th>program_duration</th>\n",
              "      <th>test_id</th>\n",
              "      <th>trainee_id</th>\n",
              "      <th>city_tier</th>\n",
              "      <th>age</th>\n",
              "      <th>total_programs_enrolled</th>\n",
              "      <th>trainee_engagement_rating</th>\n",
              "      <th>is_pass</th>\n",
              "    </tr>\n",
              "  </thead>\n",
              "  <tbody>\n",
              "    <tr>\n",
              "      <th>program_duration</th>\n",
              "      <td>1.000000</td>\n",
              "      <td>0.204855</td>\n",
              "      <td>0.148651</td>\n",
              "      <td>-0.022368</td>\n",
              "      <td>-0.021748</td>\n",
              "      <td>-0.010128</td>\n",
              "      <td>0.098739</td>\n",
              "      <td>0.003545</td>\n",
              "    </tr>\n",
              "    <tr>\n",
              "      <th>test_id</th>\n",
              "      <td>0.204855</td>\n",
              "      <td>1.000000</td>\n",
              "      <td>0.148945</td>\n",
              "      <td>-0.001891</td>\n",
              "      <td>0.011373</td>\n",
              "      <td>-0.134198</td>\n",
              "      <td>0.323929</td>\n",
              "      <td>0.074568</td>\n",
              "    </tr>\n",
              "    <tr>\n",
              "      <th>trainee_id</th>\n",
              "      <td>0.148651</td>\n",
              "      <td>0.148945</td>\n",
              "      <td>1.000000</td>\n",
              "      <td>-0.010190</td>\n",
              "      <td>0.043099</td>\n",
              "      <td>-0.074630</td>\n",
              "      <td>0.031083</td>\n",
              "      <td>0.035900</td>\n",
              "    </tr>\n",
              "    <tr>\n",
              "      <th>city_tier</th>\n",
              "      <td>-0.022368</td>\n",
              "      <td>-0.001891</td>\n",
              "      <td>-0.010190</td>\n",
              "      <td>1.000000</td>\n",
              "      <td>-0.039735</td>\n",
              "      <td>0.016746</td>\n",
              "      <td>-0.052688</td>\n",
              "      <td>-0.068663</td>\n",
              "    </tr>\n",
              "    <tr>\n",
              "      <th>age</th>\n",
              "      <td>-0.021748</td>\n",
              "      <td>0.011373</td>\n",
              "      <td>0.043099</td>\n",
              "      <td>-0.039735</td>\n",
              "      <td>1.000000</td>\n",
              "      <td>-0.017640</td>\n",
              "      <td>0.140556</td>\n",
              "      <td>0.052307</td>\n",
              "    </tr>\n",
              "    <tr>\n",
              "      <th>total_programs_enrolled</th>\n",
              "      <td>-0.010128</td>\n",
              "      <td>-0.134198</td>\n",
              "      <td>-0.074630</td>\n",
              "      <td>0.016746</td>\n",
              "      <td>-0.017640</td>\n",
              "      <td>1.000000</td>\n",
              "      <td>0.083631</td>\n",
              "      <td>-0.031695</td>\n",
              "    </tr>\n",
              "    <tr>\n",
              "      <th>trainee_engagement_rating</th>\n",
              "      <td>0.098739</td>\n",
              "      <td>0.323929</td>\n",
              "      <td>0.031083</td>\n",
              "      <td>-0.052688</td>\n",
              "      <td>0.140556</td>\n",
              "      <td>0.083631</td>\n",
              "      <td>1.000000</td>\n",
              "      <td>0.197612</td>\n",
              "    </tr>\n",
              "    <tr>\n",
              "      <th>is_pass</th>\n",
              "      <td>0.003545</td>\n",
              "      <td>0.074568</td>\n",
              "      <td>0.035900</td>\n",
              "      <td>-0.068663</td>\n",
              "      <td>0.052307</td>\n",
              "      <td>-0.031695</td>\n",
              "      <td>0.197612</td>\n",
              "      <td>1.000000</td>\n",
              "    </tr>\n",
              "  </tbody>\n",
              "</table>\n",
              "</div>"
            ],
            "text/plain": [
              "                           program_duration  ...   is_pass\n",
              "program_duration                   1.000000  ...  0.003545\n",
              "test_id                            0.204855  ...  0.074568\n",
              "trainee_id                         0.148651  ...  0.035900\n",
              "city_tier                         -0.022368  ... -0.068663\n",
              "age                               -0.021748  ...  0.052307\n",
              "total_programs_enrolled           -0.010128  ... -0.031695\n",
              "trainee_engagement_rating          0.098739  ...  0.197612\n",
              "is_pass                            0.003545  ...  1.000000\n",
              "\n",
              "[8 rows x 8 columns]"
            ]
          },
          "metadata": {
            "tags": []
          },
          "execution_count": 23
        }
      ]
    },
    {
      "cell_type": "markdown",
      "metadata": {
        "id": "NpvG1d6cKB_G",
        "colab_type": "text"
      },
      "source": [
        "#### Feature Engineering"
      ]
    },
    {
      "cell_type": "code",
      "metadata": {
        "id": "ntZvL8rrKB_H",
        "colab_type": "code",
        "colab": {
          "base_uri": "https://localhost:8080/",
          "height": 34
        },
        "outputId": "61e7e7d8-b989-4aaa-84f2-d22fae93feca"
      },
      "source": [
        "train = pd.concat([train,test],axis=0)\n",
        "train.shape"
      ],
      "execution_count": 24,
      "outputs": [
        {
          "output_type": "execute_result",
          "data": {
            "text/plain": [
              "(104496, 16)"
            ]
          },
          "metadata": {
            "tags": []
          },
          "execution_count": 24
        }
      ]
    },
    {
      "cell_type": "code",
      "metadata": {
        "id": "X4vqRVVyKB_M",
        "colab_type": "code",
        "colab": {}
      },
      "source": [
        "train['program_Alfa']=train['program_id'].apply(lambda x: x.split('_')[1]).astype(int)"
      ],
      "execution_count": 0,
      "outputs": []
    },
    {
      "cell_type": "code",
      "metadata": {
        "id": "t8Yshww7KB_Q",
        "colab_type": "code",
        "colab": {}
      },
      "source": [
        "train['program_duration']=train.program_duration.astype(str)"
      ],
      "execution_count": 0,
      "outputs": []
    },
    {
      "cell_type": "markdown",
      "metadata": {
        "id": "n_gNxMriKB_U",
        "colab_type": "text"
      },
      "source": [
        "'''\n",
        "import pandas_profiling as pp\n",
        "profile=pp.ProfileReport(train)\n",
        "profile.to_file(\"your_report.html\")\n",
        "'''"
      ]
    },
    {
      "cell_type": "code",
      "metadata": {
        "id": "2fVZgh9xKB_V",
        "colab_type": "code",
        "colab": {}
      },
      "source": [
        "train['difficulty_level']=train['difficulty_level'].map({'easy':0, 'intermediate':1, 'hard':2, 'vary hard':3})"
      ],
      "execution_count": 0,
      "outputs": []
    },
    {
      "cell_type": "code",
      "metadata": {
        "id": "N3xK8_fZKB_Z",
        "colab_type": "code",
        "colab": {}
      },
      "source": [
        "train['education']=train['education'].map({'High School Diploma':2, 'Matriculation':1, 'Bachelors':3, 'No Qualification':0, 'Masters':4})"
      ],
      "execution_count": 0,
      "outputs": []
    },
    {
      "cell_type": "code",
      "metadata": {
        "id": "2Tp-AtprKB_f",
        "colab_type": "code",
        "colab": {}
      },
      "source": [
        "train['program_type']=train['program_type'].map({'Y':1, 'T':3, 'V':5, 'U':4, 'Z':2, 'X':0, 'S':6})"
      ],
      "execution_count": 0,
      "outputs": []
    },
    {
      "cell_type": "code",
      "metadata": {
        "id": "-SOrXuYjKB_j",
        "colab_type": "code",
        "colab": {
          "base_uri": "https://localhost:8080/",
          "height": 67
        },
        "outputId": "5e92d67b-61b4-49bf-a31d-20a4c5a8ed53"
      },
      "source": [
        "categorical_variables = train.dtypes.loc[train.dtypes=='object'].index\n",
        "print(categorical_variables)\n",
        "categorical_variables=categorical_variables.tolist()"
      ],
      "execution_count": 30,
      "outputs": [
        {
          "output_type": "stream",
          "text": [
            "Index(['id', 'program_id', 'program_duration', 'test_type', 'gender',\n",
            "       'is_handicapped'],\n",
            "      dtype='object')\n"
          ],
          "name": "stdout"
        }
      ]
    },
    {
      "cell_type": "code",
      "metadata": {
        "id": "8nm2Xw24KB_p",
        "colab_type": "code",
        "colab": {
          "base_uri": "https://localhost:8080/",
          "height": 151
        },
        "outputId": "aef782b3-18a0-4065-db3b-8aa1f76b77aa"
      },
      "source": [
        "categorical_variables.extend(['test_id','trainee_id'])\n",
        "categorical_variables"
      ],
      "execution_count": 31,
      "outputs": [
        {
          "output_type": "execute_result",
          "data": {
            "text/plain": [
              "['id',\n",
              " 'program_id',\n",
              " 'program_duration',\n",
              " 'test_type',\n",
              " 'gender',\n",
              " 'is_handicapped',\n",
              " 'test_id',\n",
              " 'trainee_id']"
            ]
          },
          "metadata": {
            "tags": []
          },
          "execution_count": 31
        }
      ]
    },
    {
      "cell_type": "code",
      "metadata": {
        "id": "sRvpYMeBKB_t",
        "colab_type": "code",
        "colab": {
          "base_uri": "https://localhost:8080/",
          "height": 151
        },
        "outputId": "56c80593-8225-4db1-e255-c34eab0eb534"
      },
      "source": [
        "from sklearn import metrics, preprocessing, model_selection\n",
        "for col in categorical_variables:\n",
        "    print(col)\n",
        "    lbl = preprocessing.LabelEncoder()\n",
        "    lbl.fit(list(train[col].values.astype('str')))\n",
        "    train[col] = lbl.transform(list(train[col].values.astype('str')))"
      ],
      "execution_count": 32,
      "outputs": [
        {
          "output_type": "stream",
          "text": [
            "id\n",
            "program_id\n",
            "program_duration\n",
            "test_type\n",
            "gender\n",
            "is_handicapped\n",
            "test_id\n",
            "trainee_id\n"
          ],
          "name": "stdout"
        }
      ]
    },
    {
      "cell_type": "code",
      "metadata": {
        "id": "mVllYluvKB_x",
        "colab_type": "code",
        "colab": {}
      },
      "source": [
        "test=train[73147:]"
      ],
      "execution_count": 0,
      "outputs": []
    },
    {
      "cell_type": "code",
      "metadata": {
        "id": "UtOtXv3eKB_2",
        "colab_type": "code",
        "colab": {}
      },
      "source": [
        "test=test.drop(['is_pass','id'],axis=1)"
      ],
      "execution_count": 0,
      "outputs": []
    },
    {
      "cell_type": "code",
      "metadata": {
        "id": "qivRgmO4KB_9",
        "colab_type": "code",
        "colab": {
          "base_uri": "https://localhost:8080/",
          "height": 215
        },
        "outputId": "237c6be1-1bba-4ce5-b1b3-a1471fb4c5b2"
      },
      "source": [
        "test.head()"
      ],
      "execution_count": 35,
      "outputs": [
        {
          "output_type": "execute_result",
          "data": {
            "text/html": [
              "<div>\n",
              "<style scoped>\n",
              "    .dataframe tbody tr th:only-of-type {\n",
              "        vertical-align: middle;\n",
              "    }\n",
              "\n",
              "    .dataframe tbody tr th {\n",
              "        vertical-align: top;\n",
              "    }\n",
              "\n",
              "    .dataframe thead th {\n",
              "        text-align: right;\n",
              "    }\n",
              "</style>\n",
              "<table border=\"1\" class=\"dataframe\">\n",
              "  <thead>\n",
              "    <tr style=\"text-align: right;\">\n",
              "      <th></th>\n",
              "      <th>program_id</th>\n",
              "      <th>program_type</th>\n",
              "      <th>program_duration</th>\n",
              "      <th>test_id</th>\n",
              "      <th>test_type</th>\n",
              "      <th>difficulty_level</th>\n",
              "      <th>trainee_id</th>\n",
              "      <th>gender</th>\n",
              "      <th>education</th>\n",
              "      <th>city_tier</th>\n",
              "      <th>age</th>\n",
              "      <th>total_programs_enrolled</th>\n",
              "      <th>is_handicapped</th>\n",
              "      <th>trainee_engagement_rating</th>\n",
              "      <th>program_Alfa</th>\n",
              "    </tr>\n",
              "  </thead>\n",
              "  <tbody>\n",
              "    <tr>\n",
              "      <th>0</th>\n",
              "      <td>2</td>\n",
              "      <td>3</td>\n",
              "      <td>5</td>\n",
              "      <td>128</td>\n",
              "      <td>0</td>\n",
              "      <td>1</td>\n",
              "      <td>6713</td>\n",
              "      <td>0</td>\n",
              "      <td>1</td>\n",
              "      <td>3</td>\n",
              "      <td>46.0</td>\n",
              "      <td>2</td>\n",
              "      <td>0</td>\n",
              "      <td>4.0</td>\n",
              "      <td>1</td>\n",
              "    </tr>\n",
              "    <tr>\n",
              "      <th>1</th>\n",
              "      <td>17</td>\n",
              "      <td>1</td>\n",
              "      <td>8</td>\n",
              "      <td>36</td>\n",
              "      <td>1</td>\n",
              "      <td>0</td>\n",
              "      <td>1106</td>\n",
              "      <td>1</td>\n",
              "      <td>3</td>\n",
              "      <td>3</td>\n",
              "      <td>NaN</td>\n",
              "      <td>4</td>\n",
              "      <td>0</td>\n",
              "      <td>4.0</td>\n",
              "      <td>3</td>\n",
              "    </tr>\n",
              "    <tr>\n",
              "      <th>2</th>\n",
              "      <td>16</td>\n",
              "      <td>1</td>\n",
              "      <td>1</td>\n",
              "      <td>53</td>\n",
              "      <td>1</td>\n",
              "      <td>0</td>\n",
              "      <td>2856</td>\n",
              "      <td>1</td>\n",
              "      <td>1</td>\n",
              "      <td>3</td>\n",
              "      <td>NaN</td>\n",
              "      <td>2</td>\n",
              "      <td>0</td>\n",
              "      <td>3.0</td>\n",
              "      <td>2</td>\n",
              "    </tr>\n",
              "    <tr>\n",
              "      <th>3</th>\n",
              "      <td>11</td>\n",
              "      <td>5</td>\n",
              "      <td>3</td>\n",
              "      <td>158</td>\n",
              "      <td>0</td>\n",
              "      <td>3</td>\n",
              "      <td>16230</td>\n",
              "      <td>0</td>\n",
              "      <td>2</td>\n",
              "      <td>1</td>\n",
              "      <td>NaN</td>\n",
              "      <td>2</td>\n",
              "      <td>0</td>\n",
              "      <td>2.0</td>\n",
              "      <td>4</td>\n",
              "    </tr>\n",
              "    <tr>\n",
              "      <th>4</th>\n",
              "      <td>11</td>\n",
              "      <td>5</td>\n",
              "      <td>3</td>\n",
              "      <td>157</td>\n",
              "      <td>0</td>\n",
              "      <td>1</td>\n",
              "      <td>18220</td>\n",
              "      <td>0</td>\n",
              "      <td>1</td>\n",
              "      <td>3</td>\n",
              "      <td>NaN</td>\n",
              "      <td>2</td>\n",
              "      <td>0</td>\n",
              "      <td>2.0</td>\n",
              "      <td>4</td>\n",
              "    </tr>\n",
              "  </tbody>\n",
              "</table>\n",
              "</div>"
            ],
            "text/plain": [
              "   program_id  program_type  ...  trainee_engagement_rating  program_Alfa\n",
              "0           2             3  ...                        4.0             1\n",
              "1          17             1  ...                        4.0             3\n",
              "2          16             1  ...                        3.0             2\n",
              "3          11             5  ...                        2.0             4\n",
              "4          11             5  ...                        2.0             4\n",
              "\n",
              "[5 rows x 15 columns]"
            ]
          },
          "metadata": {
            "tags": []
          },
          "execution_count": 35
        }
      ]
    },
    {
      "cell_type": "code",
      "metadata": {
        "id": "RKMaXIYLKCAC",
        "colab_type": "code",
        "colab": {
          "base_uri": "https://localhost:8080/",
          "height": 34
        },
        "outputId": "647d4778-153e-4d2e-96d2-b9ce5e8b31c0"
      },
      "source": [
        "train.shape,test.shape"
      ],
      "execution_count": 36,
      "outputs": [
        {
          "output_type": "execute_result",
          "data": {
            "text/plain": [
              "((104496, 17), (31349, 15))"
            ]
          },
          "metadata": {
            "tags": []
          },
          "execution_count": 36
        }
      ]
    },
    {
      "cell_type": "code",
      "metadata": {
        "id": "jf2ASMjvKCAF",
        "colab_type": "code",
        "colab": {}
      },
      "source": [
        "train=train[:73147]"
      ],
      "execution_count": 0,
      "outputs": []
    },
    {
      "cell_type": "code",
      "metadata": {
        "id": "fzQeVmF-KCAL",
        "colab_type": "code",
        "colab": {}
      },
      "source": [
        "train['is_pass']=train.is_pass.astype(int)"
      ],
      "execution_count": 0,
      "outputs": []
    },
    {
      "cell_type": "code",
      "metadata": {
        "id": "AfGPyPOVKCAO",
        "colab_type": "code",
        "colab": {
          "base_uri": "https://localhost:8080/",
          "height": 215
        },
        "outputId": "22210f2c-4f27-4e11-e514-281067679510"
      },
      "source": [
        "train.head()"
      ],
      "execution_count": 39,
      "outputs": [
        {
          "output_type": "execute_result",
          "data": {
            "text/html": [
              "<div>\n",
              "<style scoped>\n",
              "    .dataframe tbody tr th:only-of-type {\n",
              "        vertical-align: middle;\n",
              "    }\n",
              "\n",
              "    .dataframe tbody tr th {\n",
              "        vertical-align: top;\n",
              "    }\n",
              "\n",
              "    .dataframe thead th {\n",
              "        text-align: right;\n",
              "    }\n",
              "</style>\n",
              "<table border=\"1\" class=\"dataframe\">\n",
              "  <thead>\n",
              "    <tr style=\"text-align: right;\">\n",
              "      <th></th>\n",
              "      <th>id</th>\n",
              "      <th>program_id</th>\n",
              "      <th>program_type</th>\n",
              "      <th>program_duration</th>\n",
              "      <th>test_id</th>\n",
              "      <th>test_type</th>\n",
              "      <th>difficulty_level</th>\n",
              "      <th>trainee_id</th>\n",
              "      <th>gender</th>\n",
              "      <th>education</th>\n",
              "      <th>city_tier</th>\n",
              "      <th>age</th>\n",
              "      <th>total_programs_enrolled</th>\n",
              "      <th>is_handicapped</th>\n",
              "      <th>trainee_engagement_rating</th>\n",
              "      <th>is_pass</th>\n",
              "      <th>program_Alfa</th>\n",
              "    </tr>\n",
              "  </thead>\n",
              "  <tbody>\n",
              "    <tr>\n",
              "      <th>0</th>\n",
              "      <td>100865</td>\n",
              "      <td>15</td>\n",
              "      <td>1</td>\n",
              "      <td>9</td>\n",
              "      <td>58</td>\n",
              "      <td>0</td>\n",
              "      <td>1</td>\n",
              "      <td>18769</td>\n",
              "      <td>1</td>\n",
              "      <td>1</td>\n",
              "      <td>3</td>\n",
              "      <td>24.0</td>\n",
              "      <td>5</td>\n",
              "      <td>0</td>\n",
              "      <td>1.0</td>\n",
              "      <td>0</td>\n",
              "      <td>1</td>\n",
              "    </tr>\n",
              "    <tr>\n",
              "      <th>1</th>\n",
              "      <td>36990</td>\n",
              "      <td>2</td>\n",
              "      <td>3</td>\n",
              "      <td>5</td>\n",
              "      <td>127</td>\n",
              "      <td>0</td>\n",
              "      <td>0</td>\n",
              "      <td>6997</td>\n",
              "      <td>0</td>\n",
              "      <td>2</td>\n",
              "      <td>4</td>\n",
              "      <td>26.0</td>\n",
              "      <td>2</td>\n",
              "      <td>0</td>\n",
              "      <td>3.0</td>\n",
              "      <td>1</td>\n",
              "      <td>1</td>\n",
              "    </tr>\n",
              "    <tr>\n",
              "      <th>2</th>\n",
              "      <td>23435</td>\n",
              "      <td>20</td>\n",
              "      <td>2</td>\n",
              "      <td>1</td>\n",
              "      <td>88</td>\n",
              "      <td>1</td>\n",
              "      <td>0</td>\n",
              "      <td>4277</td>\n",
              "      <td>1</td>\n",
              "      <td>1</td>\n",
              "      <td>1</td>\n",
              "      <td>40.0</td>\n",
              "      <td>1</td>\n",
              "      <td>0</td>\n",
              "      <td>2.0</td>\n",
              "      <td>1</td>\n",
              "      <td>2</td>\n",
              "    </tr>\n",
              "    <tr>\n",
              "      <th>3</th>\n",
              "      <td>18709</td>\n",
              "      <td>3</td>\n",
              "      <td>3</td>\n",
              "      <td>0</td>\n",
              "      <td>114</td>\n",
              "      <td>0</td>\n",
              "      <td>0</td>\n",
              "      <td>3390</td>\n",
              "      <td>0</td>\n",
              "      <td>1</td>\n",
              "      <td>3</td>\n",
              "      <td>45.0</td>\n",
              "      <td>4</td>\n",
              "      <td>0</td>\n",
              "      <td>1.0</td>\n",
              "      <td>1</td>\n",
              "      <td>2</td>\n",
              "    </tr>\n",
              "    <tr>\n",
              "      <th>4</th>\n",
              "      <td>3523</td>\n",
              "      <td>10</td>\n",
              "      <td>5</td>\n",
              "      <td>5</td>\n",
              "      <td>171</td>\n",
              "      <td>0</td>\n",
              "      <td>1</td>\n",
              "      <td>642</td>\n",
              "      <td>0</td>\n",
              "      <td>2</td>\n",
              "      <td>1</td>\n",
              "      <td>42.0</td>\n",
              "      <td>2</td>\n",
              "      <td>0</td>\n",
              "      <td>4.0</td>\n",
              "      <td>1</td>\n",
              "      <td>3</td>\n",
              "    </tr>\n",
              "  </tbody>\n",
              "</table>\n",
              "</div>"
            ],
            "text/plain": [
              "       id  program_id  ...  is_pass  program_Alfa\n",
              "0  100865          15  ...        0             1\n",
              "1   36990           2  ...        1             1\n",
              "2   23435          20  ...        1             2\n",
              "3   18709           3  ...        1             2\n",
              "4    3523          10  ...        1             3\n",
              "\n",
              "[5 rows x 17 columns]"
            ]
          },
          "metadata": {
            "tags": []
          },
          "execution_count": 39
        }
      ]
    },
    {
      "cell_type": "code",
      "metadata": {
        "id": "2oCqpo-0KCAR",
        "colab_type": "code",
        "colab": {}
      },
      "source": [
        "X=train.drop(['is_pass','id'],axis=1)\n",
        "y=train['is_pass']"
      ],
      "execution_count": 0,
      "outputs": []
    },
    {
      "cell_type": "code",
      "metadata": {
        "id": "qZJ-OFYFKCAW",
        "colab_type": "code",
        "colab": {
          "base_uri": "https://localhost:8080/",
          "height": 34
        },
        "outputId": "e728a7de-1bd2-4751-8d67-52f0aac4010b"
      },
      "source": [
        "y.shape"
      ],
      "execution_count": 41,
      "outputs": [
        {
          "output_type": "execute_result",
          "data": {
            "text/plain": [
              "(73147,)"
            ]
          },
          "metadata": {
            "tags": []
          },
          "execution_count": 41
        }
      ]
    },
    {
      "cell_type": "markdown",
      "metadata": {
        "id": "ff7O7KU5KCAZ",
        "colab_type": "text"
      },
      "source": [
        "#### Logistic Regression"
      ]
    },
    {
      "cell_type": "markdown",
      "metadata": {
        "id": "NXwcrYDxKCAa",
        "colab_type": "text"
      },
      "source": [
        "##### Splitting the data into train set and the test set"
      ]
    },
    {
      "cell_type": "code",
      "metadata": {
        "id": "5TSBze_PKCAb",
        "colab_type": "code",
        "colab": {}
      },
      "source": [
        "from sklearn.model_selection import train_test_split\n",
        "train_x,test_x,train_y,test_y = train_test_split(X,y, random_state = 56)"
      ],
      "execution_count": 0,
      "outputs": []
    },
    {
      "cell_type": "markdown",
      "metadata": {
        "id": "QA-pIXYYKCAe",
        "colab_type": "text"
      },
      "source": [
        "Normalisming using min_max_scaler"
      ]
    },
    {
      "cell_type": "code",
      "metadata": {
        "id": "LG-z_DeTKCAe",
        "colab_type": "code",
        "colab": {}
      },
      "source": [
        "from sklearn.preprocessing import MinMaxScaler\n",
        "scaler = MinMaxScaler()"
      ],
      "execution_count": 0,
      "outputs": []
    },
    {
      "cell_type": "code",
      "metadata": {
        "id": "C1MRw-qeKCAj",
        "colab_type": "code",
        "colab": {
          "base_uri": "https://localhost:8080/",
          "height": 101
        },
        "outputId": "cc446e13-8fb3-4ca4-c3a1-083f830280fa"
      },
      "source": [
        "cols = train_x.columns\n",
        "cols"
      ],
      "execution_count": 46,
      "outputs": [
        {
          "output_type": "execute_result",
          "data": {
            "text/plain": [
              "Index(['program_id', 'program_type', 'program_duration', 'test_id',\n",
              "       'test_type', 'difficulty_level', 'trainee_id', 'gender', 'education',\n",
              "       'city_tier', 'age', 'total_programs_enrolled', 'is_handicapped',\n",
              "       'trainee_engagement_rating', 'program_Alfa'],\n",
              "      dtype='object')"
            ]
          },
          "metadata": {
            "tags": []
          },
          "execution_count": 46
        }
      ]
    },
    {
      "cell_type": "code",
      "metadata": {
        "id": "jjtQ-xUuKCAm",
        "colab_type": "code",
        "colab": {
          "base_uri": "https://localhost:8080/",
          "height": 215
        },
        "outputId": "391770d1-e134-446b-bc2f-cb43b809c481"
      },
      "source": [
        "train_x_scaled = scaler.fit_transform(train_x)\n",
        "train_x_scaled = pd.DataFrame(train_x_scaled, columns=cols)\n",
        "train_x_scaled.head()"
      ],
      "execution_count": 47,
      "outputs": [
        {
          "output_type": "execute_result",
          "data": {
            "text/html": [
              "<div>\n",
              "<style scoped>\n",
              "    .dataframe tbody tr th:only-of-type {\n",
              "        vertical-align: middle;\n",
              "    }\n",
              "\n",
              "    .dataframe tbody tr th {\n",
              "        vertical-align: top;\n",
              "    }\n",
              "\n",
              "    .dataframe thead th {\n",
              "        text-align: right;\n",
              "    }\n",
              "</style>\n",
              "<table border=\"1\" class=\"dataframe\">\n",
              "  <thead>\n",
              "    <tr style=\"text-align: right;\">\n",
              "      <th></th>\n",
              "      <th>program_id</th>\n",
              "      <th>program_type</th>\n",
              "      <th>program_duration</th>\n",
              "      <th>test_id</th>\n",
              "      <th>test_type</th>\n",
              "      <th>difficulty_level</th>\n",
              "      <th>trainee_id</th>\n",
              "      <th>gender</th>\n",
              "      <th>education</th>\n",
              "      <th>city_tier</th>\n",
              "      <th>age</th>\n",
              "      <th>total_programs_enrolled</th>\n",
              "      <th>is_handicapped</th>\n",
              "      <th>trainee_engagement_rating</th>\n",
              "      <th>program_Alfa</th>\n",
              "    </tr>\n",
              "  </thead>\n",
              "  <tbody>\n",
              "    <tr>\n",
              "      <th>0</th>\n",
              "      <td>0.904762</td>\n",
              "      <td>0.333333</td>\n",
              "      <td>1.000000</td>\n",
              "      <td>0.475936</td>\n",
              "      <td>0.0</td>\n",
              "      <td>0.000000</td>\n",
              "      <td>0.547449</td>\n",
              "      <td>0.0</td>\n",
              "      <td>0.25</td>\n",
              "      <td>0.666667</td>\n",
              "      <td>0.630435</td>\n",
              "      <td>0.000000</td>\n",
              "      <td>0.0</td>\n",
              "      <td>0.25</td>\n",
              "      <td>0.000000</td>\n",
              "    </tr>\n",
              "    <tr>\n",
              "      <th>1</th>\n",
              "      <td>0.809524</td>\n",
              "      <td>0.166667</td>\n",
              "      <td>0.888889</td>\n",
              "      <td>0.213904</td>\n",
              "      <td>1.0</td>\n",
              "      <td>0.000000</td>\n",
              "      <td>0.725658</td>\n",
              "      <td>1.0</td>\n",
              "      <td>0.25</td>\n",
              "      <td>0.000000</td>\n",
              "      <td>0.586957</td>\n",
              "      <td>0.076923</td>\n",
              "      <td>0.0</td>\n",
              "      <td>0.75</td>\n",
              "      <td>0.666667</td>\n",
              "    </tr>\n",
              "    <tr>\n",
              "      <th>2</th>\n",
              "      <td>0.761905</td>\n",
              "      <td>0.166667</td>\n",
              "      <td>0.111111</td>\n",
              "      <td>0.256684</td>\n",
              "      <td>0.0</td>\n",
              "      <td>0.666667</td>\n",
              "      <td>0.174296</td>\n",
              "      <td>1.0</td>\n",
              "      <td>0.50</td>\n",
              "      <td>0.666667</td>\n",
              "      <td>0.608696</td>\n",
              "      <td>0.076923</td>\n",
              "      <td>0.0</td>\n",
              "      <td>0.50</td>\n",
              "      <td>0.333333</td>\n",
              "    </tr>\n",
              "    <tr>\n",
              "      <th>3</th>\n",
              "      <td>0.380952</td>\n",
              "      <td>0.833333</td>\n",
              "      <td>0.666667</td>\n",
              "      <td>0.973262</td>\n",
              "      <td>0.0</td>\n",
              "      <td>0.000000</td>\n",
              "      <td>0.423871</td>\n",
              "      <td>1.0</td>\n",
              "      <td>0.50</td>\n",
              "      <td>0.666667</td>\n",
              "      <td>0.695652</td>\n",
              "      <td>0.076923</td>\n",
              "      <td>0.0</td>\n",
              "      <td>0.00</td>\n",
              "      <td>0.000000</td>\n",
              "    </tr>\n",
              "    <tr>\n",
              "      <th>4</th>\n",
              "      <td>0.142857</td>\n",
              "      <td>0.500000</td>\n",
              "      <td>0.000000</td>\n",
              "      <td>0.663102</td>\n",
              "      <td>1.0</td>\n",
              "      <td>0.000000</td>\n",
              "      <td>0.210906</td>\n",
              "      <td>0.0</td>\n",
              "      <td>0.50</td>\n",
              "      <td>0.333333</td>\n",
              "      <td>0.608696</td>\n",
              "      <td>0.076923</td>\n",
              "      <td>0.0</td>\n",
              "      <td>0.00</td>\n",
              "      <td>0.333333</td>\n",
              "    </tr>\n",
              "  </tbody>\n",
              "</table>\n",
              "</div>"
            ],
            "text/plain": [
              "   program_id  program_type  ...  trainee_engagement_rating  program_Alfa\n",
              "0    0.904762      0.333333  ...                       0.25      0.000000\n",
              "1    0.809524      0.166667  ...                       0.75      0.666667\n",
              "2    0.761905      0.166667  ...                       0.50      0.333333\n",
              "3    0.380952      0.833333  ...                       0.00      0.000000\n",
              "4    0.142857      0.500000  ...                       0.00      0.333333\n",
              "\n",
              "[5 rows x 15 columns]"
            ]
          },
          "metadata": {
            "tags": []
          },
          "execution_count": 47
        }
      ]
    },
    {
      "cell_type": "code",
      "metadata": {
        "id": "qIg3JEiIKCAq",
        "colab_type": "code",
        "colab": {
          "base_uri": "https://localhost:8080/",
          "height": 215
        },
        "outputId": "e54311c8-cfc4-49f4-85ff-2e4330c5f91b"
      },
      "source": [
        "test_x_scaled = scaler.transform(test_x)\n",
        "test_x_scaled = pd.DataFrame(test_x_scaled, columns=cols)\n",
        "test_x_scaled.head()"
      ],
      "execution_count": 48,
      "outputs": [
        {
          "output_type": "execute_result",
          "data": {
            "text/html": [
              "<div>\n",
              "<style scoped>\n",
              "    .dataframe tbody tr th:only-of-type {\n",
              "        vertical-align: middle;\n",
              "    }\n",
              "\n",
              "    .dataframe tbody tr th {\n",
              "        vertical-align: top;\n",
              "    }\n",
              "\n",
              "    .dataframe thead th {\n",
              "        text-align: right;\n",
              "    }\n",
              "</style>\n",
              "<table border=\"1\" class=\"dataframe\">\n",
              "  <thead>\n",
              "    <tr style=\"text-align: right;\">\n",
              "      <th></th>\n",
              "      <th>program_id</th>\n",
              "      <th>program_type</th>\n",
              "      <th>program_duration</th>\n",
              "      <th>test_id</th>\n",
              "      <th>test_type</th>\n",
              "      <th>difficulty_level</th>\n",
              "      <th>trainee_id</th>\n",
              "      <th>gender</th>\n",
              "      <th>education</th>\n",
              "      <th>city_tier</th>\n",
              "      <th>age</th>\n",
              "      <th>total_programs_enrolled</th>\n",
              "      <th>is_handicapped</th>\n",
              "      <th>trainee_engagement_rating</th>\n",
              "      <th>program_Alfa</th>\n",
              "    </tr>\n",
              "  </thead>\n",
              "  <tbody>\n",
              "    <tr>\n",
              "      <th>0</th>\n",
              "      <td>0.952381</td>\n",
              "      <td>0.333333</td>\n",
              "      <td>0.111111</td>\n",
              "      <td>0.427807</td>\n",
              "      <td>0.0</td>\n",
              "      <td>0.000000</td>\n",
              "      <td>0.218578</td>\n",
              "      <td>1.0</td>\n",
              "      <td>0.50</td>\n",
              "      <td>0.000000</td>\n",
              "      <td>0.608696</td>\n",
              "      <td>0.000000</td>\n",
              "      <td>0.0</td>\n",
              "      <td>0.00</td>\n",
              "      <td>0.333333</td>\n",
              "    </tr>\n",
              "    <tr>\n",
              "      <th>1</th>\n",
              "      <td>0.857143</td>\n",
              "      <td>0.166667</td>\n",
              "      <td>0.222222</td>\n",
              "      <td>0.149733</td>\n",
              "      <td>1.0</td>\n",
              "      <td>0.000000</td>\n",
              "      <td>0.838422</td>\n",
              "      <td>1.0</td>\n",
              "      <td>0.50</td>\n",
              "      <td>0.000000</td>\n",
              "      <td>0.608696</td>\n",
              "      <td>0.076923</td>\n",
              "      <td>0.0</td>\n",
              "      <td>0.75</td>\n",
              "      <td>1.000000</td>\n",
              "    </tr>\n",
              "    <tr>\n",
              "      <th>2</th>\n",
              "      <td>0.714286</td>\n",
              "      <td>0.166667</td>\n",
              "      <td>1.000000</td>\n",
              "      <td>0.310160</td>\n",
              "      <td>0.0</td>\n",
              "      <td>0.333333</td>\n",
              "      <td>0.862983</td>\n",
              "      <td>1.0</td>\n",
              "      <td>0.50</td>\n",
              "      <td>0.000000</td>\n",
              "      <td>0.652174</td>\n",
              "      <td>0.153846</td>\n",
              "      <td>1.0</td>\n",
              "      <td>0.75</td>\n",
              "      <td>0.000000</td>\n",
              "    </tr>\n",
              "    <tr>\n",
              "      <th>3</th>\n",
              "      <td>0.190476</td>\n",
              "      <td>0.500000</td>\n",
              "      <td>0.777778</td>\n",
              "      <td>0.598930</td>\n",
              "      <td>1.0</td>\n",
              "      <td>0.000000</td>\n",
              "      <td>0.992843</td>\n",
              "      <td>0.0</td>\n",
              "      <td>0.50</td>\n",
              "      <td>0.666667</td>\n",
              "      <td>0.217391</td>\n",
              "      <td>0.076923</td>\n",
              "      <td>0.0</td>\n",
              "      <td>0.00</td>\n",
              "      <td>0.666667</td>\n",
              "    </tr>\n",
              "    <tr>\n",
              "      <th>4</th>\n",
              "      <td>0.238095</td>\n",
              "      <td>0.500000</td>\n",
              "      <td>0.111111</td>\n",
              "      <td>0.304813</td>\n",
              "      <td>0.0</td>\n",
              "      <td>0.333333</td>\n",
              "      <td>0.496370</td>\n",
              "      <td>0.0</td>\n",
              "      <td>0.25</td>\n",
              "      <td>0.666667</td>\n",
              "      <td>0.630435</td>\n",
              "      <td>0.230769</td>\n",
              "      <td>1.0</td>\n",
              "      <td>0.50</td>\n",
              "      <td>1.000000</td>\n",
              "    </tr>\n",
              "  </tbody>\n",
              "</table>\n",
              "</div>"
            ],
            "text/plain": [
              "   program_id  program_type  ...  trainee_engagement_rating  program_Alfa\n",
              "0    0.952381      0.333333  ...                       0.00      0.333333\n",
              "1    0.857143      0.166667  ...                       0.75      1.000000\n",
              "2    0.714286      0.166667  ...                       0.75      0.000000\n",
              "3    0.190476      0.500000  ...                       0.00      0.666667\n",
              "4    0.238095      0.500000  ...                       0.50      1.000000\n",
              "\n",
              "[5 rows x 15 columns]"
            ]
          },
          "metadata": {
            "tags": []
          },
          "execution_count": 48
        }
      ]
    },
    {
      "cell_type": "code",
      "metadata": {
        "id": "2xGR37eCKCAu",
        "colab_type": "code",
        "colab": {}
      },
      "source": [
        "from sklearn.linear_model import LogisticRegression as LogReg\n",
        "from sklearn.metrics import f1_score,roc_curve"
      ],
      "execution_count": 0,
      "outputs": []
    },
    {
      "cell_type": "code",
      "metadata": {
        "id": "1TzSjAt0KCAz",
        "colab_type": "code",
        "colab": {
          "base_uri": "https://localhost:8080/",
          "height": 101
        },
        "outputId": "217445a3-4523-47ed-85db-7f123dbabd8b"
      },
      "source": [
        "logreg = LogReg()\n",
        "\n",
        "# Fitting the model\n",
        "logreg.fit(train_x, train_y)"
      ],
      "execution_count": 50,
      "outputs": [
        {
          "output_type": "execute_result",
          "data": {
            "text/plain": [
              "LogisticRegression(C=1.0, class_weight=None, dual=False, fit_intercept=True,\n",
              "                   intercept_scaling=1, l1_ratio=None, max_iter=100,\n",
              "                   multi_class='auto', n_jobs=None, penalty='l2',\n",
              "                   random_state=None, solver='lbfgs', tol=0.0001, verbose=0,\n",
              "                   warm_start=False)"
            ]
          },
          "metadata": {
            "tags": []
          },
          "execution_count": 50
        }
      ]
    },
    {
      "cell_type": "code",
      "metadata": {
        "id": "-FmkIDcqKCA3",
        "colab_type": "code",
        "colab": {
          "base_uri": "https://localhost:8080/",
          "height": 34
        },
        "outputId": "109b0f8a-d89f-447b-c92a-ee584e4f9c34"
      },
      "source": [
        "train_predict = logreg.predict(train_x)\n",
        "train_predict"
      ],
      "execution_count": 51,
      "outputs": [
        {
          "output_type": "execute_result",
          "data": {
            "text/plain": [
              "array([1, 1, 1, ..., 1, 1, 1])"
            ]
          },
          "metadata": {
            "tags": []
          },
          "execution_count": 51
        }
      ]
    },
    {
      "cell_type": "code",
      "metadata": {
        "id": "YsbPSkluKCA-",
        "colab_type": "code",
        "colab": {
          "base_uri": "https://localhost:8080/",
          "height": 34
        },
        "outputId": "e55c94e8-3083-490c-c878-d30b4b25059a"
      },
      "source": [
        "k = f1_score(train_predict, train_y)\n",
        "print('Training f1_score', k )"
      ],
      "execution_count": 52,
      "outputs": [
        {
          "output_type": "stream",
          "text": [
            "Training f1_score 0.8238568238568239\n"
          ],
          "name": "stdout"
        }
      ]
    },
    {
      "cell_type": "code",
      "metadata": {
        "id": "y7WMOGxoKCBL",
        "colab_type": "code",
        "colab": {
          "base_uri": "https://localhost:8080/",
          "height": 34
        },
        "outputId": "b4c47b3a-5e59-4c18-c1d9-f131dd8001e8"
      },
      "source": [
        "test_predict = logreg.predict(test_x)\n",
        "k = f1_score(test_predict, test_y)\n",
        "print('Test f1_score    ', k )"
      ],
      "execution_count": 53,
      "outputs": [
        {
          "output_type": "stream",
          "text": [
            "Test f1_score     0.8193225838492865\n"
          ],
          "name": "stdout"
        }
      ]
    },
    {
      "cell_type": "code",
      "metadata": {
        "id": "QVO1IEWiKCBR",
        "colab_type": "code",
        "colab": {
          "base_uri": "https://localhost:8080/",
          "height": 134
        },
        "outputId": "2864f5bd-0596-4053-ac32-b31699c93b56"
      },
      "source": [
        "train_predict = logreg.predict_proba(train_x)\n",
        "train_predict"
      ],
      "execution_count": 54,
      "outputs": [
        {
          "output_type": "execute_result",
          "data": {
            "text/plain": [
              "array([[0.32118363, 0.67881637],\n",
              "       [0.13329228, 0.86670772],\n",
              "       [0.29403838, 0.70596162],\n",
              "       ...,\n",
              "       [0.39412981, 0.60587019],\n",
              "       [0.41977099, 0.58022901],\n",
              "       [0.11903472, 0.88096528]])"
            ]
          },
          "metadata": {
            "tags": []
          },
          "execution_count": 54
        }
      ]
    },
    {
      "cell_type": "code",
      "metadata": {
        "id": "y4vXGAB6KCBV",
        "colab_type": "code",
        "colab": {
          "base_uri": "https://localhost:8080/",
          "height": 50
        },
        "outputId": "c50f6ae9-2c5b-43c8-a15e-06e28fdb6264"
      },
      "source": [
        "train_preds = train_predict[:,1]\n",
        "train_preds"
      ],
      "execution_count": 55,
      "outputs": [
        {
          "output_type": "execute_result",
          "data": {
            "text/plain": [
              "array([0.67881637, 0.86670772, 0.70596162, ..., 0.60587019, 0.58022901,\n",
              "       0.88096528])"
            ]
          },
          "metadata": {
            "tags": []
          },
          "execution_count": 55
        }
      ]
    },
    {
      "cell_type": "code",
      "metadata": {
        "id": "Sj4aW_CkKCBd",
        "colab_type": "code",
        "colab": {}
      },
      "source": [
        "for i in range(0, len(train_preds)):\n",
        "  if(train_preds[i]>0.5):\n",
        "    train_preds[i] = 1\n",
        "  else:\n",
        "    train_preds[i] = 0"
      ],
      "execution_count": 0,
      "outputs": []
    },
    {
      "cell_type": "code",
      "metadata": {
        "id": "hNgevG7AKCBg",
        "colab_type": "code",
        "colab": {
          "base_uri": "https://localhost:8080/",
          "height": 34
        },
        "outputId": "21184bfa-24c4-43e5-d702-4aa9dd921580"
      },
      "source": [
        "train_preds"
      ],
      "execution_count": 57,
      "outputs": [
        {
          "output_type": "execute_result",
          "data": {
            "text/plain": [
              "array([1., 1., 1., ..., 1., 1., 1.])"
            ]
          },
          "metadata": {
            "tags": []
          },
          "execution_count": 57
        }
      ]
    },
    {
      "cell_type": "code",
      "metadata": {
        "id": "Q1NolQ31KCBl",
        "colab_type": "code",
        "colab": {
          "base_uri": "https://localhost:8080/",
          "height": 34
        },
        "outputId": "f33b8d73-0239-4001-c589-6a1aedabf1cd"
      },
      "source": [
        "k = f1_score(train_preds, train_y)\n",
        "print('Training f1_score', k )"
      ],
      "execution_count": 58,
      "outputs": [
        {
          "output_type": "stream",
          "text": [
            "Training f1_score 0.8238568238568239\n"
          ],
          "name": "stdout"
        }
      ]
    },
    {
      "cell_type": "code",
      "metadata": {
        "id": "3dsVHsKOKCBs",
        "colab_type": "code",
        "colab": {
          "base_uri": "https://localhost:8080/",
          "height": 168
        },
        "outputId": "dc1a9d26-e689-4608-e935-8d0ef17e8cce"
      },
      "source": [
        "from sklearn.metrics import classification_report as rep\n",
        "print(rep( test_y , test_predict ))"
      ],
      "execution_count": 59,
      "outputs": [
        {
          "output_type": "stream",
          "text": [
            "              precision    recall  f1-score   support\n",
            "\n",
            "           0       0.63      0.08      0.14      5648\n",
            "           1       0.70      0.98      0.82     12639\n",
            "\n",
            "    accuracy                           0.70     18287\n",
            "   macro avg       0.67      0.53      0.48     18287\n",
            "weighted avg       0.68      0.70      0.61     18287\n",
            "\n"
          ],
          "name": "stdout"
        }
      ]
    },
    {
      "cell_type": "code",
      "metadata": {
        "id": "ivjPUE5UKCBx",
        "colab_type": "code",
        "colab": {
          "base_uri": "https://localhost:8080/",
          "height": 50
        },
        "outputId": "15edaac1-6aba-4383-a131-347aac6c8256"
      },
      "source": [
        "from sklearn.metrics import confusion_matrix\n",
        "cf= confusion_matrix(test_y, test_predict)\n",
        "print(cf)"
      ],
      "execution_count": 60,
      "outputs": [
        {
          "output_type": "stream",
          "text": [
            "[[  457  5191]\n",
            " [  266 12373]]\n"
          ],
          "name": "stdout"
        }
      ]
    },
    {
      "cell_type": "code",
      "metadata": {
        "id": "FBPZxfZwKCB0",
        "colab_type": "code",
        "colab": {
          "base_uri": "https://localhost:8080/",
          "height": 101
        },
        "outputId": "441b61bb-1962-4704-9470-8dc935ea036a"
      },
      "source": [
        "logreg.coef_"
      ],
      "execution_count": 61,
      "outputs": [
        {
          "output_type": "execute_result",
          "data": {
            "text/plain": [
              "array([[-1.68727342e-02, -1.11214743e-01,  3.42535577e-02,\n",
              "         4.17116051e-04,  1.23150849e-01, -1.64308369e-01,\n",
              "        -1.00337592e-05, -4.83713879e-03,  1.45759700e-01,\n",
              "        -9.02678506e-02,  9.02211255e-03, -2.58498922e-02,\n",
              "        -1.91683741e-02,  3.67620833e-01,  3.90408848e-02]])"
            ]
          },
          "metadata": {
            "tags": []
          },
          "execution_count": 61
        }
      ]
    },
    {
      "cell_type": "code",
      "metadata": {
        "id": "zz_7a9ASKCB3",
        "colab_type": "code",
        "colab": {
          "base_uri": "https://localhost:8080/",
          "height": 686
        },
        "outputId": "e8f25086-5ec6-4eba-8f4f-d2c08c4a8fbb"
      },
      "source": [
        "plt.figure(figsize=(8, 6), dpi=120, facecolor='w', edgecolor='b')\n",
        "x = range(len(train_x.columns))\n",
        "c = logreg.coef_.reshape(-1)\n",
        "plt.bar( x, c )\n",
        "plt.xlabel( \"Variables\")\n",
        "plt.ylabel('Coefficients')\n",
        "plt.title('Coefficient plot')"
      ],
      "execution_count": 62,
      "outputs": [
        {
          "output_type": "execute_result",
          "data": {
            "text/plain": [
              "Text(0.5, 1.0, 'Coefficient plot')"
            ]
          },
          "metadata": {
            "tags": []
          },
          "execution_count": 62
        },
        {
          "output_type": "display_data",
          "data": {
            "image/png": "[encoded data removed]",
            "text/plain": [
              "<Figure size 960x720 with 1 Axes>"
            ]
          },
          "metadata": {
            "tags": []
          }
        }
      ]
    },
    {
      "cell_type": "markdown",
      "metadata": {
        "id": "uHzZWQhqKCB6",
        "colab_type": "text"
      },
      "source": [
        "#### XGBoost"
      ]
    },
    {
      "cell_type": "code",
      "metadata": {
        "id": "YsCK4Q0sKCB-",
        "colab_type": "code",
        "colab": {
          "base_uri": "https://localhost:8080/",
          "height": 67
        },
        "outputId": "b33eaaea-defc-43cf-9d37-c8a693860801"
      },
      "source": [
        "from sklearn.model_selection import train_test_split,GridSearchCV\n",
        "X_train, X_test, y_train, y_test = train_test_split(X, y, test_size=0.3, random_state=42)\n",
        "model = XGBClassifier(max_depth=7, n_estimators=200)\n",
        "model.fit(X_train, y_train)\n",
        "print('Train_Error:',((model.predict(X_train) - y_train) == 0).sum()*100/len(y_train))\n",
        "print('CV_Error:',((model.predict(X_test) - y_test) == 0).sum()*100/len(y_test),'\\n')"
      ],
      "execution_count": 63,
      "outputs": [
        {
          "output_type": "stream",
          "text": [
            "Train_Error: 79.40314831451896\n",
            "CV_Error: 74.35406698564593 \n",
            "\n"
          ],
          "name": "stdout"
        }
      ]
    },
    {
      "cell_type": "markdown",
      "metadata": {
        "id": "Rj9njw9LKCCA",
        "colab_type": "text"
      },
      "source": [
        "#### LGBoost"
      ]
    },
    {
      "cell_type": "markdown",
      "metadata": {
        "id": "ROnvylxAKCCB",
        "colab_type": "text"
      },
      "source": [
        "##### References\n",
        "https://github.com/SudalaiRajkumar/ML/blob/master/AV_LTFS_April2019/ModelBuild.ipynb"
      ]
    },
    {
      "cell_type": "code",
      "metadata": {
        "id": "zHTGGI5OKCCB",
        "colab_type": "code",
        "colab": {}
      },
      "source": [
        "train_X=X\n",
        "train_y=y\n",
        "test_X=test"
      ],
      "execution_count": 0,
      "outputs": []
    },
    {
      "cell_type": "code",
      "metadata": {
        "id": "cZ9sE7JUKCCD",
        "colab_type": "code",
        "colab": {}
      },
      "source": [
        "def runLGB(train_X, train_y, test_X, test_y=None, test_X2=None, dep=8, seed=0, data_leaf=200):\n",
        "    params = {}\n",
        "    params[\"objective\"] = \"binary\"\n",
        "    params['metric'] = 'auc'\n",
        "    params[\"max_depth\"] = dep\n",
        "    params[\"num_leaves\"] = 30\n",
        "    params[\"min_data_in_leaf\"] = data_leaf\n",
        "    params[\"learning_rate\"] = 0.03\n",
        "    params[\"bagging_fraction\"] = 0.8\n",
        "    params[\"feature_fraction\"] = 0.35\n",
        "    params[\"feature_fraction_seed\"] = seed\n",
        "    params[\"bagging_freq\"] = 1\n",
        "    params[\"bagging_seed\"] = seed\n",
        "    params[\"lambda_l2\"] = 5\n",
        "    params[\"lambda_l1\"] = 5\n",
        "    params[\"verbosity\"] = -1\n",
        "    num_rounds = 25000\n",
        "\n",
        "    plst = list(params.items())\n",
        "    lgtrain = lgb.Dataset(train_X, label=train_y)\n",
        "\n",
        "    if test_y is not None:\n",
        "        lgtest = lgb.Dataset(test_X, label=test_y)\n",
        "        model = lgb.train(params, lgtrain, num_rounds, valid_sets=[lgtest], early_stopping_rounds=200, verbose_eval=500)\n",
        "    else:\n",
        "        lgtest = lgb.DMatrix(test_X)\n",
        "        model = lgb.train(params, lgtrain, num_rounds)\n",
        "\n",
        "    pred_test_y = model.predict(test_X, num_iteration=model.best_iteration)\n",
        "    pred_test_y2 = model.predict(test_X2, num_iteration=model.best_iteration)\n",
        "\n",
        "    loss = 0\n",
        "    if test_y is not None:\n",
        "        loss = metrics.roc_auc_score(test_y, pred_test_y)\n",
        "        print(loss)\n",
        "        return model, loss, pred_test_y, pred_test_y2\n",
        "    else:\n",
        "        return model, loss, pred_test_y, pred_test_y2"
      ],
      "execution_count": 0,
      "outputs": []
    },
    {
      "cell_type": "code",
      "metadata": {
        "id": "9On9VB8_KCCG",
        "colab_type": "code",
        "colab": {
          "base_uri": "https://localhost:8080/",
          "height": 1000
        },
        "outputId": "bf1dc3ca-b875-45bf-a5ec-a7dcc068d2a0"
      },
      "source": [
        "print(\"Building model..\")\n",
        "cv_scores = []\n",
        "pred_test_full = 0\n",
        "pred_train = np.zeros(train_X.shape[0])\n",
        "n_splits = 3\n",
        "#kf = model_selection.KFold(n_splits=n_splits, shuffle=True, random_state=7988)\n",
        "gkf = model_selection.GroupKFold(n_splits=n_splits)\n",
        "model_name = \"lgb\"\n",
        "for dev_index, val_index in gkf.split(train_X, train[\"is_pass\"].values, train[\"id\"].values):\n",
        "    dev_X, val_X = train_X.iloc[dev_index,:], train_X.iloc[val_index,:]\n",
        "    dev_y, val_y = train_y[dev_index], train_y[val_index]\n",
        "    pred_val = 0\n",
        "    pred_test = 0\n",
        "    n_models = 0.\n",
        "\n",
        "    model, loss, pred_v, pred_t = runLGB(dev_X, dev_y, val_X, val_y, test_X, dep=8, seed=2019)\n",
        "    pred_val += pred_v\n",
        "    pred_test += pred_t\n",
        "    n_models += 1\n",
        "    \n",
        "    model, loss, pred_v, pred_t = runLGB(dev_X, dev_y, val_X, val_y, test_X, dep=7, data_leaf=100, seed=9873)\n",
        "    pred_val += pred_v\n",
        "    pred_test += pred_t\n",
        "    n_models += 1\n",
        "    \n",
        "    model, loss, pred_v, pred_t = runLGB(dev_X, dev_y, val_X, val_y, test_X, dep=9, data_leaf=150, seed=4568)\n",
        "    pred_val += pred_v\n",
        "    pred_test += pred_t\n",
        "    n_models += 1\n",
        "    \n",
        "    pred_val /= n_models\n",
        "    pred_test /= n_models\n",
        "    \n",
        "    loss = metrics.roc_auc_score(val_y, pred_val)\n",
        "        \n",
        "    pred_train[val_index] = pred_val\n",
        "    pred_test_full += pred_test / n_splits\n",
        "    cv_scores.append(loss)\n",
        "#     break\n",
        "print(np.mean(cv_scores))"
      ],
      "execution_count": 67,
      "outputs": [
        {
          "output_type": "stream",
          "text": [
            "Building model..\n",
            "Training until validation scores don't improve for 200 rounds.\n",
            "[500]\tvalid_0's auc: 0.747969\n",
            "[1000]\tvalid_0's auc: 0.755397\n",
            "[1500]\tvalid_0's auc: 0.7592\n",
            "[2000]\tvalid_0's auc: 0.761868\n",
            "[2500]\tvalid_0's auc: 0.763851\n",
            "[3000]\tvalid_0's auc: 0.765317\n",
            "[3500]\tvalid_0's auc: 0.766545\n",
            "[4000]\tvalid_0's auc: 0.767347\n",
            "[4500]\tvalid_0's auc: 0.768167\n",
            "[5000]\tvalid_0's auc: 0.769059\n",
            "[5500]\tvalid_0's auc: 0.769794\n",
            "[6000]\tvalid_0's auc: 0.770603\n",
            "[6500]\tvalid_0's auc: 0.771218\n",
            "[7000]\tvalid_0's auc: 0.771802\n",
            "[7500]\tvalid_0's auc: 0.772263\n",
            "[8000]\tvalid_0's auc: 0.772615\n",
            "[8500]\tvalid_0's auc: 0.773076\n",
            "[9000]\tvalid_0's auc: 0.773556\n",
            "[9500]\tvalid_0's auc: 0.773923\n",
            "[10000]\tvalid_0's auc: 0.774251\n",
            "[10500]\tvalid_0's auc: 0.774592\n",
            "[11000]\tvalid_0's auc: 0.774996\n",
            "[11500]\tvalid_0's auc: 0.775281\n",
            "[12000]\tvalid_0's auc: 0.775596\n",
            "[12500]\tvalid_0's auc: 0.775953\n",
            "[13000]\tvalid_0's auc: 0.776047\n",
            "[13500]\tvalid_0's auc: 0.776179\n",
            "Early stopping, best iteration is:\n",
            "[13329]\tvalid_0's auc: 0.776227\n",
            "0.776226758317969\n",
            "Training until validation scores don't improve for 200 rounds.\n",
            "[500]\tvalid_0's auc: 0.746438\n",
            "[1000]\tvalid_0's auc: 0.754818\n",
            "[1500]\tvalid_0's auc: 0.758585\n",
            "[2000]\tvalid_0's auc: 0.761594\n",
            "[2500]\tvalid_0's auc: 0.763652\n",
            "[3000]\tvalid_0's auc: 0.765376\n",
            "[3500]\tvalid_0's auc: 0.766806\n",
            "[4000]\tvalid_0's auc: 0.768022\n",
            "[4500]\tvalid_0's auc: 0.769082\n",
            "[5000]\tvalid_0's auc: 0.770233\n",
            "[5500]\tvalid_0's auc: 0.771002\n",
            "[6000]\tvalid_0's auc: 0.771766\n",
            "[6500]\tvalid_0's auc: 0.77238\n",
            "[7000]\tvalid_0's auc: 0.77274\n",
            "[7500]\tvalid_0's auc: 0.773167\n",
            "[8000]\tvalid_0's auc: 0.773633\n",
            "[8500]\tvalid_0's auc: 0.774058\n",
            "[9000]\tvalid_0's auc: 0.774438\n",
            "[9500]\tvalid_0's auc: 0.774759\n",
            "[10000]\tvalid_0's auc: 0.775047\n",
            "[10500]\tvalid_0's auc: 0.77556\n",
            "[11000]\tvalid_0's auc: 0.77581\n",
            "[11500]\tvalid_0's auc: 0.776178\n",
            "[12000]\tvalid_0's auc: 0.776502\n",
            "[12500]\tvalid_0's auc: 0.776665\n",
            "[13000]\tvalid_0's auc: 0.776978\n",
            "[13500]\tvalid_0's auc: 0.777189\n",
            "[14000]\tvalid_0's auc: 0.777438\n",
            "[14500]\tvalid_0's auc: 0.777641\n",
            "[15000]\tvalid_0's auc: 0.777916\n",
            "[15500]\tvalid_0's auc: 0.778048\n",
            "[16000]\tvalid_0's auc: 0.778207\n",
            "Early stopping, best iteration is:\n",
            "[15926]\tvalid_0's auc: 0.778232\n",
            "0.7782324952373749\n",
            "Training until validation scores don't improve for 200 rounds.\n",
            "[500]\tvalid_0's auc: 0.7488\n",
            "[1000]\tvalid_0's auc: 0.756364\n",
            "[1500]\tvalid_0's auc: 0.760017\n",
            "[2000]\tvalid_0's auc: 0.762677\n",
            "[2500]\tvalid_0's auc: 0.764932\n",
            "[3000]\tvalid_0's auc: 0.76627\n",
            "[3500]\tvalid_0's auc: 0.767701\n",
            "[4000]\tvalid_0's auc: 0.768716\n",
            "[4500]\tvalid_0's auc: 0.76972\n",
            "[5000]\tvalid_0's auc: 0.77063\n",
            "[5500]\tvalid_0's auc: 0.771495\n",
            "[6000]\tvalid_0's auc: 0.772179\n",
            "[6500]\tvalid_0's auc: 0.772829\n",
            "[7000]\tvalid_0's auc: 0.773408\n",
            "[7500]\tvalid_0's auc: 0.773883\n",
            "[8000]\tvalid_0's auc: 0.774271\n",
            "[8500]\tvalid_0's auc: 0.774834\n",
            "[9000]\tvalid_0's auc: 0.775395\n",
            "Early stopping, best iteration is:\n",
            "[9241]\tvalid_0's auc: 0.775554\n",
            "0.7755543578039599\n",
            "Training until validation scores don't improve for 200 rounds.\n",
            "[500]\tvalid_0's auc: 0.747558\n",
            "[1000]\tvalid_0's auc: 0.755154\n",
            "[1500]\tvalid_0's auc: 0.758638\n",
            "[2000]\tvalid_0's auc: 0.761202\n",
            "[2500]\tvalid_0's auc: 0.762856\n",
            "[3000]\tvalid_0's auc: 0.764524\n",
            "[3500]\tvalid_0's auc: 0.766021\n",
            "[4000]\tvalid_0's auc: 0.766958\n",
            "[4500]\tvalid_0's auc: 0.767966\n",
            "[5000]\tvalid_0's auc: 0.769055\n",
            "[5500]\tvalid_0's auc: 0.769776\n",
            "[6000]\tvalid_0's auc: 0.770571\n",
            "[6500]\tvalid_0's auc: 0.771091\n",
            "[7000]\tvalid_0's auc: 0.771758\n",
            "[7500]\tvalid_0's auc: 0.772301\n",
            "[8000]\tvalid_0's auc: 0.772911\n",
            "[8500]\tvalid_0's auc: 0.773337\n",
            "[9000]\tvalid_0's auc: 0.774117\n",
            "[9500]\tvalid_0's auc: 0.774531\n",
            "[10000]\tvalid_0's auc: 0.774824\n",
            "[10500]\tvalid_0's auc: 0.77509\n",
            "[11000]\tvalid_0's auc: 0.775361\n",
            "[11500]\tvalid_0's auc: 0.775648\n",
            "[12000]\tvalid_0's auc: 0.775994\n",
            "[12500]\tvalid_0's auc: 0.776292\n",
            "[13000]\tvalid_0's auc: 0.77655\n",
            "[13500]\tvalid_0's auc: 0.776779\n",
            "[14000]\tvalid_0's auc: 0.777112\n",
            "[14500]\tvalid_0's auc: 0.777311\n",
            "[15000]\tvalid_0's auc: 0.777456\n",
            "Early stopping, best iteration is:\n",
            "[15287]\tvalid_0's auc: 0.777651\n",
            "0.7776510378173892\n",
            "Training until validation scores don't improve for 200 rounds.\n",
            "[500]\tvalid_0's auc: 0.746468\n",
            "[1000]\tvalid_0's auc: 0.755249\n",
            "[1500]\tvalid_0's auc: 0.759039\n",
            "[2000]\tvalid_0's auc: 0.762014\n",
            "[2500]\tvalid_0's auc: 0.764073\n",
            "[3000]\tvalid_0's auc: 0.765715\n",
            "[3500]\tvalid_0's auc: 0.76689\n",
            "[4000]\tvalid_0's auc: 0.768251\n",
            "[4500]\tvalid_0's auc: 0.769417\n",
            "[5000]\tvalid_0's auc: 0.770503\n",
            "[5500]\tvalid_0's auc: 0.771379\n",
            "[6000]\tvalid_0's auc: 0.772277\n",
            "[6500]\tvalid_0's auc: 0.7728\n",
            "[7000]\tvalid_0's auc: 0.773552\n",
            "[7500]\tvalid_0's auc: 0.774119\n",
            "[8000]\tvalid_0's auc: 0.774694\n",
            "[8500]\tvalid_0's auc: 0.775133\n",
            "[9000]\tvalid_0's auc: 0.775545\n",
            "[9500]\tvalid_0's auc: 0.776046\n",
            "[10000]\tvalid_0's auc: 0.776469\n",
            "[10500]\tvalid_0's auc: 0.776764\n",
            "[11000]\tvalid_0's auc: 0.777144\n",
            "[11500]\tvalid_0's auc: 0.777576\n",
            "[12000]\tvalid_0's auc: 0.777842\n",
            "[12500]\tvalid_0's auc: 0.778105\n",
            "[13000]\tvalid_0's auc: 0.778374\n",
            "[13500]\tvalid_0's auc: 0.778672\n",
            "[14000]\tvalid_0's auc: 0.778889\n",
            "[14500]\tvalid_0's auc: 0.779151\n",
            "[15000]\tvalid_0's auc: 0.779333\n",
            "[15500]\tvalid_0's auc: 0.779529\n",
            "Early stopping, best iteration is:\n",
            "[15402]\tvalid_0's auc: 0.779601\n",
            "0.7795922219021015\n",
            "Training until validation scores don't improve for 200 rounds.\n",
            "[500]\tvalid_0's auc: 0.749067\n",
            "[1000]\tvalid_0's auc: 0.756465\n",
            "[1500]\tvalid_0's auc: 0.760188\n",
            "[2000]\tvalid_0's auc: 0.762737\n",
            "[2500]\tvalid_0's auc: 0.764717\n",
            "[3000]\tvalid_0's auc: 0.766352\n",
            "[3500]\tvalid_0's auc: 0.767652\n",
            "[4000]\tvalid_0's auc: 0.768671\n",
            "[4500]\tvalid_0's auc: 0.769794\n",
            "[5000]\tvalid_0's auc: 0.770816\n",
            "[5500]\tvalid_0's auc: 0.771646\n",
            "[6000]\tvalid_0's auc: 0.772261\n",
            "[6500]\tvalid_0's auc: 0.773058\n",
            "[7000]\tvalid_0's auc: 0.773523\n",
            "[7500]\tvalid_0's auc: 0.774061\n",
            "[8000]\tvalid_0's auc: 0.774704\n",
            "[8500]\tvalid_0's auc: 0.775099\n",
            "[9000]\tvalid_0's auc: 0.77574\n",
            "[9500]\tvalid_0's auc: 0.776151\n",
            "[10000]\tvalid_0's auc: 0.776558\n",
            "[10500]\tvalid_0's auc: 0.776928\n",
            "[11000]\tvalid_0's auc: 0.777302\n",
            "[11500]\tvalid_0's auc: 0.777709\n",
            "[12000]\tvalid_0's auc: 0.777922\n",
            "[12500]\tvalid_0's auc: 0.778213\n",
            "[13000]\tvalid_0's auc: 0.778507\n",
            "Early stopping, best iteration is:\n",
            "[12901]\tvalid_0's auc: 0.778561\n",
            "0.7785607572186719\n",
            "Training until validation scores don't improve for 200 rounds.\n",
            "[500]\tvalid_0's auc: 0.748591\n",
            "[1000]\tvalid_0's auc: 0.755208\n",
            "[1500]\tvalid_0's auc: 0.75874\n",
            "[2000]\tvalid_0's auc: 0.761299\n",
            "[2500]\tvalid_0's auc: 0.76293\n",
            "[3000]\tvalid_0's auc: 0.764446\n",
            "[3500]\tvalid_0's auc: 0.76527\n",
            "[4000]\tvalid_0's auc: 0.766176\n",
            "[4500]\tvalid_0's auc: 0.767042\n",
            "[5000]\tvalid_0's auc: 0.767804\n",
            "[5500]\tvalid_0's auc: 0.768481\n",
            "[6000]\tvalid_0's auc: 0.769003\n",
            "[6500]\tvalid_0's auc: 0.769523\n",
            "[7000]\tvalid_0's auc: 0.770092\n",
            "[7500]\tvalid_0's auc: 0.770628\n",
            "[8000]\tvalid_0's auc: 0.771068\n",
            "[8500]\tvalid_0's auc: 0.77128\n",
            "[9000]\tvalid_0's auc: 0.771752\n",
            "[9500]\tvalid_0's auc: 0.772033\n",
            "[10000]\tvalid_0's auc: 0.772288\n",
            "[10500]\tvalid_0's auc: 0.772622\n",
            "[11000]\tvalid_0's auc: 0.772811\n",
            "Early stopping, best iteration is:\n",
            "[11049]\tvalid_0's auc: 0.772886\n",
            "0.7728862662116903\n",
            "Training until validation scores don't improve for 200 rounds.\n",
            "[500]\tvalid_0's auc: 0.748467\n",
            "[1000]\tvalid_0's auc: 0.755896\n",
            "[1500]\tvalid_0's auc: 0.759393\n",
            "[2000]\tvalid_0's auc: 0.761675\n",
            "[2500]\tvalid_0's auc: 0.763529\n",
            "[3000]\tvalid_0's auc: 0.764825\n",
            "[3500]\tvalid_0's auc: 0.765961\n",
            "[4000]\tvalid_0's auc: 0.767137\n",
            "[4500]\tvalid_0's auc: 0.768066\n",
            "[5000]\tvalid_0's auc: 0.768966\n",
            "[5500]\tvalid_0's auc: 0.769571\n",
            "[6000]\tvalid_0's auc: 0.77037\n",
            "[6500]\tvalid_0's auc: 0.770815\n",
            "[7000]\tvalid_0's auc: 0.771525\n",
            "[7500]\tvalid_0's auc: 0.771791\n",
            "[8000]\tvalid_0's auc: 0.772268\n",
            "[8500]\tvalid_0's auc: 0.772686\n",
            "[9000]\tvalid_0's auc: 0.773167\n",
            "[9500]\tvalid_0's auc: 0.773385\n",
            "[10000]\tvalid_0's auc: 0.773774\n",
            "[10500]\tvalid_0's auc: 0.77403\n",
            "[11000]\tvalid_0's auc: 0.774275\n",
            "[11500]\tvalid_0's auc: 0.774619\n",
            "[12000]\tvalid_0's auc: 0.774901\n",
            "[12500]\tvalid_0's auc: 0.77521\n",
            "[13000]\tvalid_0's auc: 0.77534\n",
            "[13500]\tvalid_0's auc: 0.775609\n",
            "[14000]\tvalid_0's auc: 0.775743\n",
            "[14500]\tvalid_0's auc: 0.776066\n",
            "[15000]\tvalid_0's auc: 0.776136\n",
            "[15500]\tvalid_0's auc: 0.776366\n",
            "[16000]\tvalid_0's auc: 0.776534\n",
            "Early stopping, best iteration is:\n",
            "[15952]\tvalid_0's auc: 0.776566\n",
            "0.776566283171418\n",
            "Training until validation scores don't improve for 200 rounds.\n",
            "[500]\tvalid_0's auc: 0.750375\n",
            "[1000]\tvalid_0's auc: 0.757184\n",
            "[1500]\tvalid_0's auc: 0.760325\n",
            "[2000]\tvalid_0's auc: 0.762638\n",
            "[2500]\tvalid_0's auc: 0.764513\n",
            "[3000]\tvalid_0's auc: 0.76589\n",
            "[3500]\tvalid_0's auc: 0.766957\n",
            "[4000]\tvalid_0's auc: 0.767962\n",
            "[4500]\tvalid_0's auc: 0.768784\n",
            "[5000]\tvalid_0's auc: 0.769576\n",
            "[5500]\tvalid_0's auc: 0.770222\n",
            "[6000]\tvalid_0's auc: 0.770898\n",
            "[6500]\tvalid_0's auc: 0.771521\n",
            "[7000]\tvalid_0's auc: 0.771846\n",
            "[7500]\tvalid_0's auc: 0.772359\n",
            "[8000]\tvalid_0's auc: 0.772876\n",
            "[8500]\tvalid_0's auc: 0.773249\n",
            "[9000]\tvalid_0's auc: 0.773557\n",
            "[9500]\tvalid_0's auc: 0.773785\n",
            "[10000]\tvalid_0's auc: 0.774115\n",
            "[10500]\tvalid_0's auc: 0.774275\n",
            "Early stopping, best iteration is:\n",
            "[10305]\tvalid_0's auc: 0.774311\n",
            "0.7743106767954879\n",
            "0.7770725864230918\n"
          ],
          "name": "stdout"
        }
      ]
    },
    {
      "cell_type": "code",
      "metadata": {
        "id": "51HsOlxWKCCI",
        "colab_type": "code",
        "colab": {}
      },
      "source": [
        "sub_df = pd.DataFrame(sample[[\"id\"]])\n",
        "sub_df[\"is_pass\"] = pred_test_full\n",
        "sub_df.to_csv(\"Solution.csv\", index=False)"
      ],
      "execution_count": 0,
      "outputs": []
    },
    {
      "cell_type": "code",
      "metadata": {
        "id": "bUE-8V_NKCCL",
        "colab_type": "code",
        "colab": {
          "base_uri": "https://localhost:8080/",
          "height": 1000
        },
        "outputId": "bf396efd-7b65-438c-a18b-2ff6c334a8c2"
      },
      "source": [
        "fig, ax = plt.subplots(figsize=(12,30))\n",
        "lgb.plot_importance(model, max_num_features=100, height=0.8, ax=ax)\n",
        "ax.grid(False)\n",
        "plt.title(\"LightGBM - Feature Importance\", fontsize=15)\n",
        "plt.show()"
      ],
      "execution_count": 69,
      "outputs": [
        {
          "output_type": "display_data",
          "data": {
            "image/png": "[encoded data removed]",
            "text/plain": [
              "<Figure size 864x2160 with 1 Axes>"
            ]
          },
          "metadata": {
            "tags": [],
            "needs_background": "light"
          }
        }
      ]
    },
    {
      "cell_type": "code",
      "metadata": {
        "id": "xPWUOpJuKCCN",
        "colab_type": "code",
        "colab": {
          "base_uri": "https://localhost:8080/",
          "height": 491
        },
        "outputId": "496a33be-7d18-480a-e375-f8e21571c822"
      },
      "source": [
        "sub_df.head(15)"
      ],
      "execution_count": 70,
      "outputs": [
        {
          "output_type": "execute_result",
          "data": {
            "text/html": [
              "<div>\n",
              "<style scoped>\n",
              "    .dataframe tbody tr th:only-of-type {\n",
              "        vertical-align: middle;\n",
              "    }\n",
              "\n",
              "    .dataframe tbody tr th {\n",
              "        vertical-align: top;\n",
              "    }\n",
              "\n",
              "    .dataframe thead th {\n",
              "        text-align: right;\n",
              "    }\n",
              "</style>\n",
              "<table border=\"1\" class=\"dataframe\">\n",
              "  <thead>\n",
              "    <tr style=\"text-align: right;\">\n",
              "      <th></th>\n",
              "      <th>id</th>\n",
              "      <th>is_pass</th>\n",
              "    </tr>\n",
              "  </thead>\n",
              "  <tbody>\n",
              "    <tr>\n",
              "      <th>0</th>\n",
              "      <td>1626_45</td>\n",
              "      <td>0.603292</td>\n",
              "    </tr>\n",
              "    <tr>\n",
              "      <th>1</th>\n",
              "      <td>11020_130</td>\n",
              "      <td>0.934987</td>\n",
              "    </tr>\n",
              "    <tr>\n",
              "      <th>2</th>\n",
              "      <td>12652_146</td>\n",
              "      <td>0.740516</td>\n",
              "    </tr>\n",
              "    <tr>\n",
              "      <th>3</th>\n",
              "      <td>7038_72</td>\n",
              "      <td>0.016603</td>\n",
              "    </tr>\n",
              "    <tr>\n",
              "      <th>4</th>\n",
              "      <td>888_71</td>\n",
              "      <td>0.185953</td>\n",
              "    </tr>\n",
              "    <tr>\n",
              "      <th>5</th>\n",
              "      <td>18922_62</td>\n",
              "      <td>0.443299</td>\n",
              "    </tr>\n",
              "    <tr>\n",
              "      <th>6</th>\n",
              "      <td>5499_29</td>\n",
              "      <td>0.927039</td>\n",
              "    </tr>\n",
              "    <tr>\n",
              "      <th>7</th>\n",
              "      <td>10150_125</td>\n",
              "      <td>0.868038</td>\n",
              "    </tr>\n",
              "    <tr>\n",
              "      <th>8</th>\n",
              "      <td>10158_95</td>\n",
              "      <td>0.764661</td>\n",
              "    </tr>\n",
              "    <tr>\n",
              "      <th>9</th>\n",
              "      <td>6215_17</td>\n",
              "      <td>0.937126</td>\n",
              "    </tr>\n",
              "    <tr>\n",
              "      <th>10</th>\n",
              "      <td>6719_121</td>\n",
              "      <td>0.917414</td>\n",
              "    </tr>\n",
              "    <tr>\n",
              "      <th>11</th>\n",
              "      <td>14498_175</td>\n",
              "      <td>0.937830</td>\n",
              "    </tr>\n",
              "    <tr>\n",
              "      <th>12</th>\n",
              "      <td>15169_153</td>\n",
              "      <td>0.970223</td>\n",
              "    </tr>\n",
              "    <tr>\n",
              "      <th>13</th>\n",
              "      <td>11094_23</td>\n",
              "      <td>0.548475</td>\n",
              "    </tr>\n",
              "    <tr>\n",
              "      <th>14</th>\n",
              "      <td>17853_11</td>\n",
              "      <td>0.766399</td>\n",
              "    </tr>\n",
              "  </tbody>\n",
              "</table>\n",
              "</div>"
            ],
            "text/plain": [
              "           id   is_pass\n",
              "0     1626_45  0.603292\n",
              "1   11020_130  0.934987\n",
              "2   12652_146  0.740516\n",
              "3     7038_72  0.016603\n",
              "4      888_71  0.185953\n",
              "5    18922_62  0.443299\n",
              "6     5499_29  0.927039\n",
              "7   10150_125  0.868038\n",
              "8    10158_95  0.764661\n",
              "9     6215_17  0.937126\n",
              "10   6719_121  0.917414\n",
              "11  14498_175  0.937830\n",
              "12  15169_153  0.970223\n",
              "13   11094_23  0.548475\n",
              "14   17853_11  0.766399"
            ]
          },
          "metadata": {
            "tags": []
          },
          "execution_count": 70
        }
      ]
    },
    {
      "cell_type": "code",
      "metadata": {
        "id": "2jeZo5ApKCCT",
        "colab_type": "code",
        "colab": {}
      },
      "source": [
        ""
      ],
      "execution_count": 0,
      "outputs": []
    }
  ]
}