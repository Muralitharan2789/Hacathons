{
 "cells": [
  {
   "cell_type": "markdown",
   "metadata": {},
   "source": [
    "##### *I have learned the Model from, who topped the Hackathon in AV-Lessons Learnt*\n",
    " - *Feature Generation is important*\n",
    " - *Data Study*"
   ]
  },
  {
   "cell_type": "markdown",
   "metadata": {},
   "source": [
    "#### Import Libraries"
   ]
  },
  {
   "cell_type": "code",
   "execution_count": 1,
   "metadata": {},
   "outputs": [],
   "source": [
    "import numpy as np\n",
    "import pandas as pd\n",
    "pd.set_option('display.max_rows', 500)\n",
    "pd.set_option('display.max_columns', 100)\n",
    "from xgboost import XGBRegressor\n",
    "from xgboost import plot_importance\n",
    "import time"
   ]
  },
  {
   "cell_type": "code",
   "execution_count": 2,
   "metadata": {},
   "outputs": [],
   "source": [
    "def plot_features(booster, figsize):    \n",
    "    fig, ax = plt.subplots(1,1,figsize=figsize)\n",
    "    return plot_importance(booster=booster, ax=ax)"
   ]
  },
  {
   "cell_type": "code",
   "execution_count": 3,
   "metadata": {},
   "outputs": [],
   "source": [
    "train=pd.read_csv('train_aWnotuB.csv',parse_dates=['DateTime'])\n",
    "test=pd.read_csv('test_BdBKkAj_L87Nc3S.csv',parse_dates=['DateTime'])\n",
    "sub=pd.read_csv('sample_submission_KVKNmI7.csv')"
   ]
  },
  {
   "cell_type": "code",
   "execution_count": 4,
   "metadata": {},
   "outputs": [
    {
     "data": {
      "text/html": [
       "<div>\n",
       "<style scoped>\n",
       "    .dataframe tbody tr th:only-of-type {\n",
       "        vertical-align: middle;\n",
       "    }\n",
       "\n",
       "    .dataframe tbody tr th {\n",
       "        vertical-align: top;\n",
       "    }\n",
       "\n",
       "    .dataframe thead th {\n",
       "        text-align: right;\n",
       "    }\n",
       "</style>\n",
       "<table border=\"1\" class=\"dataframe\">\n",
       "  <thead>\n",
       "    <tr style=\"text-align: right;\">\n",
       "      <th></th>\n",
       "      <th>DateTime</th>\n",
       "      <th>Junction</th>\n",
       "      <th>Vehicles</th>\n",
       "      <th>ID</th>\n",
       "    </tr>\n",
       "  </thead>\n",
       "  <tbody>\n",
       "    <tr>\n",
       "      <th>0</th>\n",
       "      <td>2015-11-01 00:00:00</td>\n",
       "      <td>1</td>\n",
       "      <td>15</td>\n",
       "      <td>20151101001</td>\n",
       "    </tr>\n",
       "    <tr>\n",
       "      <th>1</th>\n",
       "      <td>2015-11-01 01:00:00</td>\n",
       "      <td>1</td>\n",
       "      <td>13</td>\n",
       "      <td>20151101011</td>\n",
       "    </tr>\n",
       "    <tr>\n",
       "      <th>2</th>\n",
       "      <td>2015-11-01 02:00:00</td>\n",
       "      <td>1</td>\n",
       "      <td>10</td>\n",
       "      <td>20151101021</td>\n",
       "    </tr>\n",
       "    <tr>\n",
       "      <th>3</th>\n",
       "      <td>2015-11-01 03:00:00</td>\n",
       "      <td>1</td>\n",
       "      <td>7</td>\n",
       "      <td>20151101031</td>\n",
       "    </tr>\n",
       "    <tr>\n",
       "      <th>4</th>\n",
       "      <td>2015-11-01 04:00:00</td>\n",
       "      <td>1</td>\n",
       "      <td>9</td>\n",
       "      <td>20151101041</td>\n",
       "    </tr>\n",
       "  </tbody>\n",
       "</table>\n",
       "</div>"
      ],
      "text/plain": [
       "             DateTime  Junction  Vehicles           ID\n",
       "0 2015-11-01 00:00:00         1        15  20151101001\n",
       "1 2015-11-01 01:00:00         1        13  20151101011\n",
       "2 2015-11-01 02:00:00         1        10  20151101021\n",
       "3 2015-11-01 03:00:00         1         7  20151101031\n",
       "4 2015-11-01 04:00:00         1         9  20151101041"
      ]
     },
     "execution_count": 4,
     "metadata": {},
     "output_type": "execute_result"
    }
   ],
   "source": [
    "train.head()"
   ]
  },
  {
   "cell_type": "code",
   "execution_count": 5,
   "metadata": {},
   "outputs": [
    {
     "data": {
      "text/plain": [
       "DateTime    datetime64[ns]\n",
       "Junction             int64\n",
       "Vehicles             int64\n",
       "ID                   int64\n",
       "dtype: object"
      ]
     },
     "execution_count": 5,
     "metadata": {},
     "output_type": "execute_result"
    }
   ],
   "source": [
    "train.dtypes"
   ]
  },
  {
   "cell_type": "code",
   "execution_count": 6,
   "metadata": {},
   "outputs": [],
   "source": [
    "def create_date_featues(df):\n",
    "\n",
    "    df['Year'] = pd.to_datetime(df['DateTime']).dt.year\n",
    "\n",
    "    df['Month'] = pd.to_datetime(df['DateTime']).dt.month\n",
    "\n",
    "    df['Day'] = pd.to_datetime(df['DateTime']).dt.day\n",
    "\n",
    "    df['Dayofweek'] = pd.to_datetime(df['DateTime']).dt.dayofweek\n",
    "\n",
    "    df['DayOfyear'] = pd.to_datetime(df['DateTime']).dt.dayofyear\n",
    "\n",
    "    df['Week'] = pd.to_datetime(df['DateTime']).dt.week\n",
    "\n",
    "    df['Quarter'] = pd.to_datetime(df['DateTime']).dt.quarter \n",
    "\n",
    "    df['Is_month_start'] = pd.to_datetime(df['DateTime']).dt.is_month_start\n",
    "\n",
    "    df['Is_month_end'] = pd.to_datetime(df['DateTime']).dt.is_month_end\n",
    "\n",
    "    df['Is_quarter_start'] = pd.to_datetime(df['DateTime']).dt.is_quarter_start\n",
    "\n",
    "    df['Is_quarter_end'] = pd.to_datetime(df['DateTime']).dt.is_quarter_end\n",
    "\n",
    "    df['Is_year_start'] = pd.to_datetime(df['DateTime']).dt.is_year_start\n",
    "\n",
    "    df['Is_year_end'] = pd.to_datetime(df['DateTime']).dt.is_year_end\n",
    "\n",
    "    df['Semester'] = np.where(df['Quarter'].isin([1,2]),1,2)\n",
    "\n",
    "    df['Is_weekend'] = np.where(df['Dayofweek'].isin([5,6]),1,0)\n",
    "\n",
    "    df['Is_weekday'] = np.where(df['Dayofweek'].isin([0,1,2,3,4]),1,0)\n",
    "    \n",
    "    df['Hour'] = pd.to_datetime(df['DateTime']).dt.hour\n",
    "\n",
    "    return df"
   ]
  },
  {
   "cell_type": "code",
   "execution_count": 7,
   "metadata": {},
   "outputs": [
    {
     "data": {
      "text/html": [
       "<div>\n",
       "<style scoped>\n",
       "    .dataframe tbody tr th:only-of-type {\n",
       "        vertical-align: middle;\n",
       "    }\n",
       "\n",
       "    .dataframe tbody tr th {\n",
       "        vertical-align: top;\n",
       "    }\n",
       "\n",
       "    .dataframe thead th {\n",
       "        text-align: right;\n",
       "    }\n",
       "</style>\n",
       "<table border=\"1\" class=\"dataframe\">\n",
       "  <thead>\n",
       "    <tr style=\"text-align: right;\">\n",
       "      <th></th>\n",
       "      <th>DateTime</th>\n",
       "      <th>Junction</th>\n",
       "      <th>ID</th>\n",
       "      <th>Year</th>\n",
       "      <th>Month</th>\n",
       "      <th>Day</th>\n",
       "      <th>Dayofweek</th>\n",
       "      <th>DayOfyear</th>\n",
       "      <th>Week</th>\n",
       "      <th>Quarter</th>\n",
       "      <th>Is_month_start</th>\n",
       "      <th>Is_month_end</th>\n",
       "      <th>Is_quarter_start</th>\n",
       "      <th>Is_quarter_end</th>\n",
       "      <th>Is_year_start</th>\n",
       "      <th>Is_year_end</th>\n",
       "      <th>Semester</th>\n",
       "      <th>Is_weekend</th>\n",
       "      <th>Is_weekday</th>\n",
       "      <th>Hour</th>\n",
       "    </tr>\n",
       "  </thead>\n",
       "  <tbody>\n",
       "    <tr>\n",
       "      <th>0</th>\n",
       "      <td>2017-07-01 00:00:00</td>\n",
       "      <td>1</td>\n",
       "      <td>20170701001</td>\n",
       "      <td>2017</td>\n",
       "      <td>7</td>\n",
       "      <td>1</td>\n",
       "      <td>5</td>\n",
       "      <td>182</td>\n",
       "      <td>26</td>\n",
       "      <td>3</td>\n",
       "      <td>True</td>\n",
       "      <td>False</td>\n",
       "      <td>True</td>\n",
       "      <td>False</td>\n",
       "      <td>False</td>\n",
       "      <td>False</td>\n",
       "      <td>2</td>\n",
       "      <td>1</td>\n",
       "      <td>0</td>\n",
       "      <td>0</td>\n",
       "    </tr>\n",
       "    <tr>\n",
       "      <th>1</th>\n",
       "      <td>2017-07-01 01:00:00</td>\n",
       "      <td>1</td>\n",
       "      <td>20170701011</td>\n",
       "      <td>2017</td>\n",
       "      <td>7</td>\n",
       "      <td>1</td>\n",
       "      <td>5</td>\n",
       "      <td>182</td>\n",
       "      <td>26</td>\n",
       "      <td>3</td>\n",
       "      <td>True</td>\n",
       "      <td>False</td>\n",
       "      <td>True</td>\n",
       "      <td>False</td>\n",
       "      <td>False</td>\n",
       "      <td>False</td>\n",
       "      <td>2</td>\n",
       "      <td>1</td>\n",
       "      <td>0</td>\n",
       "      <td>1</td>\n",
       "    </tr>\n",
       "  </tbody>\n",
       "</table>\n",
       "</div>"
      ],
      "text/plain": [
       "             DateTime  Junction           ID  Year  Month  Day  Dayofweek  \\\n",
       "0 2017-07-01 00:00:00         1  20170701001  2017      7    1          5   \n",
       "1 2017-07-01 01:00:00         1  20170701011  2017      7    1          5   \n",
       "\n",
       "   DayOfyear  Week  Quarter  Is_month_start  Is_month_end  Is_quarter_start  \\\n",
       "0        182    26        3            True         False              True   \n",
       "1        182    26        3            True         False              True   \n",
       "\n",
       "   Is_quarter_end  Is_year_start  Is_year_end  Semester  Is_weekend  \\\n",
       "0           False          False        False         2           1   \n",
       "1           False          False        False         2           1   \n",
       "\n",
       "   Is_weekday  Hour  \n",
       "0           0     0  \n",
       "1           0     1  "
      ]
     },
     "execution_count": 7,
     "metadata": {},
     "output_type": "execute_result"
    }
   ],
   "source": [
    "create_date_featues(train)\n",
    "create_date_featues(test)\n",
    "test.head(2)"
   ]
  },
  {
   "cell_type": "code",
   "execution_count": 8,
   "metadata": {},
   "outputs": [
    {
     "data": {
      "text/plain": [
       "Year  Month\n",
       "2015  11       11.911574\n",
       "      12       11.121416\n",
       "2016  1        13.799731\n",
       "      2        17.524425\n",
       "      3        17.512993\n",
       "      4        19.358333\n",
       "      5        19.552419\n",
       "      6        18.889815\n",
       "      7        21.837814\n",
       "      8        21.936380\n",
       "      9        25.644907\n",
       "      10       26.551075\n",
       "      11       27.156944\n",
       "      12       26.806452\n",
       "2017  1        24.173051\n",
       "      2        27.186384\n",
       "      3        27.243616\n",
       "      4        28.276389\n",
       "      5        28.444220\n",
       "      6        31.388889\n",
       "Name: Vehicles, dtype: float64"
      ]
     },
     "execution_count": 8,
     "metadata": {},
     "output_type": "execute_result"
    }
   ],
   "source": [
    "train.groupby(['Year','Month'])['Vehicles'].mean()"
   ]
  },
  {
   "cell_type": "code",
   "execution_count": 9,
   "metadata": {},
   "outputs": [
    {
     "data": {
      "text/html": [
       "<div>\n",
       "<style scoped>\n",
       "    .dataframe tbody tr th:only-of-type {\n",
       "        vertical-align: middle;\n",
       "    }\n",
       "\n",
       "    .dataframe tbody tr th {\n",
       "        vertical-align: top;\n",
       "    }\n",
       "\n",
       "    .dataframe thead th {\n",
       "        text-align: right;\n",
       "    }\n",
       "</style>\n",
       "<table border=\"1\" class=\"dataframe\">\n",
       "  <thead>\n",
       "    <tr style=\"text-align: right;\">\n",
       "      <th></th>\n",
       "      <th></th>\n",
       "      <th>Junction</th>\n",
       "      <th>ID</th>\n",
       "      <th>Day</th>\n",
       "      <th>Dayofweek</th>\n",
       "      <th>DayOfyear</th>\n",
       "      <th>Week</th>\n",
       "      <th>Quarter</th>\n",
       "      <th>Is_month_start</th>\n",
       "      <th>Is_month_end</th>\n",
       "      <th>Is_quarter_start</th>\n",
       "      <th>Is_quarter_end</th>\n",
       "      <th>Is_year_start</th>\n",
       "      <th>Is_year_end</th>\n",
       "      <th>Semester</th>\n",
       "      <th>Is_weekend</th>\n",
       "      <th>Is_weekday</th>\n",
       "      <th>Hour</th>\n",
       "    </tr>\n",
       "    <tr>\n",
       "      <th>Year</th>\n",
       "      <th>Month</th>\n",
       "      <th></th>\n",
       "      <th></th>\n",
       "      <th></th>\n",
       "      <th></th>\n",
       "      <th></th>\n",
       "      <th></th>\n",
       "      <th></th>\n",
       "      <th></th>\n",
       "      <th></th>\n",
       "      <th></th>\n",
       "      <th></th>\n",
       "      <th></th>\n",
       "      <th></th>\n",
       "      <th></th>\n",
       "      <th></th>\n",
       "      <th></th>\n",
       "      <th></th>\n",
       "    </tr>\n",
       "  </thead>\n",
       "  <tbody>\n",
       "    <tr>\n",
       "      <th rowspan=\"4\" valign=\"top\">2017</th>\n",
       "      <th>7</th>\n",
       "      <td>2.5</td>\n",
       "      <td>2.017072e+10</td>\n",
       "      <td>16.0</td>\n",
       "      <td>3.064516</td>\n",
       "      <td>197.0</td>\n",
       "      <td>28.419355</td>\n",
       "      <td>3.0</td>\n",
       "      <td>0.032258</td>\n",
       "      <td>0.032258</td>\n",
       "      <td>0.032258</td>\n",
       "      <td>0.000000</td>\n",
       "      <td>0.0</td>\n",
       "      <td>0.0</td>\n",
       "      <td>2.0</td>\n",
       "      <td>0.322581</td>\n",
       "      <td>0.677419</td>\n",
       "      <td>11.5</td>\n",
       "    </tr>\n",
       "    <tr>\n",
       "      <th>8</th>\n",
       "      <td>2.5</td>\n",
       "      <td>2.017082e+10</td>\n",
       "      <td>16.0</td>\n",
       "      <td>2.903226</td>\n",
       "      <td>228.0</td>\n",
       "      <td>32.870968</td>\n",
       "      <td>3.0</td>\n",
       "      <td>0.032258</td>\n",
       "      <td>0.032258</td>\n",
       "      <td>0.000000</td>\n",
       "      <td>0.000000</td>\n",
       "      <td>0.0</td>\n",
       "      <td>0.0</td>\n",
       "      <td>2.0</td>\n",
       "      <td>0.258065</td>\n",
       "      <td>0.741935</td>\n",
       "      <td>11.5</td>\n",
       "    </tr>\n",
       "    <tr>\n",
       "      <th>9</th>\n",
       "      <td>2.5</td>\n",
       "      <td>2.017092e+10</td>\n",
       "      <td>15.5</td>\n",
       "      <td>3.100000</td>\n",
       "      <td>258.5</td>\n",
       "      <td>37.200000</td>\n",
       "      <td>3.0</td>\n",
       "      <td>0.033333</td>\n",
       "      <td>0.033333</td>\n",
       "      <td>0.000000</td>\n",
       "      <td>0.033333</td>\n",
       "      <td>0.0</td>\n",
       "      <td>0.0</td>\n",
       "      <td>2.0</td>\n",
       "      <td>0.300000</td>\n",
       "      <td>0.700000</td>\n",
       "      <td>11.5</td>\n",
       "    </tr>\n",
       "    <tr>\n",
       "      <th>10</th>\n",
       "      <td>2.5</td>\n",
       "      <td>2.017102e+10</td>\n",
       "      <td>16.0</td>\n",
       "      <td>2.935484</td>\n",
       "      <td>289.0</td>\n",
       "      <td>41.580645</td>\n",
       "      <td>4.0</td>\n",
       "      <td>0.032258</td>\n",
       "      <td>0.032258</td>\n",
       "      <td>0.032258</td>\n",
       "      <td>0.000000</td>\n",
       "      <td>0.0</td>\n",
       "      <td>0.0</td>\n",
       "      <td>2.0</td>\n",
       "      <td>0.290323</td>\n",
       "      <td>0.709677</td>\n",
       "      <td>11.5</td>\n",
       "    </tr>\n",
       "  </tbody>\n",
       "</table>\n",
       "</div>"
      ],
      "text/plain": [
       "            Junction            ID   Day  Dayofweek  DayOfyear       Week  \\\n",
       "Year Month                                                                  \n",
       "2017 7           2.5  2.017072e+10  16.0   3.064516      197.0  28.419355   \n",
       "     8           2.5  2.017082e+10  16.0   2.903226      228.0  32.870968   \n",
       "     9           2.5  2.017092e+10  15.5   3.100000      258.5  37.200000   \n",
       "     10          2.5  2.017102e+10  16.0   2.935484      289.0  41.580645   \n",
       "\n",
       "            Quarter  Is_month_start  Is_month_end  Is_quarter_start  \\\n",
       "Year Month                                                            \n",
       "2017 7          3.0        0.032258      0.032258          0.032258   \n",
       "     8          3.0        0.032258      0.032258          0.000000   \n",
       "     9          3.0        0.033333      0.033333          0.000000   \n",
       "     10         4.0        0.032258      0.032258          0.032258   \n",
       "\n",
       "            Is_quarter_end  Is_year_start  Is_year_end  Semester  Is_weekend  \\\n",
       "Year Month                                                                     \n",
       "2017 7            0.000000            0.0          0.0       2.0    0.322581   \n",
       "     8            0.000000            0.0          0.0       2.0    0.258065   \n",
       "     9            0.033333            0.0          0.0       2.0    0.300000   \n",
       "     10           0.000000            0.0          0.0       2.0    0.290323   \n",
       "\n",
       "            Is_weekday  Hour  \n",
       "Year Month                    \n",
       "2017 7        0.677419  11.5  \n",
       "     8        0.741935  11.5  \n",
       "     9        0.700000  11.5  \n",
       "     10       0.709677  11.5  "
      ]
     },
     "execution_count": 9,
     "metadata": {},
     "output_type": "execute_result"
    }
   ],
   "source": [
    "test.groupby(['Year','Month']).mean()"
   ]
  },
  {
   "cell_type": "markdown",
   "metadata": {},
   "source": [
    "###### Ignoring 2015 Data because we are predicting for months 7,8,9,10 and 2015 data consists of month 11,12 and also Vehicle trend was low during 2015 compared to 2016 and 2017"
   ]
  },
  {
   "cell_type": "code",
   "execution_count": 10,
   "metadata": {},
   "outputs": [],
   "source": [
    "train=train[train['DateTime']>='2016-01-01']"
   ]
  },
  {
   "cell_type": "code",
   "execution_count": 11,
   "metadata": {},
   "outputs": [
    {
     "data": {
      "text/plain": [
       "3    13128\n",
       "2    13128\n",
       "1    13128\n",
       "4     4344\n",
       "Name: Junction, dtype: int64"
      ]
     },
     "execution_count": 11,
     "metadata": {},
     "output_type": "execute_result"
    }
   ],
   "source": [
    "train.Junction.value_counts()"
   ]
  },
  {
   "cell_type": "code",
   "execution_count": 12,
   "metadata": {},
   "outputs": [],
   "source": [
    "for col in ['Junction']:\n",
    "    train = pd.get_dummies(train, columns=[col])\n",
    "    test = pd.get_dummies(test, columns=[col])"
   ]
  },
  {
   "cell_type": "markdown",
   "metadata": {},
   "source": [
    "##### If dummy variable trap, least Popular Junctions have to be removed"
   ]
  },
  {
   "cell_type": "code",
   "execution_count": 13,
   "metadata": {},
   "outputs": [],
   "source": [
    "#train.drop('Junction_4',axis=1,inplace=True)\n",
    "#test.drop('Junction_4',axis=1,inplace=True)"
   ]
  },
  {
   "cell_type": "markdown",
   "metadata": {},
   "source": [
    "##### log1p transformation? why?"
   ]
  },
  {
   "cell_type": "markdown",
   "metadata": {},
   "source": [
    "###### Answer referred Kaggle:     It is because of the evaluation metric. If you transform the unit sales with log1p then the evaluation metric is the same as rmse with weights, and you can use built-in objective (loss) functions from your favorite algorithm.\n",
    " - *log transform makes large sales look similar to small sales: a x % variation will cost the same, whatever the baseline is.*\n",
    " - *As Ceshine Lee wrote, log transform cannot be applied directly given there can be 0 unit sales. Log1p is one way to mitigate this, but it is not keeping the good property of variation cost being independent from baseline. I would have used something like log(1 + a x) where a is significantly larger than 1 to get best of both. That's what i used in the Web Traffic Forecasting competition, and it led to much better results than log1p. But here we have to use log1p to match the evaluation metrics anyway…*"
   ]
  },
  {
   "cell_type": "code",
   "execution_count": 14,
   "metadata": {},
   "outputs": [],
   "source": [
    "train['Vehicles']=np.log1p(train['Vehicles'])"
   ]
  },
  {
   "cell_type": "markdown",
   "metadata": {},
   "source": [
    "##### *time.mktime* This method returns a floating point number, for compatibility with time"
   ]
  },
  {
   "cell_type": "code",
   "execution_count": 15,
   "metadata": {},
   "outputs": [],
   "source": [
    "def datetounix(df):\n",
    "    # Initialising unixtime list\n",
    "    unixtime = []\n",
    "    \n",
    "    # Running a loop for converting Date to seconds\n",
    "    for date in df['DateTime']:\n",
    "        unixtime.append(time.mktime(date.timetuple()))\n",
    "    \n",
    "    # Replacing Date with unixtime list\n",
    "    df['DateTime'] = unixtime\n",
    "    return(df)\n",
    "train=datetounix(train)\n",
    "test=datetounix(test)"
   ]
  },
  {
   "cell_type": "markdown",
   "metadata": {},
   "source": [
    "#### Model Building"
   ]
  },
  {
   "cell_type": "code",
   "execution_count": 16,
   "metadata": {},
   "outputs": [],
   "source": [
    "X=train.drop(columns={ 'ID','Vehicles'},axis=1)\n",
    "y=train[['Vehicles']]\n",
    "test=test.drop(columns={'ID'},axis=1)"
   ]
  },
  {
   "cell_type": "code",
   "execution_count": 17,
   "metadata": {},
   "outputs": [],
   "source": [
    "from sklearn.model_selection import train_test_split\n",
    "train_features, test_features, train_labels, test_labels = train_test_split(X, y, test_size=0.2, shuffle=True)"
   ]
  },
  {
   "cell_type": "code",
   "execution_count": 19,
   "metadata": {},
   "outputs": [
    {
     "data": {
      "text/plain": [
       "XGBRegressor(base_score=0.5, booster='gbtree', colsample_bylevel=1,\n",
       "             colsample_bynode=1, colsample_bytree=0.8, eta=0.3, gamma=0,\n",
       "             importance_type='gain', learning_rate=0.1, max_delta_step=0,\n",
       "             max_depth=8, min_child_weight=300, missing=None, n_estimators=220,\n",
       "             n_jobs=1, nthread=None, objective='reg:squarederror',\n",
       "             random_state=0, reg_alpha=0, reg_lambda=1, scale_pos_weight=1,\n",
       "             seed=42, silent=None, subsample=0.8, verbosity=1)"
      ]
     },
     "execution_count": 19,
     "metadata": {},
     "output_type": "execute_result"
    }
   ],
   "source": [
    "model = XGBRegressor(\n",
    "    max_depth=8,\n",
    "    n_estimators=220,\n",
    "    min_child_weight=300, \n",
    "    colsample_bytree=0.8, \n",
    "    subsample=0.8, \n",
    "    eta=0.3,    \n",
    "    seed=42,\n",
    "    objective='reg:squarederror')\n",
    "model.fit(train_features,train_labels)"
   ]
  },
  {
   "cell_type": "code",
   "execution_count": 20,
   "metadata": {},
   "outputs": [],
   "source": [
    "pred=model.predict(test_features)"
   ]
  },
  {
   "cell_type": "code",
   "execution_count": 21,
   "metadata": {},
   "outputs": [
    {
     "data": {
      "text/plain": [
       "4.824658337286562"
      ]
     },
     "execution_count": 21,
     "metadata": {},
     "output_type": "execute_result"
    }
   ],
   "source": [
    "from sklearn.metrics import mean_squared_error\n",
    "from math import sqrt\n",
    "np.sqrt(mean_squared_error(np.expm1(test_labels), np.expm1(pred)))"
   ]
  },
  {
   "cell_type": "code",
   "execution_count": 22,
   "metadata": {},
   "outputs": [
    {
     "data": {
      "text/plain": [
       "<matplotlib.axes._subplots.AxesSubplot at 0x21fe35d8eb8>"
      ]
     },
     "execution_count": 22,
     "metadata": {},
     "output_type": "execute_result"
    },
    {
     "data": {
      "image/png": "[encoded data removed]",
      "text/plain": [
       "<Figure size 720x1008 with 1 Axes>"
      ]
     },
     "metadata": {
      "needs_background": "light"
     },
     "output_type": "display_data"
    }
   ],
   "source": [
    "import matplotlib.pyplot as plt\n",
    "%matplotlib inline\n",
    "plot_features(model, (10,14))"
   ]
  },
  {
   "cell_type": "code",
   "execution_count": 23,
   "metadata": {},
   "outputs": [
    {
     "data": {
      "text/plain": [
       "XGBRegressor(base_score=0.5, booster='gbtree', colsample_bylevel=1,\n",
       "             colsample_bynode=1, colsample_bytree=0.8, eta=0.3, gamma=0,\n",
       "             importance_type='gain', learning_rate=0.1, max_delta_step=0,\n",
       "             max_depth=8, min_child_weight=300, missing=None, n_estimators=220,\n",
       "             n_jobs=1, nthread=None, objective='reg:squarederror',\n",
       "             random_state=0, reg_alpha=0, reg_lambda=1, scale_pos_weight=1,\n",
       "             seed=42, silent=None, subsample=0.8, verbosity=1)"
      ]
     },
     "execution_count": 23,
     "metadata": {},
     "output_type": "execute_result"
    }
   ],
   "source": [
    "model.fit(X,y)"
   ]
  },
  {
   "cell_type": "code",
   "execution_count": 24,
   "metadata": {},
   "outputs": [],
   "source": [
    "pred=model.predict(test)\n",
    "sub['Vehicles']=np.expm1(pred)\n",
    "sub.to_csv('xgb_final.csv',index=False)"
   ]
  },
  {
   "cell_type": "markdown",
   "metadata": {},
   "source": [
    "##### https://github.com/AnilBetta/AV_JantaHack-IOT-Timeseries-/blob/master/XGBOOST.ipynb"
   ]
  },
  {
   "cell_type": "code",
   "execution_count": null,
   "metadata": {},
   "outputs": [],
   "source": []
  }
 ],
 "metadata": {
  "kernelspec": {
   "display_name": "Python 3",
   "language": "python",
   "name": "python3"
  },
  "language_info": {
   "codemirror_mode": {
    "name": "ipython",
    "version": 3
   },
   "file_extension": ".py",
   "mimetype": "text/x-python",
   "name": "python",
   "nbconvert_exporter": "python",
   "pygments_lexer": "ipython3",
   "version": "3.7.1"
  }
 },
 "nbformat": 4,
 "nbformat_minor": 2
}
