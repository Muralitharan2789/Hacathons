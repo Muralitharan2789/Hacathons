{
  "nbformat": 4,
  "nbformat_minor": 0,
  "metadata": {
    "kernelspec": {
      "language": "python",
      "display_name": "Python 3",
      "name": "python3"
    },
    "language_info": {
      "pygments_lexer": "ipython3",
      "nbconvert_exporter": "python",
      "version": "3.6.4",
      "file_extension": ".py",
      "codemirror_mode": {
        "name": "ipython",
        "version": 3
      },
      "name": "python",
      "mimetype": "text/x-python"
    },
    "colab": {
      "name": "ML_Banking_AV.ipynb",
      "provenance": [],
      "collapsed_sections": [],
      "toc_visible": true
    },
    "accelerator": "GPU"
  },
  "cells": [
    {
      "cell_type": "markdown",
      "metadata": {
        "id": "juD7RB8nIJLH",
        "colab_type": "text"
      },
      "source": [
        "### Importing Dataset and Libraries"
      ]
    },
    {
      "cell_type": "code",
      "metadata": {
        "trusted": true,
        "id": "50snpcYPIJLe",
        "colab_type": "code",
        "colab": {
          "base_uri": "https://localhost:8080/",
          "height": 51
        },
        "outputId": "14c8e13d-868f-4644-fb4d-29b45b5a7a42"
      },
      "source": [
        "import numpy as np # linear algebra\n",
        "import pandas as pd # data processing, CSV file I/O (e.g. pd.read_csv)\n",
        "pd.set_option('display.max_rows', 500)\n",
        "pd.set_option('display.max_columns', 500)\n",
        "pd.set_option('display.width', 1000)\n",
        "from matplotlib import pyplot as plt\n",
        "import seaborn as sns\n",
        "import sklearn\n",
        "from sklearn.preprocessing import LabelEncoder, OneHotEncoder\n",
        "from sklearn.model_selection import StratifiedKFold,train_test_split,KFold\n",
        "import re\n",
        "from sklearn.metrics import accuracy_score,f1_score"
      ],
      "execution_count": 1,
      "outputs": [
        {
          "output_type": "stream",
          "text": [
            "/usr/local/lib/python3.6/dist-packages/statsmodels/tools/_testing.py:19: FutureWarning: pandas.util.testing is deprecated. Use the functions in the public API at pandas.testing instead.\n",
            "  import pandas.util.testing as tm\n"
          ],
          "name": "stderr"
        }
      ]
    },
    {
      "cell_type": "code",
      "metadata": {
        "id": "dl35zUTbWfYF",
        "colab_type": "code",
        "colab": {
          "base_uri": "https://localhost:8080/",
          "height": 255
        },
        "outputId": "4c1ed4f4-38db-4554-91b6-d65576375d88"
      },
      "source": [
        "!pip install catboost\n",
        "from catboost import CatBoostClassifier"
      ],
      "execution_count": 2,
      "outputs": [
        {
          "output_type": "stream",
          "text": [
            "Requirement already satisfied: catboost in /usr/local/lib/python3.6/dist-packages (0.23.2)\n",
            "Requirement already satisfied: pandas>=0.24.0 in /usr/local/lib/python3.6/dist-packages (from catboost) (1.0.3)\n",
            "Requirement already satisfied: numpy>=1.16.0 in /usr/local/lib/python3.6/dist-packages (from catboost) (1.18.4)\n",
            "Requirement already satisfied: scipy in /usr/local/lib/python3.6/dist-packages (from catboost) (1.4.1)\n",
            "Requirement already satisfied: six in /usr/local/lib/python3.6/dist-packages (from catboost) (1.12.0)\n",
            "Requirement already satisfied: matplotlib in /usr/local/lib/python3.6/dist-packages (from catboost) (3.2.1)\n",
            "Requirement already satisfied: plotly in /usr/local/lib/python3.6/dist-packages (from catboost) (4.4.1)\n",
            "Requirement already satisfied: graphviz in /usr/local/lib/python3.6/dist-packages (from catboost) (0.10.1)\n",
            "Requirement already satisfied: pytz>=2017.2 in /usr/local/lib/python3.6/dist-packages (from pandas>=0.24.0->catboost) (2018.9)\n",
            "Requirement already satisfied: python-dateutil>=2.6.1 in /usr/local/lib/python3.6/dist-packages (from pandas>=0.24.0->catboost) (2.8.1)\n",
            "Requirement already satisfied: pyparsing!=2.0.4,!=2.1.2,!=2.1.6,>=2.0.1 in /usr/local/lib/python3.6/dist-packages (from matplotlib->catboost) (2.4.7)\n",
            "Requirement already satisfied: cycler>=0.10 in /usr/local/lib/python3.6/dist-packages (from matplotlib->catboost) (0.10.0)\n",
            "Requirement already satisfied: kiwisolver>=1.0.1 in /usr/local/lib/python3.6/dist-packages (from matplotlib->catboost) (1.2.0)\n",
            "Requirement already satisfied: retrying>=1.3.3 in /usr/local/lib/python3.6/dist-packages (from plotly->catboost) (1.3.3)\n"
          ],
          "name": "stdout"
        }
      ]
    },
    {
      "cell_type": "code",
      "metadata": {
        "_uuid": "d629ff2d2480ee46fbb7e2d37f6b5fab8052498a",
        "_cell_guid": "79c7e3d0-c299-4dcb-8224-4455121ee9b0",
        "trusted": true,
        "id": "SzdNfhulIJLi",
        "colab_type": "code",
        "colab": {}
      },
      "source": [
        "url='https://raw.githubusercontent.com/Muralitharan2789/Hacathons/master/Machine%20Learning%20for%20Banking_AV/Datassets/'\n",
        "train_df = pd.read_csv(url+'train_fNxu4vz.csv')\n",
        "test_df = pd.read_csv(url+'test_fjtUOL8.csv')\n",
        "submission = pd.read_csv(url+'sample_submission_HSqiq1Q.csv')"
      ],
      "execution_count": 0,
      "outputs": []
    },
    {
      "cell_type": "markdown",
      "metadata": {
        "id": "qLFq7C4XIJLm",
        "colab_type": "text"
      },
      "source": [
        "### Knowing about Data"
      ]
    },
    {
      "cell_type": "code",
      "metadata": {
        "trusted": true,
        "id": "XxJfSZK9IJLo",
        "colab_type": "code",
        "colab": {
          "base_uri": "https://localhost:8080/",
          "height": 196
        },
        "outputId": "62a3292d-c80d-4f51-c77b-a28a8d335310"
      },
      "source": [
        "train_df.head(3)"
      ],
      "execution_count": 4,
      "outputs": [
        {
          "output_type": "execute_result",
          "data": {
            "text/html": [
              "<div>\n",
              "<style scoped>\n",
              "    .dataframe tbody tr th:only-of-type {\n",
              "        vertical-align: middle;\n",
              "    }\n",
              "\n",
              "    .dataframe tbody tr th {\n",
              "        vertical-align: top;\n",
              "    }\n",
              "\n",
              "    .dataframe thead th {\n",
              "        text-align: right;\n",
              "    }\n",
              "</style>\n",
              "<table border=\"1\" class=\"dataframe\">\n",
              "  <thead>\n",
              "    <tr style=\"text-align: right;\">\n",
              "      <th></th>\n",
              "      <th>Loan_ID</th>\n",
              "      <th>Loan_Amount_Requested</th>\n",
              "      <th>Length_Employed</th>\n",
              "      <th>Home_Owner</th>\n",
              "      <th>Annual_Income</th>\n",
              "      <th>Income_Verified</th>\n",
              "      <th>Purpose_Of_Loan</th>\n",
              "      <th>Debt_To_Income</th>\n",
              "      <th>Inquiries_Last_6Mo</th>\n",
              "      <th>Months_Since_Deliquency</th>\n",
              "      <th>Number_Open_Accounts</th>\n",
              "      <th>Total_Accounts</th>\n",
              "      <th>Gender</th>\n",
              "      <th>Interest_Rate</th>\n",
              "    </tr>\n",
              "  </thead>\n",
              "  <tbody>\n",
              "    <tr>\n",
              "      <th>0</th>\n",
              "      <td>10000001</td>\n",
              "      <td>7,000</td>\n",
              "      <td>&lt; 1 year</td>\n",
              "      <td>Rent</td>\n",
              "      <td>68000.0</td>\n",
              "      <td>not verified</td>\n",
              "      <td>car</td>\n",
              "      <td>18.37</td>\n",
              "      <td>0</td>\n",
              "      <td>NaN</td>\n",
              "      <td>9</td>\n",
              "      <td>14</td>\n",
              "      <td>Female</td>\n",
              "      <td>1</td>\n",
              "    </tr>\n",
              "    <tr>\n",
              "      <th>1</th>\n",
              "      <td>10000002</td>\n",
              "      <td>30,000</td>\n",
              "      <td>4 years</td>\n",
              "      <td>Mortgage</td>\n",
              "      <td>NaN</td>\n",
              "      <td>VERIFIED - income</td>\n",
              "      <td>debt_consolidation</td>\n",
              "      <td>14.93</td>\n",
              "      <td>0</td>\n",
              "      <td>17.0</td>\n",
              "      <td>12</td>\n",
              "      <td>24</td>\n",
              "      <td>Female</td>\n",
              "      <td>3</td>\n",
              "    </tr>\n",
              "    <tr>\n",
              "      <th>2</th>\n",
              "      <td>10000003</td>\n",
              "      <td>24,725</td>\n",
              "      <td>7 years</td>\n",
              "      <td>Mortgage</td>\n",
              "      <td>75566.4</td>\n",
              "      <td>VERIFIED - income source</td>\n",
              "      <td>debt_consolidation</td>\n",
              "      <td>15.88</td>\n",
              "      <td>0</td>\n",
              "      <td>NaN</td>\n",
              "      <td>12</td>\n",
              "      <td>16</td>\n",
              "      <td>Male</td>\n",
              "      <td>3</td>\n",
              "    </tr>\n",
              "  </tbody>\n",
              "</table>\n",
              "</div>"
            ],
            "text/plain": [
              "    Loan_ID Loan_Amount_Requested Length_Employed Home_Owner  Annual_Income           Income_Verified     Purpose_Of_Loan  Debt_To_Income  Inquiries_Last_6Mo  Months_Since_Deliquency  Number_Open_Accounts  Total_Accounts  Gender  Interest_Rate\n",
              "0  10000001                 7,000        < 1 year       Rent        68000.0              not verified                 car           18.37                   0                      NaN                     9              14  Female              1\n",
              "1  10000002                30,000         4 years   Mortgage            NaN         VERIFIED - income  debt_consolidation           14.93                   0                     17.0                    12              24  Female              3\n",
              "2  10000003                24,725         7 years   Mortgage        75566.4  VERIFIED - income source  debt_consolidation           15.88                   0                      NaN                    12              16    Male              3"
            ]
          },
          "metadata": {
            "tags": []
          },
          "execution_count": 4
        }
      ]
    },
    {
      "cell_type": "code",
      "metadata": {
        "trusted": true,
        "id": "sLwDCsS2IJLu",
        "colab_type": "code",
        "colab": {
          "base_uri": "https://localhost:8080/",
          "height": 196
        },
        "outputId": "ce97d5b7-dd8a-4c01-b266-827d1645cd84"
      },
      "source": [
        "test_df.head(3)"
      ],
      "execution_count": 5,
      "outputs": [
        {
          "output_type": "execute_result",
          "data": {
            "text/html": [
              "<div>\n",
              "<style scoped>\n",
              "    .dataframe tbody tr th:only-of-type {\n",
              "        vertical-align: middle;\n",
              "    }\n",
              "\n",
              "    .dataframe tbody tr th {\n",
              "        vertical-align: top;\n",
              "    }\n",
              "\n",
              "    .dataframe thead th {\n",
              "        text-align: right;\n",
              "    }\n",
              "</style>\n",
              "<table border=\"1\" class=\"dataframe\">\n",
              "  <thead>\n",
              "    <tr style=\"text-align: right;\">\n",
              "      <th></th>\n",
              "      <th>Loan_ID</th>\n",
              "      <th>Loan_Amount_Requested</th>\n",
              "      <th>Length_Employed</th>\n",
              "      <th>Home_Owner</th>\n",
              "      <th>Annual_Income</th>\n",
              "      <th>Income_Verified</th>\n",
              "      <th>Purpose_Of_Loan</th>\n",
              "      <th>Debt_To_Income</th>\n",
              "      <th>Inquiries_Last_6Mo</th>\n",
              "      <th>Months_Since_Deliquency</th>\n",
              "      <th>Number_Open_Accounts</th>\n",
              "      <th>Total_Accounts</th>\n",
              "      <th>Gender</th>\n",
              "    </tr>\n",
              "  </thead>\n",
              "  <tbody>\n",
              "    <tr>\n",
              "      <th>0</th>\n",
              "      <td>10164310</td>\n",
              "      <td>27,500</td>\n",
              "      <td>10+ years</td>\n",
              "      <td>Mortgage</td>\n",
              "      <td>129000.0</td>\n",
              "      <td>VERIFIED - income</td>\n",
              "      <td>debt_consolidation</td>\n",
              "      <td>12.87</td>\n",
              "      <td>0</td>\n",
              "      <td>68.0</td>\n",
              "      <td>10</td>\n",
              "      <td>37</td>\n",
              "      <td>Male</td>\n",
              "    </tr>\n",
              "    <tr>\n",
              "      <th>1</th>\n",
              "      <td>10164311</td>\n",
              "      <td>26,000</td>\n",
              "      <td>10+ years</td>\n",
              "      <td>NaN</td>\n",
              "      <td>110000.0</td>\n",
              "      <td>not verified</td>\n",
              "      <td>credit_card</td>\n",
              "      <td>11.37</td>\n",
              "      <td>0</td>\n",
              "      <td>NaN</td>\n",
              "      <td>6</td>\n",
              "      <td>23</td>\n",
              "      <td>Male</td>\n",
              "    </tr>\n",
              "    <tr>\n",
              "      <th>2</th>\n",
              "      <td>10164312</td>\n",
              "      <td>6,075</td>\n",
              "      <td>&lt; 1 year</td>\n",
              "      <td>Rent</td>\n",
              "      <td>75000.0</td>\n",
              "      <td>VERIFIED - income</td>\n",
              "      <td>debt_consolidation</td>\n",
              "      <td>6.83</td>\n",
              "      <td>2</td>\n",
              "      <td>NaN</td>\n",
              "      <td>5</td>\n",
              "      <td>20</td>\n",
              "      <td>Male</td>\n",
              "    </tr>\n",
              "  </tbody>\n",
              "</table>\n",
              "</div>"
            ],
            "text/plain": [
              "    Loan_ID Loan_Amount_Requested Length_Employed Home_Owner  Annual_Income    Income_Verified     Purpose_Of_Loan  Debt_To_Income  Inquiries_Last_6Mo  Months_Since_Deliquency  Number_Open_Accounts  Total_Accounts Gender\n",
              "0  10164310                27,500       10+ years   Mortgage       129000.0  VERIFIED - income  debt_consolidation           12.87                   0                     68.0                    10              37   Male\n",
              "1  10164311                26,000       10+ years        NaN       110000.0       not verified         credit_card           11.37                   0                      NaN                     6              23   Male\n",
              "2  10164312                 6,075        < 1 year       Rent        75000.0  VERIFIED - income  debt_consolidation            6.83                   2                      NaN                     5              20   Male"
            ]
          },
          "metadata": {
            "tags": []
          },
          "execution_count": 5
        }
      ]
    },
    {
      "cell_type": "markdown",
      "metadata": {
        "id": "ayXdbk0oIJLz",
        "colab_type": "text"
      },
      "source": [
        "#### Missing Values and Data types"
      ]
    },
    {
      "cell_type": "code",
      "metadata": {
        "trusted": true,
        "id": "lLEvMHwAIJL0",
        "colab_type": "code",
        "colab": {
          "base_uri": "https://localhost:8080/",
          "height": 483
        },
        "outputId": "491d9867-51b3-4eba-96b5-dfd0b8a34847"
      },
      "source": [
        "d1=train_df.isnull().sum().to_frame().rename(columns={0: \"Train_Null_Values\"})\n",
        "d2=test_df.isnull().sum().to_frame().rename(columns={0: \"Test_Null_Values\"})\n",
        "d3=train_df.dtypes.to_frame().rename(columns={0: \"Data_Type\"})\n",
        "pd.concat([d1, d2,d3], axis=1)"
      ],
      "execution_count": 6,
      "outputs": [
        {
          "output_type": "execute_result",
          "data": {
            "text/html": [
              "<div>\n",
              "<style scoped>\n",
              "    .dataframe tbody tr th:only-of-type {\n",
              "        vertical-align: middle;\n",
              "    }\n",
              "\n",
              "    .dataframe tbody tr th {\n",
              "        vertical-align: top;\n",
              "    }\n",
              "\n",
              "    .dataframe thead th {\n",
              "        text-align: right;\n",
              "    }\n",
              "</style>\n",
              "<table border=\"1\" class=\"dataframe\">\n",
              "  <thead>\n",
              "    <tr style=\"text-align: right;\">\n",
              "      <th></th>\n",
              "      <th>Train_Null_Values</th>\n",
              "      <th>Test_Null_Values</th>\n",
              "      <th>Data_Type</th>\n",
              "    </tr>\n",
              "  </thead>\n",
              "  <tbody>\n",
              "    <tr>\n",
              "      <th>Loan_ID</th>\n",
              "      <td>0</td>\n",
              "      <td>0.0</td>\n",
              "      <td>int64</td>\n",
              "    </tr>\n",
              "    <tr>\n",
              "      <th>Loan_Amount_Requested</th>\n",
              "      <td>0</td>\n",
              "      <td>0.0</td>\n",
              "      <td>object</td>\n",
              "    </tr>\n",
              "    <tr>\n",
              "      <th>Length_Employed</th>\n",
              "      <td>7371</td>\n",
              "      <td>4936.0</td>\n",
              "      <td>object</td>\n",
              "    </tr>\n",
              "    <tr>\n",
              "      <th>Home_Owner</th>\n",
              "      <td>25349</td>\n",
              "      <td>16711.0</td>\n",
              "      <td>object</td>\n",
              "    </tr>\n",
              "    <tr>\n",
              "      <th>Annual_Income</th>\n",
              "      <td>25102</td>\n",
              "      <td>16898.0</td>\n",
              "      <td>float64</td>\n",
              "    </tr>\n",
              "    <tr>\n",
              "      <th>Income_Verified</th>\n",
              "      <td>0</td>\n",
              "      <td>0.0</td>\n",
              "      <td>object</td>\n",
              "    </tr>\n",
              "    <tr>\n",
              "      <th>Purpose_Of_Loan</th>\n",
              "      <td>0</td>\n",
              "      <td>0.0</td>\n",
              "      <td>object</td>\n",
              "    </tr>\n",
              "    <tr>\n",
              "      <th>Debt_To_Income</th>\n",
              "      <td>0</td>\n",
              "      <td>0.0</td>\n",
              "      <td>float64</td>\n",
              "    </tr>\n",
              "    <tr>\n",
              "      <th>Inquiries_Last_6Mo</th>\n",
              "      <td>0</td>\n",
              "      <td>0.0</td>\n",
              "      <td>int64</td>\n",
              "    </tr>\n",
              "    <tr>\n",
              "      <th>Months_Since_Deliquency</th>\n",
              "      <td>88379</td>\n",
              "      <td>58859.0</td>\n",
              "      <td>float64</td>\n",
              "    </tr>\n",
              "    <tr>\n",
              "      <th>Number_Open_Accounts</th>\n",
              "      <td>0</td>\n",
              "      <td>0.0</td>\n",
              "      <td>int64</td>\n",
              "    </tr>\n",
              "    <tr>\n",
              "      <th>Total_Accounts</th>\n",
              "      <td>0</td>\n",
              "      <td>0.0</td>\n",
              "      <td>int64</td>\n",
              "    </tr>\n",
              "    <tr>\n",
              "      <th>Gender</th>\n",
              "      <td>0</td>\n",
              "      <td>0.0</td>\n",
              "      <td>object</td>\n",
              "    </tr>\n",
              "    <tr>\n",
              "      <th>Interest_Rate</th>\n",
              "      <td>0</td>\n",
              "      <td>NaN</td>\n",
              "      <td>int64</td>\n",
              "    </tr>\n",
              "  </tbody>\n",
              "</table>\n",
              "</div>"
            ],
            "text/plain": [
              "                         Train_Null_Values  Test_Null_Values Data_Type\n",
              "Loan_ID                                  0               0.0     int64\n",
              "Loan_Amount_Requested                    0               0.0    object\n",
              "Length_Employed                       7371            4936.0    object\n",
              "Home_Owner                           25349           16711.0    object\n",
              "Annual_Income                        25102           16898.0   float64\n",
              "Income_Verified                          0               0.0    object\n",
              "Purpose_Of_Loan                          0               0.0    object\n",
              "Debt_To_Income                           0               0.0   float64\n",
              "Inquiries_Last_6Mo                       0               0.0     int64\n",
              "Months_Since_Deliquency              88379           58859.0   float64\n",
              "Number_Open_Accounts                     0               0.0     int64\n",
              "Total_Accounts                           0               0.0     int64\n",
              "Gender                                   0               0.0    object\n",
              "Interest_Rate                            0               NaN     int64"
            ]
          },
          "metadata": {
            "tags": []
          },
          "execution_count": 6
        }
      ]
    },
    {
      "cell_type": "markdown",
      "metadata": {
        "id": "MPcR6-spIJL7",
        "colab_type": "text"
      },
      "source": [
        "## EDA"
      ]
    },
    {
      "cell_type": "markdown",
      "metadata": {
        "id": "wVVM0f3CIJL9",
        "colab_type": "text"
      },
      "source": [
        "### Target Exploration"
      ]
    },
    {
      "cell_type": "code",
      "metadata": {
        "trusted": true,
        "id": "4Yh224oxIJMA",
        "colab_type": "code",
        "colab": {
          "base_uri": "https://localhost:8080/",
          "height": 85
        },
        "outputId": "1d12b093-20c7-4682-f780-26177bb01c95"
      },
      "source": [
        "train_df['Interest_Rate'].value_counts(normalize=True)"
      ],
      "execution_count": 7,
      "outputs": [
        {
          "output_type": "execute_result",
          "data": {
            "text/plain": [
              "2    0.429557\n",
              "3    0.364697\n",
              "1    0.205746\n",
              "Name: Interest_Rate, dtype: float64"
            ]
          },
          "metadata": {
            "tags": []
          },
          "execution_count": 7
        }
      ]
    },
    {
      "cell_type": "code",
      "metadata": {
        "trusted": true,
        "id": "L8mXxqE1IJME",
        "colab_type": "code",
        "colab": {
          "base_uri": "https://localhost:8080/",
          "height": 297
        },
        "outputId": "816decf8-c627-4702-c958-10bcc1e878b5"
      },
      "source": [
        "sns.countplot(train_df[\"Interest_Rate\"])"
      ],
      "execution_count": 8,
      "outputs": [
        {
          "output_type": "execute_result",
          "data": {
            "text/plain": [
              "<matplotlib.axes._subplots.AxesSubplot at 0x7f291f22b1d0>"
            ]
          },
          "metadata": {
            "tags": []
          },
          "execution_count": 8
        },
        {
          "output_type": "display_data",
          "data": {
            "image/png": "[encoded data removed]",
            "text/plain": [
              "<Figure size 432x288 with 1 Axes>"
            ]
          },
          "metadata": {
            "tags": [],
            "needs_background": "light"
          }
        }
      ]
    },
    {
      "cell_type": "markdown",
      "metadata": {
        "id": "iw4zDKVvIJMI",
        "colab_type": "text"
      },
      "source": [
        "### Univariate Analysis & Missing Value_Treatment"
      ]
    },
    {
      "cell_type": "code",
      "metadata": {
        "trusted": true,
        "id": "MORIHhkjIJMO",
        "colab_type": "code",
        "colab": {}
      },
      "source": [
        "train=train_df.append(test_df,sort=False)"
      ],
      "execution_count": 0,
      "outputs": []
    },
    {
      "cell_type": "code",
      "metadata": {
        "trusted": true,
        "id": "b3mdvXYnIJMS",
        "colab_type": "code",
        "colab": {
          "base_uri": "https://localhost:8080/",
          "height": 54
        },
        "outputId": "e4d295ae-c82d-423f-b127-3553638e8344"
      },
      "source": [
        "train.columns"
      ],
      "execution_count": 10,
      "outputs": [
        {
          "output_type": "execute_result",
          "data": {
            "text/plain": [
              "Index(['Loan_ID', 'Loan_Amount_Requested', 'Length_Employed', 'Home_Owner', 'Annual_Income', 'Income_Verified', 'Purpose_Of_Loan', 'Debt_To_Income', 'Inquiries_Last_6Mo', 'Months_Since_Deliquency', 'Number_Open_Accounts', 'Total_Accounts', 'Gender', 'Interest_Rate'], dtype='object')"
            ]
          },
          "metadata": {
            "tags": []
          },
          "execution_count": 10
        }
      ]
    },
    {
      "cell_type": "code",
      "metadata": {
        "trusted": true,
        "id": "LJmoNmh7IJMY",
        "colab_type": "code",
        "colab": {
          "base_uri": "https://localhost:8080/",
          "height": 406
        },
        "outputId": "037e7134-df77-44f3-93d2-95635b749b27"
      },
      "source": [
        "plt.figure(figsize=(24, 6))\n",
        "plt.subplot(131)\n",
        "sns.countplot(train['Home_Owner'],order = train['Home_Owner'].value_counts(dropna=False).index)\n",
        "plt.subplot(132)\n",
        "sns.countplot(train['Income_Verified'],order = train['Income_Verified'].value_counts(dropna=False).index)\n",
        "plt.subplot(133)\n",
        "sns.countplot(train['Gender'],order = train['Gender'].value_counts(dropna=False).index)"
      ],
      "execution_count": 11,
      "outputs": [
        {
          "output_type": "execute_result",
          "data": {
            "text/plain": [
              "<matplotlib.axes._subplots.AxesSubplot at 0x7f291ecdff28>"
            ]
          },
          "metadata": {
            "tags": []
          },
          "execution_count": 11
        },
        {
          "output_type": "display_data",
          "data": {
            "image/png": "[encoded data removed]",
            "text/plain": [
              "<Figure size 1728x432 with 3 Axes>"
            ]
          },
          "metadata": {
            "tags": [],
            "needs_background": "light"
          }
        }
      ]
    },
    {
      "cell_type": "code",
      "metadata": {
        "trusted": true,
        "id": "YDOo3v7XIJMg",
        "colab_type": "code",
        "colab": {
          "base_uri": "https://localhost:8080/",
          "height": 136
        },
        "outputId": "523e0c8f-7c2c-4f00-ffbb-d27333dda6ae"
      },
      "source": [
        "train['Home_Owner'].value_counts(dropna=False,normalize=True)"
      ],
      "execution_count": 12,
      "outputs": [
        {
          "output_type": "execute_result",
          "data": {
            "text/plain": [
              "Mortgage    0.428227\n",
              "Rent        0.341581\n",
              "NaN         0.153588\n",
              "Own         0.076242\n",
              "Other       0.000288\n",
              "None        0.000073\n",
              "Name: Home_Owner, dtype: float64"
            ]
          },
          "metadata": {
            "tags": []
          },
          "execution_count": 12
        }
      ]
    },
    {
      "cell_type": "markdown",
      "metadata": {
        "id": "H24G1sV5IJMk",
        "colab_type": "text"
      },
      "source": [
        "Home Owner Variable contains 15% of data,Which more than other category, so it is handles as seperate Variable"
      ]
    },
    {
      "cell_type": "code",
      "metadata": {
        "trusted": true,
        "id": "2HmW6xy0IJMl",
        "colab_type": "code",
        "colab": {}
      },
      "source": [
        "train.Home_Owner.fillna('Unknown',inplace=True)"
      ],
      "execution_count": 0,
      "outputs": []
    },
    {
      "cell_type": "code",
      "metadata": {
        "trusted": true,
        "id": "RjuiMYDdIJMp",
        "colab_type": "code",
        "colab": {
          "base_uri": "https://localhost:8080/",
          "height": 407
        },
        "outputId": "28cc0c2d-9516-4c86-be9f-598a7545bca5"
      },
      "source": [
        "plt.figure(figsize=(24, 6))\n",
        "sns.countplot(train['Purpose_Of_Loan'],order = train['Purpose_Of_Loan'].value_counts(dropna=False).index)"
      ],
      "execution_count": 14,
      "outputs": [
        {
          "output_type": "execute_result",
          "data": {
            "text/plain": [
              "<matplotlib.axes._subplots.AxesSubplot at 0x7f291f1e2518>"
            ]
          },
          "metadata": {
            "tags": []
          },
          "execution_count": 14
        },
        {
          "output_type": "display_data",
          "data": {
            "image/png": "[encoded data removed]",
            "text/plain": [
              "<Figure size 1728x432 with 1 Axes>"
            ]
          },
          "metadata": {
            "tags": [],
            "needs_background": "light"
          }
        }
      ]
    },
    {
      "cell_type": "code",
      "metadata": {
        "trusted": true,
        "id": "WcFQs2gTIJMx",
        "colab_type": "code",
        "colab": {
          "base_uri": "https://localhost:8080/",
          "height": 1000
        },
        "outputId": "445a0ad7-9ccb-44f7-8a48-3895c1de0eff"
      },
      "source": [
        "train['Months_Since_Deliquency'].value_counts(dropna=False,normalize=True)"
      ],
      "execution_count": 15,
      "outputs": [
        {
          "output_type": "execute_result",
          "data": {
            "text/plain": [
              "NaN      0.537659\n",
              "9.0      0.009439\n",
              "8.0      0.009184\n",
              "13.0     0.009114\n",
              "12.0     0.009030\n",
              "10.0     0.008994\n",
              "14.0     0.008899\n",
              "6.0      0.008684\n",
              "15.0     0.008651\n",
              "7.0      0.008651\n",
              "18.0     0.008516\n",
              "19.0     0.008286\n",
              "11.0     0.008242\n",
              "17.0     0.008187\n",
              "16.0     0.008154\n",
              "20.0     0.008023\n",
              "21.0     0.007665\n",
              "27.0     0.007548\n",
              "23.0     0.007413\n",
              "22.0     0.007354\n",
              "26.0     0.007318\n",
              "25.0     0.007216\n",
              "28.0     0.007124\n",
              "24.0     0.007102\n",
              "29.0     0.006894\n",
              "33.0     0.006880\n",
              "31.0     0.006865\n",
              "5.0      0.006796\n",
              "30.0     0.006777\n",
              "35.0     0.006639\n",
              "34.0     0.006613\n",
              "36.0     0.006609\n",
              "38.0     0.006544\n",
              "32.0     0.006500\n",
              "42.0     0.006357\n",
              "37.0     0.006321\n",
              "39.0     0.006233\n",
              "45.0     0.006171\n",
              "40.0     0.006146\n",
              "41.0     0.006032\n",
              "44.0     0.006018\n",
              "43.0     0.005989\n",
              "48.0     0.005919\n",
              "46.0     0.005890\n",
              "47.0     0.005828\n",
              "4.0      0.005817\n",
              "49.0     0.004926\n",
              "3.0      0.004477\n",
              "50.0     0.004177\n",
              "51.0     0.004148\n",
              "54.0     0.004119\n",
              "53.0     0.004079\n",
              "55.0     0.004072\n",
              "52.0     0.004020\n",
              "57.0     0.004017\n",
              "56.0     0.004006\n",
              "58.0     0.003860\n",
              "2.0      0.003860\n",
              "59.0     0.003831\n",
              "61.0     0.003732\n",
              "60.0     0.003725\n",
              "68.0     0.003695\n",
              "67.0     0.003674\n",
              "63.0     0.003663\n",
              "65.0     0.003622\n",
              "66.0     0.003604\n",
              "62.0     0.003495\n",
              "71.0     0.003429\n",
              "64.0     0.003370\n",
              "70.0     0.003367\n",
              "69.0     0.003352\n",
              "72.0     0.003312\n",
              "75.0     0.003308\n",
              "73.0     0.003268\n",
              "76.0     0.003228\n",
              "1.0      0.003155\n",
              "74.0     0.003049\n",
              "77.0     0.003042\n",
              "79.0     0.002940\n",
              "78.0     0.002826\n",
              "80.0     0.002808\n",
              "81.0     0.002640\n",
              "0.0      0.001983\n",
              "82.0     0.001161\n",
              "83.0     0.000150\n",
              "84.0     0.000051\n",
              "96.0     0.000033\n",
              "86.0     0.000029\n",
              "91.0     0.000029\n",
              "88.0     0.000029\n",
              "85.0     0.000026\n",
              "90.0     0.000022\n",
              "87.0     0.000022\n",
              "92.0     0.000022\n",
              "95.0     0.000018\n",
              "101.0    0.000015\n",
              "97.0     0.000015\n",
              "106.0    0.000015\n",
              "135.0    0.000011\n",
              "93.0     0.000011\n",
              "94.0     0.000011\n",
              "99.0     0.000011\n",
              "130.0    0.000007\n",
              "102.0    0.000007\n",
              "89.0     0.000007\n",
              "110.0    0.000007\n",
              "122.0    0.000007\n",
              "131.0    0.000007\n",
              "114.0    0.000007\n",
              "103.0    0.000007\n",
              "105.0    0.000007\n",
              "116.0    0.000007\n",
              "119.0    0.000004\n",
              "121.0    0.000004\n",
              "124.0    0.000004\n",
              "133.0    0.000004\n",
              "129.0    0.000004\n",
              "180.0    0.000004\n",
              "115.0    0.000004\n",
              "109.0    0.000004\n",
              "170.0    0.000004\n",
              "111.0    0.000004\n",
              "148.0    0.000004\n",
              "107.0    0.000004\n",
              "139.0    0.000004\n",
              "141.0    0.000004\n",
              "140.0    0.000004\n",
              "143.0    0.000004\n",
              "98.0     0.000004\n",
              "126.0    0.000004\n",
              "118.0    0.000004\n",
              "149.0    0.000004\n",
              "127.0    0.000004\n",
              "Name: Months_Since_Deliquency, dtype: float64"
            ]
          },
          "metadata": {
            "tags": []
          },
          "execution_count": 15
        }
      ]
    },
    {
      "cell_type": "markdown",
      "metadata": {
        "id": "SLpDn9k6IJM5",
        "colab_type": "text"
      },
      "source": [
        "50% Data, is Missing in *Months_Since_Deliquency* Variable, ***Model Built with avoiding this variable gave poor accuracy than***, Substuting the variable with dummy number."
      ]
    },
    {
      "cell_type": "code",
      "metadata": {
        "trusted": true,
        "id": "3rrfNRNqIJM7",
        "colab_type": "code",
        "colab": {}
      },
      "source": [
        "train.Months_Since_Deliquency.fillna(9999,inplace=True)"
      ],
      "execution_count": 0,
      "outputs": []
    },
    {
      "cell_type": "code",
      "metadata": {
        "trusted": true,
        "id": "LebyFO9IIJND",
        "colab_type": "code",
        "colab": {
          "base_uri": "https://localhost:8080/",
          "height": 400
        },
        "outputId": "bf05544a-e0d4-46d6-f1c4-26b8e80522c0"
      },
      "source": [
        "plt.figure(figsize=(24, 6))\n",
        "plt.subplot(121)\n",
        "sns.distplot(train[\"Annual_Income\"])\n",
        "plt.subplot(122)\n",
        "sns.distplot(np.log1p(train[\"Annual_Income\"]))\n",
        "plt.show()"
      ],
      "execution_count": 17,
      "outputs": [
        {
          "output_type": "display_data",
          "data": {
            "image/png": "[encoded data removed]",
            "text/plain": [
              "<Figure size 1728x432 with 2 Axes>"
            ]
          },
          "metadata": {
            "tags": [],
            "needs_background": "light"
          }
        }
      ]
    },
    {
      "cell_type": "code",
      "metadata": {
        "trusted": true,
        "id": "DoByWCqMIJNH",
        "colab_type": "code",
        "colab": {}
      },
      "source": [
        "train['Annual_Income']=np.log1p(train[\"Annual_Income\"])\n",
        "train.Annual_Income.fillna(train.Annual_Income.median(),inplace=True)"
      ],
      "execution_count": 0,
      "outputs": []
    },
    {
      "cell_type": "code",
      "metadata": {
        "trusted": true,
        "id": "31PAuLBHIJNK",
        "colab_type": "code",
        "colab": {
          "base_uri": "https://localhost:8080/",
          "height": 389
        },
        "outputId": "9fa735e0-29c2-4b20-c68c-acaf37ffae92"
      },
      "source": [
        "plt.figure(figsize=(24, 6))\n",
        "plt.subplot(121)\n",
        "sns.distplot(train[\"Total_Accounts\"])\n",
        "plt.subplot(122)\n",
        "sns.distplot(np.log1p(train[\"Total_Accounts\"]))\n",
        "plt.show()"
      ],
      "execution_count": 19,
      "outputs": [
        {
          "output_type": "display_data",
          "data": {
            "image/png": "[encoded data removed]",
            "text/plain": [
              "<Figure size 1728x432 with 2 Axes>"
            ]
          },
          "metadata": {
            "tags": [],
            "needs_background": "light"
          }
        }
      ]
    },
    {
      "cell_type": "code",
      "metadata": {
        "trusted": true,
        "id": "g1hNV4qTIJNQ",
        "colab_type": "code",
        "colab": {}
      },
      "source": [
        "train['Total_Accounts']=np.log1p(train[\"Total_Accounts\"])"
      ],
      "execution_count": 0,
      "outputs": []
    },
    {
      "cell_type": "code",
      "metadata": {
        "trusted": true,
        "id": "-1BTQWfGIJNU",
        "colab_type": "code",
        "colab": {
          "base_uri": "https://localhost:8080/",
          "height": 238
        },
        "outputId": "79bec418-f514-469e-ba65-b12a65bcafc3"
      },
      "source": [
        "train.Length_Employed.value_counts(dropna=False,normalize=True)"
      ],
      "execution_count": 21,
      "outputs": [
        {
          "output_type": "execute_result",
          "data": {
            "text/plain": [
              "10+ years    0.322542\n",
              "2 years      0.089173\n",
              "3 years      0.078430\n",
              "< 1 year     0.077170\n",
              "5 years      0.065883\n",
              "1 year       0.063305\n",
              "4 years      0.059861\n",
              "7 years      0.056396\n",
              "6 years      0.056056\n",
              "8 years      0.047891\n",
              "NaN          0.044941\n",
              "9 years      0.038353\n",
              "Name: Length_Employed, dtype: float64"
            ]
          },
          "metadata": {
            "tags": []
          },
          "execution_count": 21
        }
      ]
    },
    {
      "cell_type": "markdown",
      "metadata": {
        "id": "CyY35NTvIJNY",
        "colab_type": "text"
      },
      "source": [
        "Length_Employed is equally Distributed Among, Working years, So I have added as Seperate Variable, I Didn't tried using Mode because it cotributes only 30%"
      ]
    },
    {
      "cell_type": "code",
      "metadata": {
        "trusted": true,
        "id": "sg_Q4d5PIJNc",
        "colab_type": "code",
        "colab": {}
      },
      "source": [
        "train.Length_Employed.fillna(99,inplace=True)\n",
        "train.Length_Employed.replace({'10+ years':'10 years','< 1 year': '0 year'},inplace= True)\n",
        "train.Length_Employed=train.Length_Employed.apply(lambda x: ''.join(re.findall('\\d+',str(x))))\n",
        "train.Length_Employed=train.Length_Employed.astype(int)"
      ],
      "execution_count": 0,
      "outputs": []
    },
    {
      "cell_type": "markdown",
      "metadata": {
        "id": "fOsMyKerIJNi",
        "colab_type": "text"
      },
      "source": [
        "Loan Amount Request contain ',', so it becames object type data, So it has to converted as Numerical Data"
      ]
    },
    {
      "cell_type": "code",
      "metadata": {
        "trusted": true,
        "id": "Qse9vsDOIJNj",
        "colab_type": "code",
        "colab": {}
      },
      "source": [
        "train.Loan_Amount_Requested=train.Loan_Amount_Requested.apply(lambda x: x.replace(',',''))\n",
        "train.Loan_Amount_Requested=train.Loan_Amount_Requested.astype(int)"
      ],
      "execution_count": 0,
      "outputs": []
    },
    {
      "cell_type": "code",
      "metadata": {
        "trusted": true,
        "id": "TD1AfT91IJNp",
        "colab_type": "code",
        "colab": {
          "base_uri": "https://localhost:8080/",
          "height": 389
        },
        "outputId": "2e1fcd78-7279-474d-d92d-b0232c487b49"
      },
      "source": [
        "plt.figure(figsize=(24, 6))\n",
        "plt.subplot(121)\n",
        "sns.distplot(train[\"Loan_Amount_Requested\"])\n",
        "plt.subplot(122)\n",
        "sns.distplot(np.log1p(train[\"Loan_Amount_Requested\"])) # It decreased Accuracy, so I not going to normalize\n",
        "plt.show()"
      ],
      "execution_count": 24,
      "outputs": [
        {
          "output_type": "display_data",
          "data": {
            "image/png": "[encoded data removed]",
            "text/plain": [
              "<Figure size 1728x432 with 2 Axes>"
            ]
          },
          "metadata": {
            "tags": [],
            "needs_background": "light"
          }
        }
      ]
    },
    {
      "cell_type": "code",
      "metadata": {
        "trusted": true,
        "id": "RpUQRojaIJNt",
        "colab_type": "code",
        "colab": {}
      },
      "source": [
        "#train['Loan_Amount_Requested']=np.log1p(train[\"Loan_Amount_Requested\"])"
      ],
      "execution_count": 0,
      "outputs": []
    },
    {
      "cell_type": "code",
      "metadata": {
        "trusted": true,
        "id": "zv62h97SIJNy",
        "colab_type": "code",
        "colab": {
          "base_uri": "https://localhost:8080/",
          "height": 34
        },
        "outputId": "93b1f0fc-9b86-4b22-e54c-410630ffa8ea"
      },
      "source": [
        "train_df.shape,test_df.shape"
      ],
      "execution_count": 26,
      "outputs": [
        {
          "output_type": "execute_result",
          "data": {
            "text/plain": [
              "((164309, 14), (109541, 13))"
            ]
          },
          "metadata": {
            "tags": []
          },
          "execution_count": 26
        }
      ]
    },
    {
      "cell_type": "code",
      "metadata": {
        "trusted": true,
        "id": "WX20bX-VIJN2",
        "colab_type": "code",
        "colab": {}
      },
      "source": [
        "train_df=train[:164309]\n",
        "test_df=train[164309:]"
      ],
      "execution_count": 0,
      "outputs": []
    },
    {
      "cell_type": "markdown",
      "metadata": {
        "id": "-YGw2b8HIJN5",
        "colab_type": "text"
      },
      "source": [
        "# Model Building"
      ]
    },
    {
      "cell_type": "code",
      "metadata": {
        "trusted": true,
        "id": "hjAHMAwxIJN6",
        "colab_type": "code",
        "colab": {}
      },
      "source": [
        "# Set up folds\n",
        "K = 5\n",
        "skf = StratifiedKFold(n_splits = K, random_state = 7, shuffle = True)"
      ],
      "execution_count": 0,
      "outputs": []
    },
    {
      "cell_type": "code",
      "metadata": {
        "trusted": true,
        "id": "_msJ9r1wIJN-",
        "colab_type": "code",
        "colab": {
          "base_uri": "https://localhost:8080/",
          "height": 102
        },
        "outputId": "d3a89bc3-5735-43a4-9b94-690022c6d026"
      },
      "source": [
        "cat_columns=train_df.select_dtypes(include='object').columns.tolist()\n",
        "cat_columns.extend(['Length_Employed']) #Considering the Length_Employed as Category increased the Accuracy\n",
        "# To specify categorical variables indexes\n",
        "cat_columns"
      ],
      "execution_count": 29,
      "outputs": [
        {
          "output_type": "execute_result",
          "data": {
            "text/plain": [
              "['Home_Owner',\n",
              " 'Income_Verified',\n",
              " 'Purpose_Of_Loan',\n",
              " 'Gender',\n",
              " 'Length_Employed']"
            ]
          },
          "metadata": {
            "tags": []
          },
          "execution_count": 29
        }
      ]
    },
    {
      "cell_type": "markdown",
      "metadata": {
        "id": "f12ljcPCIJOC",
        "colab_type": "text"
      },
      "source": [
        "*Learned from AV Hackathon Janatahack Solution*"
      ]
    },
    {
      "cell_type": "code",
      "metadata": {
        "trusted": true,
        "id": "C4jwfJbqIJOC",
        "colab_type": "code",
        "colab": {
          "base_uri": "https://localhost:8080/",
          "height": 374
        },
        "outputId": "390422dd-2149-4a0e-a76f-2bec06dab278"
      },
      "source": [
        "X = train_df.drop(columns=['Loan_ID','Interest_Rate'],axis=1)\n",
        "y = train_df['Interest_Rate']\n",
        "X_test = test_df.drop(columns=['Loan_ID'],axis=1)\n",
        "y_valid_pred = 0*y\n",
        "y_test_pred = 0\n",
        "accuracy = 0\n",
        "result={}\n",
        "#fitting catboost classifier model\n",
        "j=1\n",
        "model = CatBoostClassifier(n_estimators=1000,verbose=False,task_type='GPU',learning_rate=0.1)\n",
        "for train_index, test_index in skf.split(X, y):\n",
        "    # Create data for this fold\n",
        "    y_train, y_valid = y.iloc[train_index], y.iloc[test_index]\n",
        "    X_train, X_valid = X.iloc[train_index,:], X.iloc[test_index,:]\n",
        "    print( \"\\nFold \", j)\n",
        "    \n",
        "    # Run model for this fold\n",
        "    fit_model = model.fit( X_train, y_train, eval_set=(X_valid, y_valid),cat_features=cat_columns, use_best_model=True)\n",
        "    print( \"  N trees = \", model.tree_count_ )\n",
        "        \n",
        "    # Generate validation predictions for this fold\n",
        "    pred = fit_model.predict(X_valid)\n",
        "    y_valid_pred.iloc[test_index] = pred.reshape(-1)\n",
        "    print(accuracy_score(y_valid,pred))\n",
        "    accuracy+=accuracy_score(y_valid,pred)\n",
        "    # Accumulate test set predictions\n",
        "    y_test_pred += fit_model.predict(X_test)\n",
        "    result[j]=fit_model.predict(X_test)\n",
        "    j+=1\n",
        "results = y_test_pred / K  # Average test set predictions\n",
        "print(accuracy/5)"
      ],
      "execution_count": 30,
      "outputs": [
        {
          "output_type": "stream",
          "text": [
            "\n",
            "Fold  1\n",
            "  N trees =  735\n",
            "0.542267664779989\n",
            "\n",
            "Fold  2\n",
            "  N trees =  685\n",
            "0.5443369241068712\n",
            "\n",
            "Fold  3\n",
            "  N trees =  816\n",
            "0.5436978881382752\n",
            "\n",
            "Fold  4\n",
            "  N trees =  893\n",
            "0.5438196092751506\n",
            "\n",
            "Fold  5\n",
            "  N trees =  902\n",
            "0.544079608046012\n",
            "0.5436403388692594\n"
          ],
          "name": "stdout"
        }
      ]
    },
    {
      "cell_type": "code",
      "metadata": {
        "id": "URBArK8yLmm_",
        "colab_type": "code",
        "colab": {}
      },
      "source": [
        "prediction = pd.DataFrame()\n",
        "for i in range(1, 6):\n",
        "    prediction = pd.concat([prediction,pd.DataFrame(result[i])],axis=1)\n",
        "prediction.columns=['Split1','Split2','Split3','Split4','Split5']"
      ],
      "execution_count": 0,
      "outputs": []
    },
    {
      "cell_type": "code",
      "metadata": {
        "id": "gprp4noJKsbp",
        "colab_type": "code",
        "colab": {}
      },
      "source": [
        "submission.Interest_Rate=prediction.mode(axis=1)[0]\n",
        "submission.to_csv('CatBoost.csv',index = False)"
      ],
      "execution_count": 0,
      "outputs": []
    },
    {
      "cell_type": "code",
      "metadata": {
        "id": "Z1YTvq_Ab8Ua",
        "colab_type": "code",
        "colab": {}
      },
      "source": [
        ""
      ],
      "execution_count": 0,
      "outputs": []
    }
  ]
}